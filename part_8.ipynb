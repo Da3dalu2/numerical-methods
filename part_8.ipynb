{
 "cells": [
  {
   "cell_type": "markdown",
   "metadata": {},
   "source": [
    "# Parte 8\n",
    "Sperimentazione numerica relativa all'approssimazione ai minimi quadrati. Si impiegano le funzioni per la fattorizzazione LU."
   ]
  },
  {
   "cell_type": "code",
   "execution_count": 1,
   "metadata": {},
   "outputs": [],
   "source": [
    "addpath (\"./functions\");"
   ]
  },
  {
   "cell_type": "markdown",
   "metadata": {},
   "source": [
    "## Metodo delle equazioni normali\n",
    "\n",
    "Risoluzione di un sistema lineare sovradeterminato per determinare i coefficienti di un polinomio approssimato ai minimi quadrati con il metodo delle equazioni normali.\n",
    "\n",
    "    [a] = metodoEN(x, y, n)\n",
    "\n",
    "Output:\n",
    "- `a` vettore dei coefficienti del polinomio approssimante.\n",
    "\n",
    "Input:\n",
    "- `n` grado del polinomio approssimante,\n",
    "- `x` vettore delle ascisse,\n",
    "- `y` vettore delle ordinate.\n",
    "\n",
    "Si effettua la costruzione della matrice rettangolare di Vandermonde"
   ]
  },
  {
   "cell_type": "code",
   "execution_count": 2,
   "metadata": {},
   "outputs": [],
   "source": [
    "function [a] = NEmethod(x, y, n)\n",
    "\n",
    "l = length(x);\n",
    "H_completa = vander(x);\n",
    "\n",
    "%{\n",
    "dati n + 1 punti per il polinomio di grado n\n",
    "si prelevano le colonne da l-n a l\n",
    "il grado del polinomio determina le prime n colonne scartate\n",
    "%}\n",
    "\n",
    "H = H_completa(:, l - n : l); \n",
    "\n",
    "% Risolve il sistema delle equazioni normali H' ∗ Ha = H' y\n",
    "% con fattorizzazione di Cholesky\n",
    "A = H' * H;\n",
    "b = H' * y;\n",
    "[R, p] = chol(A);\n",
    "\n",
    "if p > 0 % A non è definita positiva\n",
    "    a = A \\ b;\n",
    "else % A è definita positiva\n",
    "    b1 = lsolve(R' , b);\n",
    "    a = usolve(R, b1);\n",
    "end\n",
    "\n",
    "l = length(x);\n",
    "\n",
    "H_completa = vander(x);\n",
    "H = H_completa(:, l - n : l); \n",
    "\n",
    "A = H' * H;\n",
    "b = H' * y;\n",
    "\n",
    "[R, p] = chol(A);\n",
    "\n",
    "b1 = lsolve(R' , b);\n",
    "a = usolve(R, b1);\n",
    "\n",
    "end"
   ]
  },
  {
   "cell_type": "markdown",
   "metadata": {},
   "source": [
    "## Metodo QR\n",
    "\n",
    "Risoluzione di un sistema lineare sovradeterminato per determinare i coefficienti di un polinomio approssimato ai minimi quadrati con il metodo QRLS.\n",
    "\n",
    "    [a] = metodoQR(x, y, n)\n",
    "\n",
    "- `n` grado del polinomio approssimante;\n",
    "- `a` vettore dei suoi coefficienti;\n",
    "\n",
    "Partendo dai sperimentali, coppie `(x,y)`:\n",
    "- `x` vettore delle ascisse;\n",
    "- `y` vettore delle ordinate.\n",
    "\n",
    "Si effettua la costruzione della matrice rettangolare di Vandermonde\n",
    "\n",
    "- `Q` matrice ortogonale\n",
    "- `R` matrice trapezoidale superiore\n",
    "- `R_1` matrice triangolare superiore, blocco di `R`\n",
    "- `y_1` vettore dei termini noti costruito a partire da `Q`\n",
    "- `y_1` vettore dei termini noti, blocco di dimensioni pari a `R_1`"
   ]
  },
  {
   "cell_type": "code",
   "execution_count": 3,
   "metadata": {},
   "outputs": [],
   "source": [
    "function [a] = QRmethod(x, y, n)\n",
    "\n",
    "l = length(x);\n",
    "H_completa = vander(x);\n",
    "\n",
    "%{\n",
    "dati n + 1 punti per il polinomio di grado n\n",
    "si prelevano le colonne da l-n a l. Il grado del \n",
    "polinomio determina le prime n colonne scartate\n",
    "%}\n",
    "H = H_completa(:, l - n : l);\n",
    "\n",
    "[Q, R] = qr(H);\n",
    "R_1 = R(1 : n + 1, :);\n",
    "y_1 = Q' * y;\n",
    "y_1 = y_1(1 : n + 1);\n",
    "\n",
    "a = usolve(R_1, y_1);\n",
    "\n",
    "end"
   ]
  },
  {
   "cell_type": "markdown",
   "metadata": {},
   "source": [
    "## Esercizio 1\n",
    "\n",
    "Si effettua un confronto tra i risultati ottenuti a partire dal metodo delle equazioni normali e della fattorizzazione QR, sia dal punto di vista qualitativo, tramite grafici dei polinomi risolventi, che dal punto di vista quantitativo tramite il calcolo dei residui."
   ]
  },
  {
   "cell_type": "code",
   "execution_count": 10,
   "metadata": {},
   "outputs": [
    {
     "name": "stdout",
     "output_type": "stream",
     "text": [
      "The degree of the polynomial must be greater than 1 and less than 5\n"
     ]
    },
    {
     "name": "stdin",
     "output_type": "stream",
     "text": [
      " degree: 3\n"
     ]
    },
    {
     "data": {
      "image/png": "[encoded data removed]",
      "text/plain": [
       "<IPython.core.display.Image object>"
      ]
     },
     "metadata": {},
     "output_type": "display_data"
    }
   ],
   "source": [
    "% Dati sperimentali\n",
    "\n",
    "%x = [-3.5, -3, -2, -1.5, -0.5, 0.5, 1.7, 2.5, 3]';\n",
    "%y = [-3.9, -4.8, -3.3, -2.5, 0.3, 1.8, 4, 6.9, 7.1]';\n",
    "%x = [-3.14, -2.4, -1.57, -0.7, -0.3, 0, 0.4, 0.7, 1.57]';\n",
    "%y = [0.02, -1, -0.9, -0.72, -0.2, -0.04, 0.65, 0.67, 1.1]';\n",
    "%x = linspace(0, 3, 12)';\n",
    "%y = exp(x_3 ).* cos(4 * x_3) + randn(12, 1);\n",
    "x = [1.001, 1.0012, 1.0013, 1.0014, 1.0015, 1.0016]';\n",
    "y = [-1.2, -0.95, -0.9, -1.15, -1.1, -1]';\n",
    "\n",
    "% campionamento di x in base ai dati sperimentali\n",
    "xx = linspace(min(x), max(x), 200)';\n",
    "\n",
    "% punti iniziali su grafico\n",
    "close\n",
    "figure (1)\n",
    "hold on\n",
    "plot(x, y, 'k*');\n",
    "\n",
    "% grado del polinomio\n",
    "disp(\"The degree of the polynomial must be greater than 1 and less than 5\");\n",
    "n = input(\" degree: \");\n",
    "% blocco 1\n",
    "[a_1] = NEmethod(x, y, n);\n",
    "[a_1_qr] = QRmethod(x, y, n);\n",
    "    \n",
    "yy_1 = polyval(a_1, xx);\n",
    "yy_1_qr = polyval(a_1_qr, xx);\n",
    "\n",
    "plot(xx, yy_1, \"g-\", xx, yy_1_qr, \"r--\");\n",
    "legend(\"punti\", \"metodoEN\",\"metodoQR\")"
   ]
  },
  {
   "cell_type": "code",
   "execution_count": 5,
   "metadata": {},
   "outputs": [
    {
     "name": "stdout",
     "output_type": "stream",
     "text": [
      "res_en =  0.23746\n",
      "res_qr =  0.22746\n"
     ]
    }
   ],
   "source": [
    "% residui\n",
    "res_en = norm(y - polyval(a_1, x))\n",
    "res_qr = norm(y - polyval(a_1_qr, x))"
   ]
  },
  {
   "cell_type": "markdown",
   "metadata": {},
   "source": [
    "## Esercizio 2\n",
    "\n",
    "Si effettua un confronto, a partire dai dati sperimentali forniti, tra la qualità delle approssimazioni fornite dalla retta di regressione, dall'approssimazione ai minimi quadrati  espressa tramite parabola e tramite basi esponenziali."
   ]
  },
  {
   "cell_type": "code",
   "execution_count": 6,
   "metadata": {},
   "outputs": [
    {
     "data": {
      "image/png": "[encoded data removed]",
      "text/plain": [
       "<IPython.core.display.Image object>"
      ]
     },
     "metadata": {},
     "output_type": "display_data"
    }
   ],
   "source": [
    "% Dati sperimentali\n",
    "x = [0.0004, 0.2507, 0.5008, 2.0007, 8.0013]';\n",
    "y = [0.0007, 0.0162, 0.0288, 0.0309, 0.0310]';\n",
    "\n",
    "% campionamento di x in base ai dati sperimentali\n",
    "xx = linspace(min(x), max(x));\n",
    "\n",
    "% dati iniziali su grafico\n",
    "close\n",
    "figure(1)\n",
    "hold on\n",
    "plot(x, y, 'k*');\n",
    "\n",
    "% retta di regressione\n",
    "[a_1] = QRmethod(x, y, 1);\n",
    "yy_1 = polyval(a_1, xx);\n",
    "\n",
    "% parabola di approssimazione\n",
    "[a_2] = QRmethod(x, y, 2);\n",
    "yy_2 = polyval(a_2, xx);\n",
    "\n",
    "% approssimazione ai minimi quadrati espressa \n",
    "% in termini di basi esponenziali\n",
    "\n",
    "n = 2;\n",
    "% per pol del tipo a * x + b * exp(-x) + c * exp(- 2 * x)\n",
    "M = [ones(size(x)), exp(-x), exp(-2*x)];\n",
    "% per polinomi del tipo a * x^3 + b * x^2 + c * x^1 + d * x^0 \n",
    "C = vander(x);\n",
    "% dato che lo si vuole valutare di un grado <4 si taglia la matrice\n",
    "F = C(:, 3 : 5);\n",
    "\n",
    "[Q, R] = qr(M);\n",
    "R_1 = R(1: n + 1 ,:);\n",
    "y_1 = Q' * y;\n",
    "y_1 = y_1( 1 : n + 1);\n",
    "a = usolve(R_1, y_1);\n",
    "yy_3 = a(1) + a(2) * exp(-xx) + a(3) * exp(-2 * xx);\n",
    "\n",
    "plot(xx, yy_1, \"g-\", xx, yy_2, \"r--\", xx, yy_3, \"b--\");\n",
    "legend(\"punti\", \"retta\", \"parabola\", \"basi esp.\")"
   ]
  },
  {
   "cell_type": "code",
   "execution_count": 7,
   "metadata": {},
   "outputs": [
    {
     "name": "stdout",
     "output_type": "stream",
     "text": [
      "E_1 =    4.848327762313227e-04\n",
      "E_2 =    2.364635594024985e-04\n",
      "E_3 =    1.224973312890183e-05\n"
     ]
    }
   ],
   "source": [
    "% norma euclidea al quadrato dei vettori residui\n",
    "% calcolo errori quadratici commessi a causa della scelta dei nodi\n",
    "format long\n",
    "E_1 = sum((polyval(a_1, x) - y).^2)\n",
    "E_2 = sum((polyval(a_2, x) - y).^2)\n",
    "E_3 = sum((a(1) + a(2) * exp(-x) + a(3) * exp(-2 * x) - y).^2 )"
   ]
  },
  {
   "cell_type": "markdown",
   "metadata": {},
   "source": [
    "Dato che $E_3 < E_2 < E_1$ si ha la conferma che la migliore approssimazione dei punti forniti è data dalla curva nella base esponenziale mentre la peggiore è data dalla retta di regressione."
   ]
  },
  {
   "cell_type": "markdown",
   "metadata": {},
   "source": [
    "## Esercizio 3"
   ]
  },
  {
   "cell_type": "code",
   "execution_count": 8,
   "metadata": {},
   "outputs": [
    {
     "data": {
      "image/png": "[encoded data removed]",
      "text/plain": [
       "<IPython.core.display.Image object>"
      ]
     },
     "metadata": {},
     "output_type": "display_data"
    }
   ],
   "source": [
    "% dati sperimentali e dati perturbati\n",
    "x = [10 : .5/5 : 10.5]';\n",
    "y = [11.0320, 11.1263, 11.1339, 11.1339, 11.1993, 11.1844]';\n",
    "\n",
    "\n",
    "xx = linspace(min(x), max(x));\n",
    "\n",
    "n = 4;\n",
    "\n",
    "[a_1_qr] = QRmethod(x, y, n);\n",
    "[a_1] = NEmethod(x, y, n);\n",
    "\n",
    "yy_qr = polyval(a_1_qr, xx);\n",
    "yy = polyval(a_1, xx);\n",
    "\n",
    "close\n",
    "figure(1)\n",
    "hold on\n",
    "plot(x, y, \"k*\");\n",
    "\n",
    "plot(xx, yy, \"r--\", xx, yy_qr, \"b-.\");\n",
    "legend(\"punti\", \"eq. normali\", \"QRLS\",\"location\", \"eastoutside\");"
   ]
  },
  {
   "cell_type": "code",
   "execution_count": 9,
   "metadata": {},
   "outputs": [
    {
     "data": {
      "image/png": "[encoded data removed]",
      "text/plain": [
       "<IPython.core.display.Image object>"
      ]
     },
     "metadata": {},
     "output_type": "display_data"
    }
   ],
   "source": [
    "x(2) = x(2) + 0.013;\n",
    "y(2) = y(2) - 0.001;\n",
    "\n",
    "% [a_2] = polyfit(x, y, n); BADLY CONDITIONED\n",
    "[a_1_qr] = QRmethod(x, y, n);\n",
    "[a_1] = NEmethod(x, y, n);\n",
    "\n",
    "% yy_2 = polyval(a_2, n);\n",
    "yy_qr = polyval(a_1_qr, xx);\n",
    "yy = polyval(a_1, xx);\n",
    "\n",
    "figure(2)\n",
    "hold on\n",
    "plot(x, y, \"k*\");\n",
    "\n",
    "plot(xx, yy, \"r--\", xx, yy_qr, \"b-.\");\n",
    "legend(\"punti\", \"eq. normali\", \"QRLS\", \"location\", \"eastoutside\");"
   ]
  },
  {
   "cell_type": "markdown",
   "metadata": {},
   "source": [
    "Si nota che il risultato del metodo QRLS mantiene una buona accuratezza anche a fronte della perturbazione mentre con il metodo delle equazioni normali si ottiene una peggiore approssimazione a seguito della perturbazione dei dati."
   ]
  }
 ],
 "metadata": {
  "kernelspec": {
   "display_name": "Octave",
   "language": "octave",
   "name": "octave"
  },
  "language_info": {
   "file_extension": ".m",
   "help_links": [
    {
     "text": "GNU Octave",
     "url": "https://www.gnu.org/software/octave/support.html"
    },
    {
     "text": "Octave Kernel",
     "url": "https://github.com/Calysto/octave_kernel"
    },
    {
     "text": "MetaKernel Magics",
     "url": "https://metakernel.readthedocs.io/en/latest/source/README.html"
    }
   ],
   "mimetype": "text/x-octave",
   "name": "octave",
   "version": "5.2.0"
  }
 },
 "nbformat": 4,
 "nbformat_minor": 4
}
