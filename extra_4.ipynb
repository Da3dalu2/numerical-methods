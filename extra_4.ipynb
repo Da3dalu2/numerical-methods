{
 "cells": [
  {
   "cell_type": "markdown",
   "metadata": {},
   "source": [
    "# Tutoraggio 4"
   ]
  },
  {
   "cell_type": "code",
   "execution_count": 2,
   "metadata": {},
   "outputs": [],
   "source": [
    "addpath(\"./functions\");"
   ]
  },
  {
   "cell_type": "markdown",
   "metadata": {},
   "source": [
    "## Esercizio 1\n",
    "\n",
    "Sia assegnata la funzione:\n",
    "\n",
    "$$\n",
    "f(x)=\\frac{1}{\\pi} \\int_{0}^{\\pi} \\cos (x \\sin (t)) d t, \\quad x \\in[0,5]\n",
    "$$"
   ]
  },
  {
   "cell_type": "markdown",
   "metadata": {},
   "source": [
    "### Punto a\n",
    "\n",
    "Si considerino i seguenti valori di $x$: $x_0 = 0$, $x_1 = 54$, $x_2 = 52$, $x_3 = 15$, $x_4 = 5$.\n",
    "\n",
    "Calcolare una approssimazione di $f(x_i), i = 0, \\dotsc, 4$ utilizzando la formula dei trapezi composita a nodi equispaziati, selezionando opportunamente il numero di nodi per ottenere un’approssimazione di $f(x_i)$ entro una tolleranza di $1.e-2$.\n",
    "\n",
    "Per ogni $i = 0, \\dotsc, 4$ calcolare quindi l’errore relativo tra il valore di $f(x_i)$ calcolato e il valore esatto fornito dalla funzione `besselj(0, x_i)`."
   ]
  },
  {
   "cell_type": "code",
   "execution_count": 5,
   "metadata": {},
   "outputs": [
    {
     "name": "stdout",
     "output_type": "stream",
     "text": [
      "error: y(1.01): subscripts must be either integers 1 to (2^63)-1 or logicals\n",
      "error: called from\n",
      "    trap_composite at line 8 column 3\n",
      "error: 'f_approx' undefined near line 1 column 1\n",
      "error: 'f_approx' undefined near line 1 column 26\n"
     ]
    }
   ],
   "source": [
    "x = [0 5/4 5/2 15/4 5];\n",
    "\n",
    "for i = 1:5\n",
    "    f = @(t) 1/pi * cos(x(i) * sin(t)); % integrale definito in funzione di t\n",
    "    [I, N] = trap_composite(f, 0, pi, 1.e-2);\n",
    "    f_approx(i) = I;\n",
    "end\n",
    "\n",
    "f_approx\n",
    "f_esatta = besselj(0, x);\n",
    "err_rel = abs(f_esatta - f_approx) ./ abs(f_esatta);"
   ]
  },
  {
   "cell_type": "markdown",
   "metadata": {},
   "source": [
    "### Punto b\n",
    "\n",
    "Determinare il polinomio di interpolazione dei dati $(x_i , f(x_i)), i = 0, 1, 2, 3, 4$ e rappresentarlo in un grafico insieme alla funzione `besselj(0, x)`,$ x \\in [0,5]$"
   ]
  },
  {
   "cell_type": "code",
   "execution_count": 8,
   "metadata": {},
   "outputs": [
    {
     "data": {
      "image/png": "[encoded data removed]",
      "text/plain": [
       "<IPython.core.display.Image object>"
      ]
     },
     "metadata": {},
     "output_type": "display_data"
    }
   ],
   "source": [
    "t = linspace(0, 5);\n",
    "figure\n",
    "y_interp = interp_lagrange(x, f_esatta, t);\n",
    "plot( t, besselj(0,t), ...\n",
    "      t, y_interp, ...\n",
    "      x, f_esatta, \"r*\");\n",
    "box off\n",
    "legend(\"funzione\", \"polinomio interpolante\");"
   ]
  },
  {
   "cell_type": "code",
   "execution_count": 11,
   "metadata": {},
   "outputs": [
    {
     "name": "stdout",
     "output_type": "stream",
     "text": [
      "err_ass_inf =    2.314468290792338e-02\n"
     ]
    }
   ],
   "source": [
    "format long\n",
    "err_ass_inf = max(abs(y_interp - besselj(0, t)))"
   ]
  },
  {
   "cell_type": "markdown",
   "metadata": {},
   "source": [
    "### Punto c\n",
    "\n",
    "Calcolare la costante di Lebesgue dell’insieme di punti $x_i = \\frac{5i}{n-1}, i = 0, \\dotsc, n-1$ per `n = 10 : 5 : 25`. Rappresentare in un grafico in scala semilogaritmica le costanti di Lebesgue ottenute al variare di $n$."
   ]
  },
  {
   "cell_type": "code",
   "execution_count": 15,
   "metadata": {},
   "outputs": [
    {
     "data": {
      "image/png": "[encoded data removed]",
      "text/plain": [
       "<IPython.core.display.Image object>"
      ]
     },
     "metadata": {},
     "output_type": "display_data"
    }
   ],
   "source": [
    "n = (10:5:25);\n",
    "N = length(n);\n",
    "% discretizzazione dell'intervallo per il calcolo della costante di Lebesgue\n",
    "t = linspace(0, 5);\n",
    "\n",
    "for k = 1:N\n",
    "\n",
    "    x = 5 * (0:1:n(k) - 1) / (n(k) - 1);\n",
    "    %L_temp = 1:n(k) % calcolo L_k base di Lagrange\n",
    "    L_temp = t * 0;\n",
    "    for j= 1:n(k)\n",
    "        \n",
    "        % escluso il vettore con valutazione x(j)\n",
    "        x_temp = [x(1:j-1), x(j+1:end)];\n",
    "        % coefficienti dell'unico polinomio che ha come radici quelle in x_(i) tranne x(j)\n",
    "        p_j = poly(x_temp);\n",
    "        % numeratore è l'unico polinomio che ha come radici quelle in x_temp\n",
    "        % denominatore è il numeratore valutato in x(j) con polyval\n",
    "        p_j = p_j / polyval(p_j, x(j));\n",
    "        % la costante di Lebesgue dei nodi x(1),...,x(n(k)) si trova con\n",
    "        % L = max_{t nell'intervallo} somma_{j da 1 a n(k)} |p_j(t)|\n",
    "        L_temp = L_temp + abs(polyval(p_j, t));\n",
    "    end\n",
    "    \n",
    "    L(k) = max(L_temp); % vettore delle costanti di Lebesgue per ciascun nodo\n",
    "end\n",
    "\n",
    "figure\n",
    "semilogy( n, L, ...\n",
    "          n, 2.^n./(exp(1) * (n-1).*log(n-1)))\n",
    "box off\n",
    "legend(\"Costante di Lebesgue\", \"crescita asintotica teorica\");"
   ]
  },
  {
   "cell_type": "markdown",
   "metadata": {},
   "source": [
    "La costante di Lebesgue fornisce una stima dell'errore di interpolazione che si commette a partire da un insieme di nodi di interpolazione scelti."
   ]
  }
 ],
 "metadata": {
  "kernelspec": {
   "display_name": "Octave",
   "language": "octave",
   "name": "octave"
  },
  "language_info": {
   "file_extension": ".m",
   "help_links": [
    {
     "text": "GNU Octave",
     "url": "https://www.gnu.org/software/octave/support.html"
    },
    {
     "text": "Octave Kernel",
     "url": "https://github.com/Calysto/octave_kernel"
    },
    {
     "text": "MetaKernel Magics",
     "url": "https://metakernel.readthedocs.io/en/latest/source/README.html"
    }
   ],
   "mimetype": "text/x-octave",
   "name": "octave",
   "version": "5.2.0"
  }
 },
 "nbformat": 4,
 "nbformat_minor": 4
}
