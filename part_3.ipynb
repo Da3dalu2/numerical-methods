{
 "cells": [
  {
   "cell_type": "markdown",
   "metadata": {},
   "source": [
    "# Parte 3\n",
    "\n",
    "## Esercizio 1\n",
    "Dire per quali valori di  la soluzione dell’equazione $x^2 - 4x + \\alpha = 0$ risulta essere un problema mal condizionato.\n",
    "\n",
    "\n",
    "### Svolgimento\n",
    "\n",
    "Un indice ci condizionamento elevato indica che ci trova di fronte ad un problema mal condizionato.\n",
    "\n",
    "Per il calcolo dell'indice di condizionamento si ricorre alla seguente formula:\n",
    "\n",
    "\n",
    "$$ K(\\alpha) = \\left| \\frac{f'(\\alpha)}{f(\\alpha)} \\alpha \\right| $$\n",
    "\n",
    "Per valutare il malcondizionamento del problema bisogna considerare le due radici dell'equazione date da:\n",
    "\n",
    "\n",
    "$$ x_{1,2} = 2 \\pm \\sqrt{4 - \\alpha} $$\n",
    "\n",
    "Bisogna studiare per quali valori di  l'indice di condizionamento cresce esponenzialmente. Si ottiene che l'indice di condizionamento tende a infinito per $2 - \\sqrt{4 -\\alpha} \\to 0,\\ \\Rightarrow \\alpha = 4$ .\n",
    "\n",
    "$\\alpha$ assume questo valore se si ha che $|{\\alpha}|$ è più piccolo dello spacing in $[2^2,2^3]$, in quel caso infatti  si approssima a 4. \n",
    "\n",
    "In generale il problema risulta mal condizionato se  è più piccolo dello spacing in $[2^2,2^3]$. \n",
    "\n",
    "Nel secondo caso si ottiene un indice di condizionamento con un denominatore che non si annulla mai. Perciò la valutazione di  risulta ben condizionata per qualunque valor di ."
   ]
  },
  {
   "cell_type": "markdown",
   "metadata": {},
   "source": [
    "## Esercizio 2\n",
    "\n",
    "Mostrare, con degli esempi, che la risoluzione del sistema lineare\n",
    "\n",
    "\n",
    "$$ \\begin{cases} 3x + 5y = 10 \\\\ 3.01x + 5.01y = 1 \\end{cases} $$\n",
    "\n",
    "al variare (per esempio) del coefficiente di  nella seconda equazione risulta essere un problema mal condizionato. Mostrare inoltre cosa si può dire del seguente sistema:\n",
    "\n",
    "\n",
    "$$ \\begin{cases} 5x + 10y = 15 \\\\ 2x + y = 1 \\end{cases} $$"
   ]
  },
  {
   "cell_type": "code",
   "execution_count": 9,
   "metadata": {},
   "outputs": [
    {
     "name": "stdout",
     "output_type": "stream",
     "text": [
      "x =\n",
      "\n",
      "  -2.255000000000211e+03\n",
      "   1.355000000000127e+03\n",
      "\n"
     ]
    }
   ],
   "source": [
    "format long e\n",
    "A = [3 5; 3.01 5.01]; % si memorizzano su ciascuna riga i coefficienti dell'equazione\n",
    "b = [10; 1]; % si memorizzano i termini noti a parte\n",
    "x = A \\ b % risolve un sistema lineare"
   ]
  },
  {
   "cell_type": "markdown",
   "metadata": {},
   "source": [
    "Si costruisce la matrice perturbata $A+ \\Delta A = A_p$ e si ottiene la relativa soluzione perturbata $x_{p}$."
   ]
  },
  {
   "cell_type": "code",
   "execution_count": 10,
   "metadata": {},
   "outputs": [
    {
     "name": "stdout",
     "output_type": "stream",
     "text": [
      "x_p =\n",
      "\n",
      "  -6.442857142857080e+02\n",
      "   3.885714285714247e+02\n",
      "\n"
     ]
    }
   ],
   "source": [
    "delta_A = [0 0; 0.01 0]; % fattore di perturbazione\n",
    "A_p = A + delta_A; % matrice perturbata\n",
    "x_p = A_p\\b % soluzione perturbata"
   ]
  },
  {
   "cell_type": "markdown",
   "metadata": {},
   "source": [
    "Si calcola l'errore che si ha quando si sostituisce la matrice $A$ con la matrice $A + \\Delta A$, ovvero l'errore relativo è dato da:\n",
    "\n",
    "\n",
    "$$ \\varepsilon_r = \\frac{\\|(A + \\Delta A) - A \\|}{\\|A\\|} $$"
   ]
  },
  {
   "cell_type": "code",
   "execution_count": 21,
   "metadata": {},
   "outputs": [
    {
     "name": "stdout",
     "output_type": "stream",
     "text": [
      "Errore sui dati: 0.12 %\n",
      "Errore relativo: 71.43 %"
     ]
    }
   ],
   "source": [
    "% si è scelta la norma ad infinito\n",
    "err_dati = norm(delta_A,inf) / norm(A,inf);\n",
    "err_sol = norm(x-x_p,inf) / norm(x,inf);\n",
    "\n",
    "fprintf(\"Errore sui dati: %.2f %%\\n\", err_dati*100)\n",
    "fprintf(\"Errore relativo: %.2f %%\", err_sol*100)"
   ]
  },
  {
   "cell_type": "markdown",
   "metadata": {},
   "source": [
    "La perturbazione dovuta a `err_dati` dello 0.12% provoca un `err_sol` del 70% nel passaggio dal valore esatto $x$ al valore perturbato $x_p$.\n",
    "Il condizionamento di questo problema si studia con l'indice di condizionamento della matrice."
   ]
  },
  {
   "cell_type": "code",
   "execution_count": 31,
   "metadata": {},
   "outputs": [
    {
     "name": "stdout",
     "output_type": "stream",
     "text": [
      "Indice di condizionamento: 1.975302e+10"
     ]
    }
   ],
   "source": [
    "fprintf(\"Indice di condizionamento: %.6e\", cond(A,inf))\n",
    "% oppure norm(A*inv(A), inf)"
   ]
  },
  {
   "cell_type": "markdown",
   "metadata": {},
   "source": [
    "Il valore dell'indice di condizionamento amplifica il piccolo inevitabile errore sui dati commesso. Rappresenta un indice piuttosto elevato.\n",
    "\n",
    "Se i coefficienti della matrice nascono da misure sperimentali e la matrice ha un indice di condizionamento elevato allora i risultati saranno poco affidabili (un problema si dice mal condizionato quando ad una piccola perturbazione sui dati corrisponde una grande variazione dei risultati)"
   ]
  },
  {
   "cell_type": "markdown",
   "metadata": {},
   "source": [
    "### Rappresentazione grafica\n",
    "\n",
    "Si può ora realizzare una rappresentazione grafica della discrepanza dei risultati."
   ]
  },
  {
   "cell_type": "code",
   "execution_count": 4,
   "metadata": {},
   "outputs": [
    {
     "data": {
      "image/png": "[encoded data removed]",
      "text/plain": [
       "<IPython.core.display.Image object>"
      ]
     },
     "metadata": {},
     "output_type": "display_data"
    }
   ],
   "source": [
    "xx = linspace(-2255.005, -2254.995,100);\n",
    "yy = (10 - 3 * xx ) / 5;\n",
    "yy1 = (1 - 3.01 * xx) / 5.01;\n",
    "yy2 = (1 - 3.02 * xx) / 5.01;\n",
    "\n",
    "plot(xx,yy,'b-',xx,yy1,'r--')\n",
    "title('Grafico delle due rette nel sistema non perturbato');\n",
    "legend(\"yy\", \"yy1\");\n",
    "box off"
   ]
  },
  {
   "cell_type": "code",
   "execution_count": 5,
   "metadata": {},
   "outputs": [
    {
     "data": {
      "image/png": "[encoded data removed]",
      "text/plain": [
       "<IPython.core.display.Image object>"
      ]
     },
     "metadata": {},
     "output_type": "display_data"
    }
   ],
   "source": [
    "figure\n",
    "plot(xx,yy,'b-',xx,yy2,'r--')\n",
    "title('Grafico delle due rette nel sistema perturbato');\n",
    "legend(\"yy\", \"yy2\");\n",
    "box off"
   ]
  },
  {
   "cell_type": "markdown",
   "metadata": {},
   "source": [
    "### Sistema 2\n",
    "Si memorizzano i dati, si calcola l'errore sui dati e sulle soluzioni introducendo le stesse perturbazioni viste in precedenza."
   ]
  },
  {
   "cell_type": "code",
   "execution_count": 23,
   "metadata": {},
   "outputs": [
    {
     "name": "stdout",
     "output_type": "stream",
     "text": [
      "x_2 =\n",
      "\n",
      "   1.00000\n",
      "   1.00000\n",
      "\n",
      "x_p_2 =\n",
      "\n",
      "   1.00658\n",
      "   0.98684\n",
      "\n",
      "Errore sui dati: 0.67 %\n",
      "Errore relativo: 1.32 %\n",
      "Indice di condizionamento: 6.00 \n"
     ]
    }
   ],
   "source": [
    "A_2 = [5 10; 4 2];\n",
    "b_2 = [15; 6];\n",
    "x_2 = A_2 \\ b_2\n",
    "\n",
    "A_p_2 = [5 10.1; 4 2];\n",
    "x_p_2 = A_p_2 \\ b_2\n",
    "\n",
    "% si è scelta la norma ad infinito\n",
    "err_dati_2 = norm(A_2 - A_p_2, inf) / norm(A_2, inf);\n",
    "err_sol_2 = norm(x_2 - x_p_2, inf) / norm(x_2, inf);\n",
    "\n",
    "fprintf(\"Errore sui dati: %.2f %%\\n\", err_dati_2*100)\n",
    "fprintf(\"Errore relativo: %.2f %%\\n\", err_sol_2*100)\n",
    "fprintf(\"Indice di condizionamento: %.2f \\n\", cond(A_2, \"inf\"))"
   ]
  },
  {
   "cell_type": "markdown",
   "metadata": {},
   "source": [
    "Sia l'errore sui dati che l'errore relativo risultano molto piccoli. Lo stesso vale per l'indice di condizionamento relativo alla risoluzione di questo secondo sistema lineare. Ciò significa che l'errore sui dati subirà un fattore di amplificazione ridotto.\n",
    "\n",
    "Si può concludere che il problema risulta ben condizionato."
   ]
  },
  {
   "cell_type": "markdown",
   "metadata": {},
   "source": [
    "## Esercizio 4"
   ]
  },
  {
   "cell_type": "code",
   "execution_count": 27,
   "metadata": {},
   "outputs": [
    {
     "name": "stdout",
     "output_type": "stream",
     "text": [
      "x =\n",
      "\n",
      "   136422.33758\n",
      "   -25999.49957\n",
      "     1237.44420\n",
      "\n",
      "x_p =\n",
      "\n",
      "   67.09867\n",
      "   -9.66740\n",
      "    0.31242\n",
      "\n",
      "Errore sui dati: 0.000012 %\n",
      "Errore relativo: 99.95 %\n",
      "Indice di condizionamento: 1.975e+10 \n"
     ]
    }
   ],
   "source": [
    "clear A b x A_p x_p delta_A err_dati err_sol cond_A\n",
    "A = [6 63 662.2; 63 662.2 6967.8; 662.2 6967.8 73393.5664];\n",
    "b = [1.1; 2.33; 1.7];\n",
    "x = A \\ b\n",
    "\n",
    "delta_A = zeros(3); delta_A(1,1) = 0.01;\n",
    "A_p = A + delta_A; % matrice perturbata\n",
    "x_p = A_p \\ b % soluzione perturbata\n",
    "\n",
    "% si è scelta la norma ad infinito\n",
    "err_dati = norm(delta_A,inf) / norm(A,inf);\n",
    "err_sol = norm(x-x_p,inf) / norm(x,inf);\n",
    "\n",
    "fprintf(\"Errore sui dati: %.6f %%\\n\", err_dati * 100)\n",
    "fprintf(\"Errore relativo: %.2f %%\\n\", err_sol * 100)\n",
    "fprintf(\"Indice di condizionamento: %.3e \\n\", cond(A, \"inf\"))"
   ]
  },
  {
   "cell_type": "markdown",
   "metadata": {},
   "source": [
    "## Esercizio 5\n",
    "\n",
    "In questo esercizio a differenza dei due precedenti si perturba il dato relativo al vettore dei termini noti e si calcola l'errore relativo sui dati forniti nel vettore dei termini noti."
   ]
  },
  {
   "cell_type": "code",
   "execution_count": 48,
   "metadata": {},
   "outputs": [
    {
     "name": "stdout",
     "output_type": "stream",
     "text": [
      "Indice di condizionamento: 2.84e+04\n",
      "\n",
      "x =\n",
      "\n",
      "    -4.0000\n",
      "    60.0000\n",
      "  -180.0000\n",
      "   140.0000\n",
      "\n",
      "x_p =\n",
      "\n",
      "    1.1600\n",
      "    3.0000\n",
      "  -43.8000\n",
      "   51.8000\n",
      "\n",
      "Errore sui dati: 1.000 %\n",
      "Errore relativo: 75.67 %"
     ]
    }
   ],
   "source": [
    "clear A b x A_p x_p delta_A err_dati err_sol cond_A\n",
    "A = hilb(4);\n",
    "b = ones(4,1);\n",
    "\n",
    "fprintf(\"Indice di condizionamento: %.2e\\n\\n\", cond(A,inf))\n",
    "x = A\\b\n",
    "\n",
    "delta_b = 0.01 * [1; -1; 1; -1]; % fattore di perturbazione\n",
    "b_p = b + delta_b;\n",
    "x_p = A \\ b_p\n",
    "\n",
    "err_dati = norm(delta_b, inf) / norm(b, inf); % si è scelta la norma ad infinito\n",
    "err_sol = norm(x - x_p, inf) / norm(x, inf);\n",
    "\n",
    "% disp(err_dati * 100)\n",
    "fprintf(\"Errore sui dati: %.3f %%\\n\", err_dati * 100)\n",
    "fprintf(\"Errore relativo: %.2f %%\", err_sol * 100)"
   ]
  },
  {
   "cell_type": "markdown",
   "metadata": {},
   "source": [
    "Si ottiene che il problema risulta mal condizionato dato che l'indice è particolarmente alto. Inoltre l'errore commesso nell'approssimare i risultati delle operazioni è particolarmente alto."
   ]
  },
  {
   "cell_type": "markdown",
   "metadata": {},
   "source": [
    "## Esercizio 6\n",
    "\n",
    "Dati due algoritmi di calcolo:\n",
    "\n",
    "$fl(fl(a + b)\\ *\\ fl(a - b))$\n",
    "\n",
    "$fl(fl(a^2) - fl((b^2))$\n",
    "\n",
    "Si vuole determinare l'intervallo in cui il primo algoritmo risulta numericamente più stabile del secondo.\n",
    "Si impiega il concetto di **indice algoritmico** e l'**espressione esplicita** di $fl_A(x)$.\n",
    "\n",
    "Nel primo caso si calcola l'indice algoritmico e si ottiene che $I_{ALG} = 3$ dato che $\\varepsilon_{alg} \\le |\\varepsilon_1| + |\\varepsilon_2| + |\\varepsilon_3| \\le 3u$.\n",
    "\n",
    "Nel secondo caso si ottiene che l'indice algoritmico varia in base ai valori assunti da $a$ e $b$. In particolare:\n",
    "\n",
    "$$ I_{ALG} = 1 + \\left| \\frac{a^2}{a^2 - b^2} \\right| + \\left| \\frac{b^2}{a^2 -b^2} \\right| $$"
   ]
  },
  {
   "cell_type": "markdown",
   "metadata": {},
   "source": [
    "## Esercizio 7\n",
    "\n",
    "Si implementa un algoritmo di calcolo di un esponenziale che impiega lo sviluppo in serie di Taylor, detto `esp_taylor`.\n",
    "\n",
    "Questo algoritmo va confrontato con l'output della funzione di libreria `exp` in termini di errore relativo\n",
    "\n",
    "Si effettua un campionamento di $x$ su un numero di punti arbitrario e si calcolano i valori dell'esponenziale in quei punti."
   ]
  },
  {
   "cell_type": "code",
   "execution_count": 49,
   "metadata": {},
   "outputs": [],
   "source": [
    "% dati iniziali\n",
    "a = -10; b = 10; num_camp = 1000; % campionamento di x in [a,b]\n",
    "xc = linspace(a,b,num_camp);      % vettore con i valori campionati di x\n",
    "exp_app = zeros(1, num_camp);     % vettore in cui memorizzare i ris.\n",
    "exp_app2 = zeros(1, num_camp);    % vettore in cui memorizzare i ris.\n",
    "nt = zeros(1, num_camp);          % indice n della serie\n",
    "nt2 = zeros(1, num_camp);         % indice n della serie"
   ]
  },
  {
   "cell_type": "markdown",
   "metadata": {},
   "source": [
    "### Implementazione dell'algoritmo per il calcolo dell'esponenziale\n",
    "Si impiega come criterio di arresto il confronto fra l'approssimazione ottenuta ad una certa iterazione e quella successiva, quando i valori calcolati nelle due iterazioni coincidono non ha senso proseguire."
   ]
  },
  {
   "cell_type": "code",
   "execution_count": 57,
   "metadata": {},
   "outputs": [],
   "source": [
    "function [appr, n]=exp_taylor(x)\n",
    "    old_appr = 0.e0;\n",
    "    appr = 1.e0;\n",
    "    tmp = 1.e0;\n",
    "    n = 0;\n",
    "\n",
    "    while old_appr ~= appr \n",
    "        old_appr = appr;\n",
    "        n = n + 1;\n",
    "        tmp = tmp * x/n;\n",
    "        appr = old_appr + tmp;\n",
    "    end\n",
    "end"
   ]
  },
  {
   "cell_type": "markdown",
   "metadata": {},
   "source": [
    "- Si calcola:\n",
    "    - $n!$ come $(n-1)! \\cdot n$\n",
    "    - $x^n$ come $x^{(n-1)} \\cdot x$\n",
    "- Ad ogni passo si impiega la formula: \n",
    "\n",
    "\n",
    "$$ Exp_n = Exp_{n-1} + \\frac{x^n}{n!}, per\\ n \\ge 1 $$"
   ]
  },
  {
   "cell_type": "markdown",
   "metadata": {},
   "source": [
    "### Implementazione della versione migliorata dell'algoritmo per il calcolo dell'esponenziale\n",
    "Maggiore accuratezza grazie all'impiego di un'operazione più stabile,\n",
    "\n",
    "\n",
    "$$ e^x = \\frac{1}{e^{-x}} $$\n",
    "\n",
    "per il calcolo dell'esponenziale nel caso di esponente negativo."
   ]
  },
  {
   "cell_type": "code",
   "execution_count": 62,
   "metadata": {},
   "outputs": [],
   "source": [
    "function [appr_new, n] = exp_taylor_mk2(x)\n",
    "    [appr_new, n] = exp_taylor(-x);\n",
    "    appr_new = 1.e0 / appr_new; % exp(-x)=1/exp(x)\n",
    "end"
   ]
  },
  {
   "cell_type": "markdown",
   "metadata": {},
   "source": [
    "### Applicazione degli algoritmi"
   ]
  },
  {
   "cell_type": "code",
   "execution_count": 69,
   "metadata": {},
   "outputs": [],
   "source": [
    "% calcolo con funzione di libreria\n",
    "exp_esatto = exp(xc);\n",
    "\n",
    "% calcolo con exp_taylor sul vettore delle ascisse e memorizzazione del\n",
    "% risultato nel vettore exp_app\n",
    "for i = 1:num_camp\n",
    "   [exp_app(i), nt(i)] = exp_taylor(xc(i));\n",
    "end\n",
    "\n",
    "% calcolo errore relativo per il confronto tra il primo algoritmo e la\n",
    "% funzione di libreria\n",
    "err_rel_1 = abs(exp_app - exp_esatto)./abs(exp_esatto);\n",
    "\n",
    "% calcolo con esp_taylor se l'esponente è positivo altrimenti con\n",
    "% exp_taylor_mk2 se l'esponente è negativo.\n",
    "for i = 1:num_camp\n",
    "    if xc(i) >= 0\n",
    "        [exp_app2(i), nt2(i)] = exp_taylor(xc(i));\n",
    "    else\n",
    "        [exp_app2(i), nt2(i)] = exp_taylor_mk2(xc(i));\n",
    "    end\n",
    "end \n",
    "\n",
    "% calcolo errore relativo per il confronto tra il primo algoritmo e la\n",
    "% versione migliorata\n",
    "err_rel_2 = abs(exp_app2 - exp_esatto)./abs(exp_esatto); "
   ]
  },
  {
   "cell_type": "markdown",
   "metadata": {},
   "source": [
    "### Rappresentazione grafica dei risultati"
   ]
  },
  {
   "cell_type": "code",
   "execution_count": 63,
   "metadata": {},
   "outputs": [
    {
     "data": {
      "image/png": "[encoded data removed]",
      "text/plain": [
       "<IPython.core.display.Image object>"
      ]
     },
     "metadata": {},
     "output_type": "display_data"
    }
   ],
   "source": [
    "figure(1)\n",
    "plot(xc,exp_esatto,'r',xc,exp_app,'--g')\n",
    "xlabel('x')\n",
    "ylabel('exp')\n",
    "title('Approssimazione esponenziale con serie di Taylor troncata')\n",
    "legend('exp_{es}','exp_{app}')\n",
    "box off"
   ]
  },
  {
   "cell_type": "markdown",
   "metadata": {},
   "source": [
    "Il calcolo dell'esponenziale che sfrutta la serie di Taylor dà risultati quasi identici rispetto alla funzione di libreria se si considera un grado di definizione modesto.\n",
    "\n",
    "In realtà, come si nota dalle figure 2 e 3, il risultato ottenuto diverge notevolmente da quello della funzione di libreria. In particolare l'approssimazione per gli esponenziali con esponente negativo è pessima."
   ]
  },
  {
   "cell_type": "code",
   "execution_count": 65,
   "metadata": {},
   "outputs": [
    {
     "data": {
      "image/png": "[encoded data removed]",
      "text/plain": [
       "<IPython.core.display.Image object>"
      ]
     },
     "metadata": {},
     "output_type": "display_data"
    }
   ],
   "source": [
    "figure(2)\n",
    "plot(xc,err_rel_1)\n",
    "xlabel('x')\n",
    "ylabel('err_{rel}')\n",
    "title('Errore relativo - scala cartesiana')\n",
    "box off"
   ]
  },
  {
   "cell_type": "code",
   "execution_count": 74,
   "metadata": {},
   "outputs": [
    {
     "data": {
      "image/png": "[encoded data removed]",
      "text/plain": [
       "<IPython.core.display.Image object>"
      ]
     },
     "metadata": {},
     "output_type": "display_data"
    }
   ],
   "source": [
    "figure(3)\n",
    "semilogy(xc, err_rel_1,'--r')\n",
    "xlabel('x')\n",
    "ylabel('err_{rel}')\n",
    "title('Errore relativo - scala semilogaritmica')\n",
    "box off\n",
    "warning (\"off\", \"Octave:negative-data-log-axis\");"
   ]
  },
  {
   "cell_type": "markdown",
   "metadata": {},
   "source": [
    "Dal grafico in figura 4 si nota che il numero di iterazioni richieste per il calcolo di un esponenziale con esponente negativo è tendenzialmente superiore rispetto al caso con esponente positivo."
   ]
  },
  {
   "cell_type": "code",
   "execution_count": 70,
   "metadata": {},
   "outputs": [
    {
     "data": {
      "image/png": "[encoded data removed]",
      "text/plain": [
       "<IPython.core.display.Image object>"
      ]
     },
     "metadata": {},
     "output_type": "display_data"
    }
   ],
   "source": [
    "figure(4)\n",
    "plot(xc,nt)\n",
    "xlabel('x')\n",
    "ylabel('iterazioni')\n",
    "title('Numero di iterazioni')\n",
    "box off"
   ]
  },
  {
   "cell_type": "markdown",
   "metadata": {},
   "source": [
    "In figura 5 si nota che l'errore relativo che si ottiene nel calcolo di un esponenziale nell'intervallo $[a, b]$ con l'algoritmo più stabile determina ad un errore relativo totale minore, distribuito in modo quasi equo tra gli esponenziali con esponente negativo e positivo."
   ]
  },
  {
   "cell_type": "code",
   "execution_count": 83,
   "metadata": {},
   "outputs": [
    {
     "data": {
      "image/png": "[encoded data removed]",
      "text/plain": [
       "<IPython.core.display.Image object>"
      ]
     },
     "metadata": {},
     "output_type": "display_data"
    }
   ],
   "source": [
    "figure(5)\n",
    "semilogy(xc,err_rel_2)\n",
    "xlabel('x')\n",
    "ylabel('err_{rel}')\n",
    "title('Errore relativo - scala semilogaritmica')\n",
    "box off"
   ]
  },
  {
   "cell_type": "markdown",
   "metadata": {},
   "source": [
    "### Esercizio 8\n",
    "Calcolo della derivata di $f(x) = sin(x)$ in $x = 1$ mediante il rapporto incrementale."
   ]
  },
  {
   "cell_type": "code",
   "execution_count": 78,
   "metadata": {},
   "outputs": [],
   "source": [
    "k = (0:-1:-20)';\n",
    "h = 10.^k;\n",
    " \n",
    "der_es = cos(1); % derivata esatta\n",
    "x = 1; % punto in cui calcolare la derivata\n",
    "rap_inc = (sin(x + h) - sin(x))./h; % rapporto incrementale\n",
    "err_rel = abs(rap_inc - der_es)./abs(der_es); % errore relativo"
   ]
  },
  {
   "cell_type": "markdown",
   "metadata": {},
   "source": [
    "Dal grafico si nota che per valori di $h < 1 \\times 10^{-8}$ l'accuratezza dell'approssimazione fornita dal rapporto incrementale inizia a calare bruscamente da quella fornita dalla funzione di libreria."
   ]
  },
  {
   "cell_type": "code",
   "execution_count": 81,
   "metadata": {},
   "outputs": [
    {
     "data": {
      "image/png": "[encoded data removed]",
      "text/plain": [
       "<IPython.core.display.Image object>"
      ]
     },
     "metadata": {},
     "output_type": "display_data"
    }
   ],
   "source": [
    "loglog(h, err_rel, h, h)\n",
    "\n",
    "xlabel('h')\n",
    "ylabel('err_{rel}')\n",
    "title('Approssimazione derivata con rapporto incrementale')\n",
    "legend('Err_{rel} rapporto incrementale','h')\n",
    "box off"
   ]
  }
 ],
 "metadata": {
  "kernelspec": {
   "display_name": "Octave",
   "language": "octave",
   "name": "octave"
  },
  "language_info": {
   "file_extension": ".m",
   "help_links": [
    {
     "text": "GNU Octave",
     "url": "https://www.gnu.org/software/octave/support.html"
    },
    {
     "text": "Octave Kernel",
     "url": "https://github.com/Calysto/octave_kernel"
    },
    {
     "text": "MetaKernel Magics",
     "url": "https://metakernel.readthedocs.io/en/latest/source/README.html"
    }
   ],
   "mimetype": "text/x-octave",
   "name": "octave",
   "version": "5.2.0"
  }
 },
 "nbformat": 4,
 "nbformat_minor": 4
}
