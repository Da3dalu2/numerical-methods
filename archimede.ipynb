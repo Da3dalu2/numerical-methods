{
 "cells": [
  {
   "cell_type": "markdown",
   "metadata": {},
   "source": [
    "## **Algoritmo di Archimede**"
   ]
  },
  {
   "cell_type": "code",
   "execution_count": 15,
   "metadata": {},
   "outputs": [],
   "source": [
    "function myplot\n",
    "  figure;  axes ('position', [0.1, 0.3, 0.8, 0.6]);\n",
    "  global t;   t = linspace (0, 8*pi, 100);\n",
    "  x = t .* cos(t);  y = t .* sin(t);\n",
    "  plot (x, y);  axis ([-100, 100, -100, 100]);\n",
    "     \n",
    "  hslider = uicontrol (                    ...\n",
    "         'style', 'slider',                ...\n",
    "         'Units', 'normalized',            ...\n",
    "         'position', [0.1, 0.1, 0.8, 0.1], ...\n",
    "         'min', 1,                         ...\n",
    "         'max', 50,                        ...\n",
    "         'value', 10,                      ...\n",
    "         'callback', {@plotstuff}          ...\n",
    "       );\n",
    "end\n",
    "\n",
    "function plotstuff (h, event)\n",
    "  global t;\n",
    "  n = get (h, 'value');\n",
    "  x = n * t .* cos(t);  y = n * t .* sin(t);\n",
    "  plot (x, y);  axis ([-100, 100, -100, 100]);\n",
    "end"
   ]
  },
  {
   "cell_type": "code",
   "execution_count": 16,
   "metadata": {},
   "outputs": [
    {
     "name": "stderr",
     "output_type": "stream",
     "text": [
      "\u001b[0;31mInline plot failed, consider trying another graphics toolkit\n",
      "error: __gnuplot_draw_figure__: unknown object class, uicontrol\r\n",
      "error: called from\r\n",
      "    _make_figures>safe_print at line 125 column 7\r\n",
      "    _make_figures at line 49 column 13\r\n",
      "\n",
      "\u001b[0m"
     ]
    }
   ],
   "source": [
    "myplot"
   ]
  },
  {
   "cell_type": "markdown",
   "metadata": {},
   "source": [
    "#### Breve introduzione"
   ]
  },
  {
   "cell_type": "markdown",
   "metadata": {},
   "source": [
    "La prima funzione"
   ]
  },
  {
   "cell_type": "code",
   "execution_count": 3,
   "metadata": {},
   "outputs": [],
   "source": [
    "function A=archimede(n)\n",
    "    b(1)=2;\n",
    "    s(1)=1;\n",
    "    for i=1:n\n",
    "        A(i)=b(i)*s(i);\n",
    "        s(i+1)=sqrt( (1-sqrt(1-s(i)^2) )/2 );\n",
    "        b(i+1)=2*b(i);\n",
    "    end\n",
    "end"
   ]
  },
  {
   "cell_type": "markdown",
   "metadata": {},
   "source": [
    "La seconda funzione"
   ]
  },
  {
   "cell_type": "code",
   "execution_count": 4,
   "metadata": {},
   "outputs": [],
   "source": [
    "    function A=myarchimede(n)\n",
    "    b(1)=2;\n",
    "    s(1)=1;\n",
    "    for i=1:n\n",
    "        A(i)=b(i)*s(i);\n",
    "        s(i+1)=s(i)/sqrt( 2*(1+sqrt(1-s(i)^2)) );\n",
    "        b(i+1)=2*b(i);\n",
    "    end\n",
    "end"
   ]
  },
  {
   "cell_type": "code",
   "execution_count": 5,
   "metadata": {
    "scrolled": true
   },
   "outputs": [
    {
     "name": "stdout",
     "output_type": "stream",
     "text": [
      "ans =\r\n",
      "\r\n",
      "   2.000000000000000   2.000000000000000\r\n",
      "   2.828427124746190   2.828427124746190\r\n",
      "   3.061467458920719   3.061467458920718\r\n",
      "   3.121445152258053   3.121445152258052\r\n",
      "   3.136548490545941   3.136548490545939\r\n",
      "   3.140331156954739   3.140331156954753\r\n",
      "   3.141277250932757   3.141277250932772\r\n",
      "   3.141513801144145   3.141513801144301\r\n",
      "   3.141572940367883   3.141572940367091\r\n",
      "   3.141587725279961   3.141587725277160\r\n",
      "   3.141591421504635   3.141591421511200\r\n",
      "   3.141592345611077   3.141592345570118\r\n",
      "   3.141592576545004   3.141592576584872\r\n",
      "   3.141592633463248   3.141592634338563\r\n",
      "   3.141592654807589   3.141592648776986\r\n",
      "   3.141592645321215   3.141592652386591\r\n",
      "   3.141592607375720   3.141592653288993\r\n",
      "   3.141592910939673   3.141592653514593\r\n",
      "   3.141594125195191   3.141592653570993\r\n",
      "   3.141596553704820   3.141592653585094\r\n",
      "   3.141596553704820   3.141592653588619\r\n",
      "   3.141674265021758   3.141592653589500\r\n",
      "   3.141829681889202   3.141592653589721\r\n",
      "   3.142451272494134   3.141592653589776\r\n",
      "   3.142451272494134   3.141592653589790\r\n",
      "   3.162277660168380   3.141592653589793\r\n",
      "\r\n"
     ]
    }
   ],
   "source": [
    "format long\n",
    " \n",
    "n=26;\n",
    "A=archimede(n);\n",
    "err=abs(A-pi)/pi;\n",
    "\n",
    "Anew=myarchimede(n);\n",
    "errnew=abs(Anew-pi)/pi;\n",
    "\n",
    "[A.' Anew.'] "
   ]
  },
  {
   "cell_type": "code",
   "execution_count": 6,
   "metadata": {},
   "outputs": [
    {
     "name": "stdout",
     "output_type": "stream",
     "text": [
      "ans =  3.141592653589793\r\n"
     ]
    }
   ],
   "source": [
    "pi"
   ]
  },
  {
   "cell_type": "code",
   "execution_count": 7,
   "metadata": {
    "scrolled": false
   },
   "outputs": [
    {
     "data": {
      "image/png": "[encoded data removed]",
      "text/plain": [
       "<IPython.core.display.Image object>"
      ]
     },
     "metadata": {},
     "output_type": "display_data"
    }
   ],
   "source": [
    "warning('off', 'all');\n",
    "figure(1)\n",
    "semilogy(1:26,err,'ks-',1:26,errnew,'ro-')\n",
    "legend('A','A*')\n",
    "box off"
   ]
  }
 ],
 "metadata": {
  "kernelspec": {
   "display_name": "Octave",
   "language": "octave",
   "name": "octave"
  },
  "language_info": {
   "file_extension": ".m",
   "help_links": [
    {
     "text": "GNU Octave",
     "url": "https://www.gnu.org/software/octave/support.html"
    },
    {
     "text": "Octave Kernel",
     "url": "https://github.com/Calysto/octave_kernel"
    },
    {
     "text": "MetaKernel Magics",
     "url": "https://metakernel.readthedocs.io/en/latest/source/README.html"
    }
   ],
   "mimetype": "text/x-octave",
   "name": "octave",
   "version": "4.4.1"
  }
 },
 "nbformat": 4,
 "nbformat_minor": 2
}
