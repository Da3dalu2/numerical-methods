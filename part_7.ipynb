{
 "cells": [
  {
   "cell_type": "markdown",
   "metadata": {},
   "source": [
    "# Part 7\n",
    "\n",
    "Sperimentazione numerica relativa ai metodi diretti per la risoluzione di sistemi lineari. Saranno impiegate le funzioni per la fattorizzazione LU precedentemente definite nella parte 5."
   ]
  },
  {
   "cell_type": "code",
   "execution_count": 1,
   "metadata": {},
   "outputs": [],
   "source": [
    "addpath (\"./functions\");"
   ]
  },
  {
   "cell_type": "markdown",
   "metadata": {},
   "source": [
    "## Matrix equation solver\n",
    "\n",
    "Risolve l'equazione matriciale $AX = B$.\n",
    "\n",
    "    [X] = matrix_eq_solver(A, B)\n",
    "    \n",
    "### Note di funzionamento\n",
    "\n",
    "Data la matrice:\n",
    "\n",
    "    C = [1 2 6; 4 3 3]\n",
    "\n",
    "applica `C(:,3)`, ovvero taglia la i-esima colonna della matrice per ricondursi al sistema lineare $AX = B$. Perciò risolve $n$ sistemi lineari per trovare la matrice inversa. Si tratta di un metodo per la risoluzione di sistemi lineari inefficiente in quanto estremamente costoso.\n",
    "\n",
    "    [X] = matrix_eq_solver(A, B)"
   ]
  },
  {
   "cell_type": "code",
   "execution_count": 2,
   "metadata": {},
   "outputs": [],
   "source": [
    "function [X] = matrix_eq_solver(A, B)\n",
    "\n",
    "[~, n] = size(B);\n",
    "[L, U, P] = gauss_partial(A);\n",
    "\n",
    "Y = zeros(n);\n",
    "X = zeros(n);\n",
    "\n",
    "for i = 1:n\n",
    "    Y(:,i) = lsolve(L, P * B(:, i));\n",
    "    X(:,i) = usolve(U, Y(:, i));\n",
    "end\n",
    "\n",
    "end"
   ]
  },
  {
   "cell_type": "markdown",
   "metadata": {},
   "source": [
    "## Esercizio 1"
   ]
  },
  {
   "cell_type": "code",
   "execution_count": 3,
   "metadata": {},
   "outputs": [],
   "source": [
    "A = [1 2 3; 0 0 1; 1 3 5];\n",
    "b = [6; 1; 9];\n",
    "A_1 = [1 1 0 3; 2 1 -1 1; -1 2 3 -1; 3 -1 -1 2];\n",
    "b_1 = [5; 3; 3; 3];"
   ]
  },
  {
   "cell_type": "code",
   "execution_count": 4,
   "metadata": {},
   "outputs": [
    {
     "name": "stdout",
     "output_type": "stream",
     "text": [
      "elemento diagonale nullo\n"
     ]
    }
   ],
   "source": [
    "[~, ~] = gauss_simple(A);"
   ]
  },
  {
   "cell_type": "code",
   "execution_count": 5,
   "metadata": {},
   "outputs": [
    {
     "name": "stdout",
     "output_type": "stream",
     "text": [
      "elemento diagonale nullo\n"
     ]
    }
   ],
   "source": [
    "[L_1, U_1] = gauss_simple(A_1);"
   ]
  },
  {
   "cell_type": "markdown",
   "metadata": {},
   "source": [
    "Il metodo di fattorizzazione di Gauss senza strategie di pivoting fallisce perché in entrambi i casi l'esecuzione si blocca a causa della presenza di un elemento pivotale nullo. Ciò non accade applicando l'eliminazione gaussiana con pivoting parziale."
   ]
  },
  {
   "cell_type": "code",
   "execution_count": 6,
   "metadata": {},
   "outputs": [
    {
     "name": "stdout",
     "output_type": "stream",
     "text": [
      "x_p =\n",
      "\n",
      "   1\n",
      "   1\n",
      "   1\n",
      "\n"
     ]
    }
   ],
   "source": [
    "[L_p, U_p, P] = gauss_partial(A);\n",
    "[x_p] = lusolve(L_p, U_p, P, [], b)"
   ]
  },
  {
   "cell_type": "code",
   "execution_count": 7,
   "metadata": {},
   "outputs": [
    {
     "name": "stdout",
     "output_type": "stream",
     "text": [
      "x_1p =\n",
      "\n",
      "   1.00000\n",
      "   1.00000\n",
      "   1.00000\n",
      "   1.00000\n",
      "\n"
     ]
    }
   ],
   "source": [
    "[L_1p, U_1p, P_1] = gauss_partial(A_1);\n",
    "[x_1p] = lusolve(L_1p, U_1p, P_1, [], b_1)"
   ]
  },
  {
   "cell_type": "markdown",
   "metadata": {},
   "source": [
    "## Esercizio 2"
   ]
  },
  {
   "cell_type": "code",
   "execution_count": 8,
   "metadata": {},
   "outputs": [
    {
     "name": "stdout",
     "output_type": "stream",
     "text": [
      "ans =\n",
      "\n",
      "  -1.50000   4.00000  -0.50000\n",
      "  -1.00000  -1.00000   1.00000\n",
      "   1.50000  -1.00000  -0.50000\n",
      "\n"
     ]
    }
   ],
   "source": [
    "clear x L U P\n",
    "\n",
    "A = [3 5 7; 2 3 4; 5 9 11];\n",
    "A_1 = [1 2 3 4; 2 -4 6 8; -1 -2 -3 -1; 5 7 0 1];\n",
    "B = eye(3);\n",
    "B_1 = eye(4);\n",
    "\n",
    "inv(A)"
   ]
  },
  {
   "cell_type": "code",
   "execution_count": 9,
   "metadata": {},
   "outputs": [
    {
     "name": "stdout",
     "output_type": "stream",
     "text": [
      "X =\n",
      "\n",
      "  -1.50000   4.00000  -0.50000\n",
      "  -1.00000  -1.00000   1.00000\n",
      "   1.50000  -1.00000  -0.50000\n",
      "\n"
     ]
    }
   ],
   "source": [
    "X = matrix_eq_solver(A, B)"
   ]
  },
  {
   "cell_type": "code",
   "execution_count": 10,
   "metadata": {},
   "outputs": [
    {
     "name": "stdout",
     "output_type": "stream",
     "text": [
      "ans =\n",
      "\n",
      "  -0.41667   0.17500  -0.06667   0.20000\n",
      "   0.25000  -0.12500   0.00000   0.00000\n",
      "  -0.13889   0.02500  -0.42222  -0.06667\n",
      "   0.33333   0.00000   0.33333  -0.00000\n",
      "\n"
     ]
    }
   ],
   "source": [
    "inv(A_1)"
   ]
  },
  {
   "cell_type": "code",
   "execution_count": 11,
   "metadata": {},
   "outputs": [
    {
     "name": "stdout",
     "output_type": "stream",
     "text": [
      "X_1 =\n",
      "\n",
      "  -0.41667   0.17500  -0.06667   0.20000\n",
      "   0.25000  -0.12500  -0.00000  -0.00000\n",
      "  -0.13889   0.02500  -0.42222  -0.06667\n",
      "   0.33333   0.00000   0.33333   0.00000\n",
      "\n"
     ]
    }
   ],
   "source": [
    "X_1 = matrix_eq_solver(A_1, B_1)"
   ]
  },
  {
   "cell_type": "markdown",
   "metadata": {},
   "source": [
    "Per risolvere un'equazione matriciale si estrae il vettore dei termini noti dalla matrice  tramite iterazioni. Si risolvono quindi $n$ sistemi lineari.\n",
    "Se si impiega la fattorizzazione LU senza pivoting si blocca l'algoritmo di Gauss a causa della presenza di elementi pivotali nulli. Per questa ragione la risoluzione degli $n$ sistemi lineari si impiega una strategia di pivoting parziale."
   ]
  },
  {
   "cell_type": "markdown",
   "metadata": {},
   "source": [
    "## Esercizio 3"
   ]
  },
  {
   "cell_type": "code",
   "execution_count": 12,
   "metadata": {},
   "outputs": [
    {
     "name": "stdout",
     "output_type": "stream",
     "text": [
      "x =\n",
      "\n",
      "   2\n",
      "   2\n",
      "\n"
     ]
    }
   ],
   "source": [
    "ep = 0;\n",
    "A = [ep 1; 1 1];\n",
    "b = [2 + ep, 4]';\n",
    "\n",
    "[L, U, P] = gauss_partial(A);\n",
    "x = lusolve(L, U, P, [], b)"
   ]
  },
  {
   "cell_type": "code",
   "execution_count": 13,
   "metadata": {},
   "outputs": [
    {
     "name": "stdout",
     "output_type": "stream",
     "text": [
      "Gauss senza pivoting:\t\t 2.010101 1.989899 \n",
      "Gauss con pivoting parziale:\t 2.010101 1.989899\n",
      "Gauss senza pivoting:\t\t 2.000100 1.999900 \n",
      "Gauss con pivoting parziale:\t 2.000100 1.999900\n",
      "Gauss senza pivoting:\t\t 2.000001 1.999999 \n",
      "Gauss con pivoting parziale:\t 2.000001 1.999999\n",
      "Gauss senza pivoting:\t\t 2.000000 2.000000 \n",
      "Gauss con pivoting parziale:\t 2.000000 2.000000\n",
      "Gauss senza pivoting:\t\t 2.000000 2.000000 \n",
      "Gauss con pivoting parziale:\t 2.000000 2.000000\n",
      "Gauss senza pivoting:\t\t 2.000178 2.000000 \n",
      "Gauss con pivoting parziale:\t 2.000000 2.000000\n",
      "Gauss senza pivoting:\t\t 1.998401 2.000000 \n",
      "Gauss con pivoting parziale:\t 2.000000 2.000000\n",
      "Gauss senza pivoting:\t\t 4.440892 2.000000 \n",
      "Gauss con pivoting parziale:\t 2.000000 2.000000\n",
      "Gauss senza pivoting:\t\t 0.000000 2.000000 \n",
      "Gauss con pivoting parziale:\t 2.000000 2.000000\n"
     ]
    }
   ],
   "source": [
    "for k = 2 : 2 : 18\n",
    "    ep = 10^-k;\n",
    "    A_i = [ep 1; 1 1];\n",
    "    b_i = [ep + 2, 4]';\n",
    "    [L_1, U_1] = gauss_simple(A_i);\n",
    "    [L, U, P] = gauss_partial(A_i);\n",
    "    x_1 = lusolve(L_1, U_1, [], [], b_i);\n",
    "    x = lusolve(L, U, P, [], b_i);\n",
    "    fprintf(\"Gauss senza pivoting:\\t\\t %f %f \\n\", x_1);\n",
    "    fprintf(\"Gauss con pivoting parziale:\\t %f %f\\n\", x);\n",
    "end"
   ]
  },
  {
   "cell_type": "markdown",
   "metadata": {},
   "source": [
    "Quando non si applica la strategia pivotale si nota che per valori molto piccoli l'accuratezza del risultato si riduce. In particolare si nota in questo caso che mano a mano che $\\varepsilon$ decresce, il valore di $x_1$ oscilla rispetto al risultato atteso a partire dalla quart'ultima iterazione ovvero per $\\varepsilon < 10^{-12}$."
   ]
  },
  {
   "cell_type": "markdown",
   "metadata": {},
   "source": [
    "## Esercizio 4"
   ]
  },
  {
   "cell_type": "code",
   "execution_count": 14,
   "metadata": {},
   "outputs": [
    {
     "name": "stdout",
     "output_type": "stream",
     "text": [
      "L =\n",
      "\n",
      "   1.00000   0.00000   0.00000   0.00000\n",
      "   0.66667   1.00000   0.00000   0.00000\n",
      "   0.66667  -2.00000   1.00000   0.00000\n",
      "   0.66667  -2.00000   2.00000   1.00000\n",
      "\n",
      "U =\n",
      "\n",
      "   3.00000   1.00000   1.00000   1.00000\n",
      "   0.00000   0.33333  -0.66667  -0.66667\n",
      "   0.00000   0.00000  -1.00000  -2.00000\n",
      "   0.00000   0.00000   0.00000   3.00000\n",
      "\n"
     ]
    }
   ],
   "source": [
    "A = [3 1 1 1; 2 1 0 0; 2 0 1 0; 2 0 0 1];\n",
    "b = [4 1 2 4]';\n",
    "[L, U] = gauss_simple(A);\n",
    "L\n",
    "U"
   ]
  },
  {
   "cell_type": "markdown",
   "metadata": {},
   "source": [
    "Si nota il fenomeno del *fill-in*, per cui la matrice $A$, avente molti valori nulli, ha fattori $L$ e $U$ [L, U, ~]  = gauss_partial(A);non nulli ad eccezione delle rispettive parti triangolari superiore e inferiore."
   ]
  },
  {
   "cell_type": "code",
   "execution_count": 15,
   "metadata": {},
   "outputs": [
    {
     "name": "stdout",
     "output_type": "stream",
     "text": [
      "L =\n",
      "\n",
      "   1.00000   0.00000   0.00000   0.00000\n",
      "   0.66667   1.00000   0.00000   0.00000\n",
      "   0.66667   1.00000   1.00000   0.00000\n",
      "   0.66667  -0.50000   0.50000   1.00000\n",
      "\n",
      "U =\n",
      "\n",
      "   3.00000   1.00000   1.00000   1.00000\n",
      "   0.00000  -0.66667   0.33333  -0.66667\n",
      "   0.00000   0.00000  -1.00000   1.00000\n",
      "   0.00000   0.00000   0.00000  -1.50000\n",
      "\n"
     ]
    }
   ],
   "source": [
    "[L, U, ~]  = gauss_partial(A);\n",
    "L\n",
    "U"
   ]
  },
  {
   "cell_type": "markdown",
   "metadata": {},
   "source": [
    "Si nota che adottando la strategia di pivoting parziale la crescita degli elementi di $U$ in modulo è minore rispetto al caso in cui non si ha il pivoting. In particolare per i moltiplicatori, ovvero gli elementi della matrice $L$, vale $|m_{i, j}| \\le 1$."
   ]
  },
  {
   "cell_type": "code",
   "execution_count": 16,
   "metadata": {},
   "outputs": [
    {
     "name": "stdout",
     "output_type": "stream",
     "text": [
      "x =\n",
      "\n",
      "   2\n",
      "  -1\n",
      "   0\n",
      "   1\n",
      "\n"
     ]
    }
   ],
   "source": [
    "[m, n] = size(A);\n",
    "\n",
    "% permutazione della prima riga con l'ultima\n",
    "temp = A(1,:);\n",
    "A(1,:) = A(n,:);\n",
    "A(n,:) = temp;\n",
    "\n",
    "% permutazione della prima colonna con l'ultima\n",
    "temp = A(:,1);\n",
    "A(:,1) = A(:,n);\n",
    "A(:,n) = temp;\n",
    "n = length(b);\n",
    "\n",
    "% permutazione della prima componente con l'ultima\n",
    "temp = b(1);\n",
    "b(1) = b(n);\n",
    "b(n) = temp;\n",
    "\n",
    "[L, U, P] = gauss_partial(A);\n",
    "x = lusolve(L, U, P, [], b)"
   ]
  },
  {
   "cell_type": "markdown",
   "metadata": {},
   "source": [
    "## Esercizio 5"
   ]
  },
  {
   "cell_type": "code",
   "execution_count": 17,
   "metadata": {},
   "outputs": [],
   "source": [
    "n = 100;\n",
    "kmax = 20;\n",
    "\n",
    "cond_A = zeros(kmax, 1);\n",
    "err_rel = zeros(kmax, 1);\n",
    "err_rel_p = zeros(kmax, 1);\n",
    "x_es = ones(n, 1);\n",
    "norm_x_es = norm(x_es);\n",
    "\n",
    "% vettore di n componenti random\n",
    "v = rand(n, 1);\n",
    "% vettore con norma 2 unitaria (ogni componente si divide per la norma)\n",
    "v = v / norm(v); \n",
    "\n",
    "Q = eye(n) - 2 * v * v';\n",
    "D = eye(n);"
   ]
  },
  {
   "cell_type": "code",
   "execution_count": 18,
   "metadata": {},
   "outputs": [],
   "source": [
    "for k = 1:kmax\n",
    "    \n",
    "    D(n, n) = 10^k;\n",
    "    A = Q * D;\n",
    "    b = A * x_es;\n",
    "    \n",
    "    % memorizza in vettore num cond.\n",
    "    cond_A(k) = cond(A); \n",
    "    \n",
    "    [L, U] = gauss_simple(A);\n",
    "    x = lusolve(L, U, [], [], b);\n",
    "    \n",
    "    % memorizza in vettore err rel\n",
    "    err_rel(k) = norm(x_es - x) / norm_x_es; \n",
    "    \n",
    "    [L_p, U_p, P] = gauss_partial(A);\n",
    "    x_p = lusolve(L_p, U_p, P, [], b);\n",
    "    \n",
    "    % memorizza in vettore err rel parziale\n",
    "    err_rel_p(k) = norm(x_es - x_p) / norm_x_es; \n",
    "\n",
    "end"
   ]
  },
  {
   "cell_type": "code",
   "execution_count": 19,
   "metadata": {},
   "outputs": [
    {
     "data": {
      "image/png": "[encoded data removed]",
      "text/plain": [
       "<IPython.core.display.Image object>"
      ]
     },
     "metadata": {},
     "output_type": "display_data"
    }
   ],
   "source": [
    "figure\n",
    "x_n = 1:kmax;\n",
    "semilogy(x_n, err_rel, x_n, err_rel_p);\n",
    "legend(\"senza pivoting\", \"pivoting parziale\",\"location\", \"eastoutside\");\n",
    "title(\"A variabile di dimensione n = 100\");\n",
    "ylabel(\"Errore relativo\");\n",
    "box off"
   ]
  },
  {
   "cell_type": "code",
   "execution_count": 20,
   "metadata": {},
   "outputs": [
    {
     "data": {
      "image/png": "[encoded data removed]",
      "text/plain": [
       "<IPython.core.display.Image object>"
      ]
     },
     "metadata": {},
     "output_type": "display_data"
    }
   ],
   "source": [
    "figure\n",
    "semilogy(cond_A)\n",
    "title('A variabile di dimensione n=100')\n",
    "ylabel('Indice condizionamento in norma 2')\n",
    "ylim([1, 10^25]);\n",
    "box off"
   ]
  },
  {
   "cell_type": "markdown",
   "metadata": {},
   "source": [
    "## Esercizio 6"
   ]
  },
  {
   "cell_type": "code",
   "execution_count": 21,
   "metadata": {},
   "outputs": [],
   "source": [
    "nmin= 2; nmax = 50;\n",
    "err_rel_chol = zeros(nmax - nmin, 1);\n",
    "err_rel_gss = zeros(nmax - nmin, 1);\n",
    "\n",
    "for n = nmin:nmax\n",
    "    B = rand(n);\n",
    "    A = B' * B;\n",
    "    x_es = (1 : n)';\n",
    "    norm_x_es = norm(x_es);\n",
    "    b = A * x_es;\n",
    "    \n",
    "    [L, U, P] = gauss_partial(A);\n",
    "    x = lusolve(L, U, P, [], b);\n",
    "    err_rel_gss(n - nmin + 1) = norm(x_es - x) / norm_x_es;\n",
    "    \n",
    "    L_2 = chol(A);\n",
    "    y_2 = lsolve(L_2', b);\n",
    "    x_2 = usolve(L_2, y_2);\n",
    "    err_rel_chol(n - nmin + 1) = norm(x_es - x_2) / norm_x_es;\n",
    "    \n",
    "end"
   ]
  },
  {
   "cell_type": "code",
   "execution_count": 22,
   "metadata": {},
   "outputs": [
    {
     "data": {
      "image/png": "[encoded data removed]",
      "text/plain": [
       "<IPython.core.display.Image object>"
      ]
     },
     "metadata": {},
     "output_type": "display_data"
    }
   ],
   "source": [
    "figure\n",
    "xn=(nmin:nmax)';\n",
    "semilogy(xn,err_rel_chol,'b',xn,err_rel_gss,'r')\n",
    "legend('chol', 'lu', \"location\", \"eastoutside\")\n",
    "title('Metodo di Fattorizzazione di Cholesky')\n",
    "xlabel('Dimensione n')\n",
    "ylabel('Errore relativo')\n",
    "box off"
   ]
  },
  {
   "cell_type": "markdown",
   "metadata": {},
   "source": [
    "Dato che le soluzioni ottenute con i due metodi non si discostano in maniera significativa tra loro, si può concludere che l'algoritmo di Cholesky è stabile."
   ]
  },
  {
   "cell_type": "markdown",
   "metadata": {},
   "source": [
    "## Esercizio 7"
   ]
  },
  {
   "cell_type": "code",
   "execution_count": 23,
   "metadata": {},
   "outputs": [],
   "source": [
    "cont = 0;\n",
    "x_n = 4:6:40;\n",
    "A = [];\n",
    "\n",
    "err_rel_1 = zeros(1,length(x_n));\n",
    "err_rel_2 = zeros(1,length(x_n));\n",
    "err_rel_3 = zeros(1,length(x_n));\n",
    "\n",
    "for n = 4:6:40\n",
    "    cont = cont + 1;\n",
    "    \n",
    "    % costruzione matrice di Hankel\n",
    "    for i = 1:n\n",
    "        for k = i+1-n:i\n",
    "            if k > 0\n",
    "                A(i,n+k-i) = 2^k;\n",
    "            else\n",
    "                A(i,n+k-i) = 2 ^ (1 / (2 - k));\n",
    "            end\n",
    "        end\n",
    "    end\n",
    "    \n",
    "    x_es = ones(n, 1);\n",
    "    b = A * x_es;\n",
    "    norm_x_es = norm(x_es);\n",
    "    cond_A(cont) = cond(A);\n",
    "    \n",
    "    [L, U, P] = gauss_partial(A);\n",
    "    x = lusolve(L, U, P, [], b);\n",
    "    err_rel_1(cont) = norm(x_es - x) / norm_x_es;\n",
    "    \n",
    "    [L_1, U_1, P_1, Q] = gauss_total(A);\n",
    "    x_1 = lusolve(L_1, U_1, P_1, Q, b);\n",
    "    err_rel_2(cont) = norm(x_es - x_1) / norm_x_es;\n",
    "    \n",
    "    [Q, R] = qr(A);\n",
    "    y = Q' * b; x_hs = usolve(R, y);\n",
    "    err_rel_3(cont) = norm(x_es - x_hs) / norm_x_es;\n",
    "    \n",
    "end"
   ]
  },
  {
   "cell_type": "code",
   "execution_count": 24,
   "metadata": {},
   "outputs": [
    {
     "data": {
      "image/png": "[encoded data removed]",
      "text/plain": [
       "<IPython.core.display.Image object>"
      ]
     },
     "metadata": {},
     "output_type": "display_data"
    }
   ],
   "source": [
    "figure\n",
    "loglog(\n",
    "    (4:6:40), err_rel_3, 'ko-', ...\n",
    "    (4:6:40), err_rel_1, 'r*-', ...\n",
    "    (4:6:40), err_rel_2, 'bs-');\n",
    "\n",
    "legend('Householder', 'Pivot parziale', 'Pivot totale', \"location\", \"eastoutside\")\n",
    "box off"
   ]
  },
  {
   "cell_type": "markdown",
   "metadata": {},
   "source": [
    "## Esercizio 8"
   ]
  },
  {
   "cell_type": "code",
   "execution_count": 25,
   "metadata": {},
   "outputs": [],
   "source": [
    "clear all\n",
    "cont = 0;\n",
    "A = [];\n",
    "\n",
    "for n = 48:2:58\n",
    "    cont = cont + 1;\n",
    "    \n",
    "    % costruzione matrice di Hankel\n",
    "    for i = 1:n\n",
    "        for j = 1:n\n",
    "            if i == j || j == n\n",
    "                A(i, j) = 1;\n",
    "            elseif i > j\n",
    "                A(i, j) = -1;\n",
    "            else\n",
    "                A(i, j) = 0;\n",
    "            end\n",
    "        end\n",
    "    end\n",
    "    \n",
    "    x_es = ones(n, 1);\n",
    "    b = A * x_es;\n",
    "    norm_x_es = norm(x_es);\n",
    "    cond_A(cont) = cond(A);\n",
    "    \n",
    "    [L, U, P] = gauss_partial(A);\n",
    "    x = lusolve(L, U, P, [], b);\n",
    "    err_rel_par(cont) = norm(x_es - x) / norm_x_es;\n",
    "    \n",
    "    [L_1, U_1, P_1, Q] = gauss_total(A);\n",
    "    x_1 = lusolve(L_1, U_1, P_1, Q, b);\n",
    "    err_rel_tot(cont) = norm(x_es - x_1) / norm_x_es;\n",
    "    \n",
    "    [Q, R] = qr(A);\n",
    "    y = Q' * b; x_hs = usolve(R, y);\n",
    "    err_rel_hous(cont) = norm(x_es - x_hs) / norm_x_es;\n",
    "    \n",
    "end"
   ]
  },
  {
   "cell_type": "code",
   "execution_count": 26,
   "metadata": {},
   "outputs": [
    {
     "data": {
      "image/png": "[encoded data removed]",
      "text/plain": [
       "<IPython.core.display.Image object>"
      ]
     },
     "metadata": {},
     "output_type": "display_data"
    }
   ],
   "source": [
    "figure\n",
    "subplot(2,1,1)\n",
    "plot(\n",
    "    [48:2:58], err_rel_hous, 'ko-', ...\n",
    "    [48:2:58], err_rel_par, 'r*-', ...\n",
    "    [48:2:58], err_rel_tot, 'bs-')\n",
    "\n",
    "legend('Householder','Pivot parziale','Pivot totale', ...\n",
    "    \"location\", \"southoutside\")\n",
    "box off\n",
    "\n",
    "subplot(2,1,2)\n",
    "plot(\n",
    "    [48:2:58], err_rel_hous, 'ko-', ...\n",
    "    [48:2:58], err_rel_tot, 'bs-')\n",
    "\n",
    "legend('Householder','Pivot totale', ...\n",
    "    \"location\", \"southoutside\")\n",
    "box off"
   ]
  }
 ],
 "metadata": {
  "kernelspec": {
   "display_name": "Octave",
   "language": "octave",
   "name": "octave"
  },
  "language_info": {
   "file_extension": ".m",
   "help_links": [
    {
     "text": "GNU Octave",
     "url": "https://www.gnu.org/software/octave/support.html"
    },
    {
     "text": "Octave Kernel",
     "url": "https://github.com/Calysto/octave_kernel"
    },
    {
     "text": "MetaKernel Magics",
     "url": "https://metakernel.readthedocs.io/en/latest/source/README.html"
    }
   ],
   "mimetype": "text/x-octave",
   "name": "octave",
   "version": "5.2.0"
  }
 },
 "nbformat": 4,
 "nbformat_minor": 4
}
