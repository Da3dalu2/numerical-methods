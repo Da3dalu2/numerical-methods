{
 "cells": [
  {
   "cell_type": "markdown",
   "metadata": {},
   "source": [
    "# Part 1"
   ]
  },
  {
   "cell_type": "markdown",
   "metadata": {},
   "source": [
    "## Exercise 1"
   ]
  },
  {
   "cell_type": "code",
   "execution_count": null,
   "metadata": {},
   "outputs": [],
   "source": [
    "a = [1.2 5.4 6 1.5 9]\n",
    "b = [5.2 pi 1.2 1.5 2]"
   ]
  },
  {
   "cell_type": "code",
   "execution_count": null,
   "metadata": {},
   "outputs": [],
   "source": [
    "sqrt(a)"
   ]
  },
  {
   "cell_type": "code",
   "execution_count": null,
   "metadata": {},
   "outputs": [],
   "source": [
    "e.^(a/2)"
   ]
  },
  {
   "cell_type": "code",
   "execution_count": null,
   "metadata": {},
   "outputs": [],
   "source": [
    "a + b"
   ]
  },
  {
   "cell_type": "code",
   "execution_count": null,
   "metadata": {},
   "outputs": [],
   "source": [
    "a.* b"
   ]
  },
  {
   "cell_type": "code",
   "execution_count": null,
   "metadata": {
    "scrolled": true
   },
   "outputs": [],
   "source": [
    "v = linspace(0, 30, 61); % REVIEW\n",
    "v1 = 0 : 0.5 : 30"
   ]
  },
  {
   "cell_type": "code",
   "execution_count": null,
   "metadata": {
    "scrolled": true
   },
   "outputs": [],
   "source": [
    "v = linspace(1, 2)"
   ]
  },
  {
   "cell_type": "code",
   "execution_count": null,
   "metadata": {},
   "outputs": [],
   "source": [
    "row1 = linspace(10, 20, 6)\n",
    "row2 = linspace(20, 10, 6)\n",
    "A = [row1; row2]"
   ]
  },
  {
   "cell_type": "code",
   "execution_count": null,
   "metadata": {},
   "outputs": [],
   "source": [
    "dot(a, b)"
   ]
  },
  {
   "cell_type": "code",
   "execution_count": null,
   "metadata": {},
   "outputs": [],
   "source": [
    "A = [a; b]"
   ]
  },
  {
   "cell_type": "code",
   "execution_count": null,
   "metadata": {},
   "outputs": [],
   "source": [
    "y = A.* b"
   ]
  },
  {
   "cell_type": "code",
   "execution_count": null,
   "metadata": {
    "scrolled": true
   },
   "outputs": [],
   "source": [
    "M = diag(a)\n",
    "M1 = diag(a, -1)\n",
    "M2 = diag(a, 1)"
   ]
  },
  {
   "cell_type": "markdown",
   "metadata": {},
   "source": [
    "## Exercise 2"
   ]
  },
  {
   "cell_type": "code",
   "execution_count": null,
   "metadata": {
    "scrolled": true
   },
   "outputs": [],
   "source": [
    "col = [3 3 3]'\n",
    "M = 2 * ones(3)\n",
    "M = [M, col]"
   ]
  },
  {
   "cell_type": "code",
   "execution_count": null,
   "metadata": {
    "scrolled": true
   },
   "outputs": [],
   "source": [
    "B = 2 * eye(3)\n",
    "row = [1 2 3 4 5 6 7 8 9 10]\n",
    "M = [row; row; row]\n",
    "M = [B, M]"
   ]
  },
  {
   "cell_type": "code",
   "execution_count": null,
   "metadata": {
    "scrolled": true
   },
   "outputs": [],
   "source": [
    "a = [2 2 2 2 2]\n",
    "b = [-1 -1 -1 -1]\n",
    "C = diag(a)\n",
    "D = diag(b, -1)\n",
    "E = diag(b, 1)\n",
    "F = C + D + E"
   ]
  },
  {
   "cell_type": "code",
   "execution_count": null,
   "metadata": {
    "scrolled": true
   },
   "outputs": [],
   "source": [
    "row = [2 2 3 3]\n",
    "base = zeros(2)\n",
    "block = 5 * eye(2)\n",
    "D = [row; row; base base; base block]"
   ]
  },
  {
   "cell_type": "markdown",
   "metadata": {},
   "source": [
    "## Exercise 3"
   ]
  },
  {
   "cell_type": "code",
   "execution_count": null,
   "metadata": {},
   "outputs": [],
   "source": [
    "n = 0 : 101;\n",
    "sum(n)\n",
    "\n",
    "a = 0;\n",
    "for(i = 0:101)\n",
    "    a += i;\n",
    "endfor\n",
    "a"
   ]
  },
  {
   "cell_type": "markdown",
   "metadata": {},
   "source": [
    "## Exercise 4"
   ]
  },
  {
   "cell_type": "code",
   "execution_count": null,
   "metadata": {},
   "outputs": [],
   "source": [
    "function retval = transform(n)\n",
    "    if (n > 1)\n",
    "        if (mod(n, 2) == 0)\n",
    "            retval =  n./2;\n",
    "        else\n",
    "            retval = 3 .* n + 1;\n",
    "        endif\n",
    "    else\n",
    "        error (\"expecting value > 1\");\n",
    "    endif\n",
    "endfunction"
   ]
  },
  {
   "cell_type": "code",
   "execution_count": null,
   "metadata": {},
   "outputs": [],
   "source": [
    "transform(4)"
   ]
  },
  {
   "cell_type": "markdown",
   "metadata": {},
   "source": [
    "## Exercise 5"
   ]
  },
  {
   "cell_type": "markdown",
   "metadata": {},
   "source": [
    "In mathematics, the Fibonacci numbers, commonly denoted $Fn$, form a sequence, called the Fibonacci sequence, such that each number is the sum of the two preceding ones, starting from $0$ and $1$. That is,\n",
    "\n",
    "$$ F_{0}=0, F_{1}=1 $$\n",
    "\n",
    "and \n",
    "\n",
    "$$ F_{n} = F_{n-1} + F_{n-2} $$ for $n > 1$. "
   ]
  },
  {
   "cell_type": "code",
   "execution_count": null,
   "metadata": {},
   "outputs": [],
   "source": [
    "function retval = fibonacci_rec(n)\n",
    "    if(n == 0)\n",
    "        retval = 0;\n",
    "    elseif(n == 1)\n",
    "        retval = 1;\n",
    "    else\n",
    "        retval = fibonacci_rec(n - 1) + fibonacci_rec(n - 2);\n",
    "    end\n",
    "end"
   ]
  },
  {
   "cell_type": "code",
   "execution_count": null,
   "metadata": {},
   "outputs": [],
   "source": [
    "function f_0 = fibonacci(n)\n",
    "f_1 = 1;\n",
    "f_2 = 0;\n",
    "i = 1;\n",
    "    while i < n\n",
    "    f_0 = (f_1) + (f_2);\n",
    "    f_2 = f_1;\n",
    "    f_1 = f_0;\n",
    "    i = i + 1;\n",
    "    end\n",
    "end"
   ]
  },
  {
   "cell_type": "code",
   "execution_count": null,
   "metadata": {},
   "outputs": [],
   "source": [
    "tic()\n",
    "fibonacci_rec(24)\n",
    "elapsed_time = toc()\n",
    "tic()\n",
    "fibonacci(24)\n",
    "elapsed_time = toc()"
   ]
  },
  {
   "cell_type": "markdown",
   "metadata": {},
   "source": [
    "## Exercise 6"
   ]
  },
  {
   "cell_type": "markdown",
   "metadata": {},
   "source": [
    "An algorithm for computing the midpoint"
   ]
  },
  {
   "cell_type": "code",
   "execution_count": null,
   "metadata": {},
   "outputs": [],
   "source": [
    "beta = 10;\n",
    "t = 2;\n",
    "a = 0.96e-01;\n",
    "b = 0.99e-01;"
   ]
  },
  {
   "cell_type": "markdown",
   "metadata": {},
   "source": [
    "The first algorithm uses: $$a + \\frac{b-a}{2} $$"
   ]
  },
  {
   "cell_type": "code",
   "execution_count": null,
   "metadata": {},
   "outputs": [],
   "source": [
    "c = a + b\n",
    "# a = vpa(a, 2)"
   ]
  },
  {
   "cell_type": "markdown",
   "metadata": {},
   "source": [
    "This means that the result obtained with this equation does not belong to the range $[0.096-0.099]$ and thus is incorrect.  Another way of computing the midpoint is this: \n",
    "$$a + \\frac{b- a}{2} $$"
   ]
  },
  {
   "cell_type": "code",
   "execution_count": null,
   "metadata": {},
   "outputs": [],
   "source": [
    "d = a + (b - a) / 2"
   ]
  },
  {
   "cell_type": "markdown",
   "metadata": {},
   "source": [
    "This time a correct result is obtained, considering the approximation of $fl_a$."
   ]
  },
  {
   "cell_type": "markdown",
   "metadata": {},
   "source": [
    "## Exercise 7"
   ]
  },
  {
   "cell_type": "markdown",
   "metadata": {},
   "source": [
    "The Algorithm of Archimedes for computing $\\pi$. This algorithm provides approximations to $\\pi$ through the use of the succession $\\{A_i\\}_{i = 1,...,n}$. This succession computes the "
   ]
  },
  {
   "cell_type": "markdown",
   "metadata": {},
   "source": [
    "L'algoritmo di Archimede per il calcolo di pigreco implementato dalla funzione `archimede(n)` soffre di instabilità numerica poiché il valore di pigreco  diverge in modo progressivamente maggiore dal valore reale di pigreco a partire dal passo `n = 15`. \n",
    "\n",
    "In particolare si nota che il valore dell'errore relativo subisce un brusco aumento a partire dal passo `n = 16`."
   ]
  },
  {
   "cell_type": "code",
   "execution_count": null,
   "metadata": {},
   "outputs": [],
   "source": [
    "function A=archimede(n)\n",
    "b(1)=2;\n",
    "s(1)=1;\n",
    "    for i=1:n\n",
    "        A(i)=b(i)*s(i);\n",
    "        s(i+1)=sqrt( (1-sqrt(1-s(i)^2) )/2 );\n",
    "        b(i+1)=2*b(i);\n",
    "    end\n",
    "end"
   ]
  },
  {
   "cell_type": "markdown",
   "metadata": {},
   "source": [
    "La funzione `myarchimede(n)` rappresenta una variante dell'algoritmo di Archimede che riesce a porre rimedio all'instabilità di cui soffriva la precedente versione.  Ciò è dovuto alla diversa strategia adottata per il calcolo del valore della cella i-esima del vettore `s`.\n",
    "\n",
    "L'espressione:\n",
    "\n",
    "$$\\sqrt{\\frac{1-\\sqrt{1-s^2_{t-1}}}{2}}$$\n",
    "\n",
    "si riformula in:\n",
    "\n",
    "$$\\frac{s_{i-1}}{\\sqrt{2 \\left( 1+\\sqrt{1-s^2_{i-1}} \\right)}}$$"
   ]
  },
  {
   "cell_type": "code",
   "execution_count": null,
   "metadata": {},
   "outputs": [],
   "source": [
    "function A=myarchimede(n)\n",
    "b(1)=2;\n",
    "s(1)=1;\n",
    "    for i=1:n\n",
    "        A(i)=b(i)*s(i);\n",
    "        s(i+1)=s(i)/sqrt( 2*(1+sqrt(1-s(i)^2)) );\n",
    "        b(i+1)=2*b(i);\n",
    "    end\n",
    "end"
   ]
  },
  {
   "cell_type": "code",
   "execution_count": null,
   "metadata": {},
   "outputs": [],
   "source": [
    "n = 24;\n",
    "A=archimede(n);\n",
    "err=abs(A-pi)/pi; % formula per il calcolo dell'errore relativo di A\n",
    "\n",
    "Anew=myarchimede(n);\n",
    "errnew=abs(Anew-pi)/pi; % formula per il calcolo dell'errore relativo di A*\n",
    "\n",
    "figure(1)\n",
    "semilogy(1:n,err,'ks-',1:n,errnew,'ro-')\n",
    "legend('A','A*')\n",
    "box off"
   ]
  },
  {
   "cell_type": "code",
   "execution_count": null,
   "metadata": {
    "scrolled": true
   },
   "outputs": [],
   "source": [
    "[A.' Anew.'] "
   ]
  },
  {
   "cell_type": "code",
   "execution_count": null,
   "metadata": {},
   "outputs": [],
   "source": [
    "format long\n",
    "pi"
   ]
  },
  {
   "cell_type": "markdown",
   "metadata": {},
   "source": [
    "## Exercise 8"
   ]
  },
  {
   "cell_type": "code",
   "execution_count": null,
   "metadata": {},
   "outputs": [],
   "source": [
    "k = 1/3; # 1/2, 1, 2\n",
    "x = -pi : pi;\n",
    "y = sin(k*x);\n",
    "\n",
    "figure(1)\n",
    "plot( x,sin(1/2*x),'ks-',\n",
    "      x,sin(1/3*x),'ro-',\n",
    "      x,sin(x), 'bs-',\n",
    "      x,sin(2*x),'ks-')\n",
    "legend('1/2','1/3', '1', '2')\n",
    "box off"
   ]
  },
  {
   "cell_type": "code",
   "execution_count": 14,
   "metadata": {},
   "outputs": [
    {
     "name": "stdout",
     "output_type": "stream",
     "text": [
      "Lo script grafica una funzione scelta\n",
      "dall\"utente tra le seguenti:\n",
      " \n",
      "      1) y = x^3-3x             per  -3 <= x <=3\n",
      "      2) y = 3x cos(2x)         per  0 <= x <= 2pi\n",
      "      3) y = sin(x)/x           per  -8pi <= x <= 8pi\n",
      " \n"
     ]
    },
    {
     "name": "stdin",
     "output_type": "stream",
     "text": [
      "Scegliere una tra le funzioni indicate, digitandone il numero: 3\n"
     ]
    },
    {
     "data": {
      "image/png": "[encoded data removed]",
      "text/plain": [
       "<IPython.core.display.Image object>"
      ]
     },
     "metadata": {},
     "output_type": "display_data"
    }
   ],
   "source": [
    "disp('Lo script grafica una funzione scelta');\n",
    "disp('dall\"utente tra le seguenti:');disp(' ');\n",
    "disp('      1) y = x^3-3x             per  -3 <= x <=3');\n",
    "disp('      2) y = 3x cos(2x)         per  0 <= x <= 2pi');\n",
    "disp('      3) y = sin(x)/x           per  -8pi <= x <= 8pi');disp(' ');\n",
    "scelta =\n",
    "input('Scegliere una tra le funzioni indicate, digitandone il numero: ');\n",
    "\n",
    "switch scelta\n",
    "\n",
    "case 1\n",
    "    f=@(x) x.^3-3*x;\n",
    "    x = [-3:0.05:3];\n",
    "    y = f(x);\n",
    "    plot(x,y,'r')\n",
    "    box off\n",
    "    xlabel('x'); ylabel('y');\n",
    "    title('Grafico della funzione 1');\n",
    "    legend('y=x^3-3*x');\n",
    "\n",
    "case 2\n",
    "    f=@(x) 3*x.*cos(2*x);\n",
    "    x = [0:pi/50:2*pi];\n",
    "    y = f(x);\n",
    "    plot(x,y,'b')\n",
    "    box off\n",
    "    xlabel('x'); ylabel('y');\n",
    "    title('Grafico della funzione 2');\n",
    "    legend('y=3*x*cos(2x)');\n",
    "    \n",
    "case 3\n",
    "    f=@(x) sin(x)./x;\n",
    "    x = [-8*pi:pi/50:8*pi];\n",
    "    y = f(x);\n",
    "    plot(x,y,'m')\n",
    "    box off\n",
    "    xlabel('x'); ylabel('y');\n",
    "    title('Grafico della funzione 3');\n",
    "    legend('y=sin(x)/x'); \n",
    "    \n",
    "end  "
   ]
  },
  {
   "cell_type": "code",
   "execution_count": 40,
   "metadata": {},
   "outputs": [
    {
     "data": {
      "image/png": "[encoded data removed]",
      "text/plain": [
       "<IPython.core.display.Image object>"
      ]
     },
     "metadata": {},
     "output_type": "display_data"
    }
   ],
   "source": [
    "Pa = [-6, -6, -7, 0, 7, 6, 6, -3, -3, 0, 0, -6;\n",
    "-7, 2, 1, 8, 1, 2, -7, -7, -2, -2, -7, -7];\n",
    "\n",
    "row1 = Pa(1,:);\n",
    "row2 = Pa(2,:);\n",
    "subplot(2,2,1)\n",
    "plot(row1, row2)\n",
    "box off\n",
    "\n",
    "alpha_vett=[pi/2, pi/3, pi];   \n",
    "\n",
    "for k=1:length(alpha_vett)\n",
    "alpha = alpha_vett(k);\n",
    "\n",
    "% rotazione in senso antiorario di angolo alpha\n",
    "% A=[cos(alpha) -sin(alpha); sin(alpha) cos(alpha)];\n",
    "\n",
    "% rotazione in senso orario di angolo alpha\n",
    "A=[cos(-alpha) -sin(-alpha); sin(-alpha) cos(-alpha)];\n",
    "\n",
    "subplot(2,2,k+1);\n",
    "Prot = A * Pa;\n",
    "plot(Prot(1,:),Prot(2,:)) \n",
    "box off\n",
    "end"
   ]
  }
 ],
 "metadata": {
  "kernelspec": {
   "display_name": "Octave",
   "language": "octave",
   "name": "octave"
  },
  "language_info": {
   "file_extension": ".m",
   "help_links": [
    {
     "text": "GNU Octave",
     "url": "https://www.gnu.org/software/octave/support.html"
    },
    {
     "text": "Octave Kernel",
     "url": "https://github.com/Calysto/octave_kernel"
    },
    {
     "text": "MetaKernel Magics",
     "url": "https://metakernel.readthedocs.io/en/latest/source/README.html"
    }
   ],
   "mimetype": "text/x-octave",
   "name": "octave",
   "version": "5.2.0"
  }
 },
 "nbformat": 4,
 "nbformat_minor": 4
}
