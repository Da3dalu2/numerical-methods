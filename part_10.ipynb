{
 "cells": [
  {
   "cell_type": "markdown",
   "metadata": {},
   "source": [
    "# Parte 10\n",
    "\n",
    "Sviluppo dei codici relativi alle formule di quadratura di Newton-Cotes nella versione composita e automatica.\n",
    "Sperimentazione numerica relativa alle formule di quadratura implementate."
   ]
  },
  {
   "cell_type": "code",
   "execution_count": 1,
   "metadata": {},
   "outputs": [],
   "source": [
    "pkg load symbolic"
   ]
  },
  {
   "cell_type": "markdown",
   "metadata": {},
   "source": [
    "## Formula dei trapezi composita\n",
    "\n",
    "Definita su N sottointervalli individuati da nodi equispaziati."
   ]
  },
  {
   "cell_type": "code",
   "execution_count": 2,
   "metadata": {},
   "outputs": [],
   "source": [
    "function I = trapeziComp(f, a, b, N)\n",
    "\n",
    "h = (b - a) / N; % passo di campionamento\n",
    "x = (a:h:b); % nodi equispaziati\n",
    "\n",
    "y = f(x); % vettore contenente le valutazioni della funzione\n",
    "\n",
    "I = (y(1) + 2 * sum(y(2:N)) + y(N + 1)) * h / 2;\n",
    "% formula dei trapezi di quadratura composita\n",
    "% a = 1\n",
    "% b = N + 2\n",
    "% da 2 a N come da 1 a N - 1\n",
    "\n",
    "end"
   ]
  },
  {
   "cell_type": "markdown",
   "metadata": {},
   "source": [
    "## Formula di Simpson composita\n",
    "\n",
    "Definita su N sottointervalli individuati da nodi equispaziati."
   ]
  },
  {
   "cell_type": "code",
   "execution_count": 3,
   "metadata": {},
   "outputs": [],
   "source": [
    "function I = simpComp(f, a, b, N)\n",
    "\n",
    "h = (b - a) / (2 * N);\n",
    "x = (a:h:b);\n",
    "y = f(x);\n",
    "\n",
    "I = (y(1) + 2 * sum(y(3:2:2 * N - 1)) + 4 * sum(y(2:2:2 * N)) ...\n",
    "+ y(2 * N + 1)) * h/3;\n",
    "% formula di Simpson composita\n",
    "% a = 1\n",
    "% b = 2*N + 1\n",
    "% 2 -> N come 3 -> N - 1\n",
    "\n",
    "end"
   ]
  },
  {
   "cell_type": "markdown",
   "metadata": {},
   "source": [
    "## Formula di quadratura del trapezio con quadratura automatica\n",
    "\n",
    "    [I, N] = trapToll(fun, a, b, tol)\n",
    "\n",
    "Output:\n",
    "- `I` indica la migliore approssimazione dell'integrale restituita dalla funzione;\n",
    "- `N` indica il numero di sottointervalli in cui si applica la formula di quadratura del trapezio.\n",
    "\n",
    "Fino a quando non si raggiunge la tolleranza desiderata o il numero massimo di sottointervalli creati si ricalcola l'approssimazione dell'integrale con un numero di sottointervalli progressivamente crescente."
   ]
  },
  {
   "cell_type": "code",
   "execution_count": 4,
   "metadata": {},
   "outputs": [],
   "source": [
    "function [I, N] = trapToll(fun, a, b, tol)\n",
    "\n",
    "Nmax = 2048; % si impone comunque un limite superiore\n",
    "err = 1;\n",
    "\n",
    "N = 1;\n",
    "I = trapeziComp(fun, a, b, N);\n",
    "\n",
    "while N <= Nmax && err > tol\n",
    "    N = 2 * N; % strategia di raddoppio del numero di sottointervalli\n",
    "    Ik = trapeziComp(fun, a, b, N);\n",
    "    err = abs(I - Ik) / 3; % formula stima del resto con s = 2\n",
    "    I = Ik;\n",
    "end\n",
    "\n",
    "end"
   ]
  },
  {
   "cell_type": "markdown",
   "metadata": {},
   "source": [
    "## Formula di quadratura di Simpson con quadratura automatica\n",
    "\n",
    "    [I, N] = simpToll(fun, a, b, tol)\n",
    "\n",
    "Output:\n",
    "- `I` indica la migliore approssimazione dell'integrale restituita dalla funzione;\n",
    "- `N` indica il numero di sottointervalli in cui si applica la formula di quadratura di Simpson.\n",
    "\n",
    "Fino a quando non si raggiunge la tolleranza desiderata o il numero massimo di sottointervalli creati si ricalcola l'approssimazione dell'integrale con un numero di sottointervalli progressivamente crescente."
   ]
  },
  {
   "cell_type": "code",
   "execution_count": 5,
   "metadata": {},
   "outputs": [],
   "source": [
    "function [I, N] = simpToll(fun, a, b, tol)\n",
    "\n",
    "Nmax = 2048;\n",
    "err = 1;\n",
    "\n",
    "N = 1;\n",
    "I = simpComp(fun, a, b, N);\n",
    "\n",
    "while N <= Nmax && err > tol\n",
    "    N = 2 * N;\n",
    "    Ik = simpComp(fun, a, b, N);\n",
    "    err = abs(I - Ik) / 15;\n",
    "    I = Ik;\n",
    "\n",
    "end\n",
    "\n",
    "end"
   ]
  },
  {
   "cell_type": "markdown",
   "metadata": {},
   "source": [
    "## TODO - Esercizio 1"
   ]
  },
  {
   "cell_type": "code",
   "execution_count": 6,
   "metadata": {},
   "outputs": [
    {
     "name": "stdout",
     "output_type": "stream",
     "text": [
      "Symbolic pkg v2.9.0: Python communication link active, SymPy v1.5.\n"
     ]
    }
   ],
   "source": [
    "syms x %real\n",
    "%----------------------\n",
    "f = 1./(1 + x);\n",
    "% f = x * sin(pi * x);\n",
    "% f = x^2 * exp(x);\n",
    "% f = log(1 + x);\n",
    "%----------------------\n",
    "f = function_handle(f);\n",
    "\n",
    "a = 0; b = 1;\n",
    "I_es = double(int(f,x,a,b)); % F = int(expr,var,a,b)\n",
    "tol = 0.5e-3; % il resto deve avere modulo minore di tol\n",
    "\n",
    "xx = linspace(a, b, 300);\n",
    "% si calcola il massimo valor assunto dalla funzione in [a,b]"
   ]
  },
  {
   "cell_type": "code",
   "execution_count": 7,
   "metadata": {},
   "outputs": [],
   "source": [
    "% Stima dell'errore commesso nell'integrazione tramite la formula dei trapezi\n",
    "\n",
    "% 1.massimo in xx\n",
    "df_trap = diff(f, x, 2);\n",
    "df_trap = function_handle(df_trap);\n",
    "yy_trap = feval(df_trap, xx);\n",
    "max_trap = max(abs(yy_trap));\n",
    "\n",
    "% 2. formula del resto dei trapezi per il numero di iterazioni\n",
    "N_trap = (((b - a)^3 * max_trap) / (12 * tol))^(1/2);\n",
    "N_trap = ceil(N_trap);\n",
    "\n",
    "% 3. applicazione del metodo dei trapezi\n",
    "I_trap = trapeziComp(f, a, b, N_trap);\n",
    "\n",
    "% 4. calcolo errore relativo\n",
    "err_rel = abs(I_es - I_trap) / abs(I_es);"
   ]
  },
  {
   "cell_type": "code",
   "execution_count": 8,
   "metadata": {},
   "outputs": [],
   "source": [
    "% Stima dell'errore commesso nell'integrazione tramite la formula di Simpson\n",
    "\n",
    "% 1. Massimo in xx\n",
    "\n",
    "df_simp = diff(f, x, 4);\n",
    "df_simp = matlabFunction(df_simp);\n",
    "yy_simp = feval(df_simp, xx);\n",
    "max_simp = max(abs(yy_simp));\n",
    "\n",
    "% 2. Calcolo num. sottointervalli con formula del resto\n",
    "N_simp = (((b - a)^5 * max_simp) / (2880 * tol))^(1/4);\n",
    "N_simp = ceil(N_simp);\n",
    "\n",
    "% 3. Calcolo integrale approssimato con formula di Simpson\n",
    "I_simp = simpComp(f, a, b, N_simp);\n",
    "\n",
    "% 4. Calcolo err_rel sull'approssimazione\n",
    "err_rel_simp = abs(I_es - I_simp) / abs(I_es);"
   ]
  },
  {
   "cell_type": "code",
   "execution_count": 9,
   "metadata": {},
   "outputs": [
    {
     "name": "stdout",
     "output_type": "stream",
     "text": [
      "trapezi composita: 2.496877e-04\n",
      "simpson composita: 3.262310e-05\n"
     ]
    }
   ],
   "source": [
    "fprintf(\"trapezi composita: %e\\n\", err_rel);\n",
    "fprintf(\"simpson composita: %e\\n\", err_rel_simp);"
   ]
  },
  {
   "cell_type": "markdown",
   "metadata": {},
   "source": [
    "## Esercizio 2"
   ]
  },
  {
   "cell_type": "code",
   "execution_count": 10,
   "metadata": {},
   "outputs": [
    {
     "data": {
      "image/png": "[encoded data removed]",
      "text/plain": [
       "<IPython.core.display.Image object>"
      ]
     },
     "metadata": {},
     "output_type": "display_data"
    }
   ],
   "source": [
    "syms x %real\n",
    "\n",
    "%---------------\n",
    "f = x^10;\n",
    "% f = log(x + 1);\n",
    "% f = arcsin(x);\n",
    "%---------------\n",
    "f = function_handle(f);\n",
    "\n",
    "a = 0; b = 1;\n",
    "xx = linspace(a, b, 300);\n",
    "I_es = double(int(f, x, a, b));\n",
    "abs_es = abs(I_es);\n",
    "\n",
    "% preallocazione\n",
    "err_rel_trap = zeros(9, 1);\n",
    "err_rel_simp = zeros(9, 1);\n",
    "\n",
    "i = 0;\n",
    "for N = [1 2 4 8 16 32 64 128 256] \n",
    "    i = i + 1;\n",
    "    I_trap = trapeziComp(f, a, b, N);\n",
    "    I_simp = simpComp(f, a, b, N);\n",
    "    err_rel_trap(i) = abs(I_es - I_trap) / abs_es;\n",
    "    err_rel_simp(i) = abs(I_es - I_simp) / abs_es;\n",
    "end\n",
    "\n",
    "figure\n",
    "semilogy([1 2 4 8 16 32 64 128 256], err_rel_trap, \"bo-\", ...\n",
    "    [1 2 4 8 16 32 64 128 256], err_rel_simp, \"ro-\");\n",
    "title(\"Confronto errore relativo approssimazione integrale\");\n",
    "legend(\"trap\",\"simp\")\n",
    "box off"
   ]
  },
  {
   "cell_type": "markdown",
   "metadata": {},
   "source": [
    "## Esercizio 3"
   ]
  },
  {
   "cell_type": "code",
   "execution_count": 11,
   "metadata": {},
   "outputs": [
    {
     "name": "stdout",
     "output_type": "stream",
     "text": [
      "I_trap =  0.38629\n",
      "N_trap =  256\n",
      "I_simp =  0.38629\n",
      "N_toll =  8\n"
     ]
    }
   ],
   "source": [
    "syms x real\n",
    "\n",
    "%------------\n",
    "f = log(x); a = 1; b = 2;\n",
    "% f = sqrt(x); a = 0; b = 1;\n",
    "% f = abs(x); a = -1; b = 1;\n",
    "%------------\n",
    "\n",
    "f = function_handle(f);\n",
    "tol = 1.e-6;\n",
    "\n",
    "[I_trap, N_trap] = trapToll(f, a, b, tol)\n",
    "[I_simp, N_toll] = simpToll(f, a, b, tol)"
   ]
  },
  {
   "cell_type": "markdown",
   "metadata": {},
   "source": [
    "## TODO - Esercizio 4\n",
    "\n",
    "Si nota che più è piccolo l'esponente più la formula dei trapezi diventa meno efficiente in relazione a quella di Simpson."
   ]
  },
  {
   "cell_type": "code",
   "execution_count": 17,
   "metadata": {},
   "outputs": [
    {
     "name": "stdout",
     "output_type": "stream",
     "text": [
      "warning: passing floating-point values to sym is dangerous, see \"help sym\"\n",
      "warning: called from\n",
      "    double_to_sym_heuristic at line 50 column 7\n",
      "    sym at line 379 column 13\n",
      "    mpower at line 76 column 5\n",
      "warning: passing floating-point values to sym is dangerous, see \"help sym\"\n",
      "warning: called from\n",
      "    double_to_sym_heuristic at line 50 column 7\n",
      "    sym at line 379 column 13\n",
      "    power at line 84 column 5\n",
      "    eval>@<anonymous> at line 1 column 20\n",
      "    sym at line 312 column 7\n",
      "    int at line 138 column 7\n",
      "warning: passing floating-point values to sym is dangerous, see \"help sym\"\n",
      "warning: called from\n",
      "    double_to_sym_heuristic at line 50 column 7\n",
      "    sym at line 379 column 13\n",
      "    int at line 138 column 7\n",
      "warning: passing floating-point values to sym is dangerous, see \"help sym\"\n",
      "warning: called from\n",
      "    double_to_sym_heuristic at line 50 column 7\n",
      "    sym at line 379 column 13\n",
      "    minus at line 55 column 5\n",
      "error: operator =: no conversion for assignment of 'class' to indexed 'matrix'\n"
     ]
    }
   ],
   "source": [
    "syms x real\n",
    "\n",
    "%------------\n",
    "% f = cos(x); a = 0; b = 2;\n",
    "% f = x * exp(x) * cos(x^2); a = -2; b = 0;\n",
    "alpha = 13/2;\n",
    "% alpha = 5/2;\n",
    "% alpha = 1/2;\n",
    "f = (sin(x))^alpha * cos(x); a = 0; b = pi/2;\n",
    "%------------\n",
    "\n",
    "f = function_handle(f);\n",
    "\n",
    "I_es = int(f, x, a, b);\n",
    "abs_es = abs(I_es);\n",
    "\n",
    "for k = 4:10\n",
    "    tol = 1 * 10^-k;   \n",
    "    [I_trap, N_trap(k - 3)] = trapToll(f, a, b, tol);\n",
    "    err_rel_trap(k - 3) = abs(I_es - I_trap) / abs_es;\n",
    "    [I_simp, N_simp(k - 3)] = simpToll(f, a, b, tol);\n",
    "    err_rel_simp(k - 3) = abs(I_es - I_simp) / abs_es;\n",
    "end\n",
    "\n",
    "N_val_trap = N_trap + 1;\n",
    "N_val_simp = N_simp.*2 + 1;"
   ]
  },
  {
   "cell_type": "code",
   "execution_count": 13,
   "metadata": {},
   "outputs": [
    {
     "name": "stdout",
     "output_type": "stream",
     "text": [
      "error: __plt2vv__: vector lengths must match\n",
      "error: called from\n",
      "    __plt__>__plt2vv__ at line 482 column 5\n",
      "    __plt__>__plt2__ at line 242 column 14\n",
      "    __plt__ at line 107 column 18\n",
      "    semilogy at line 60 column 10\n",
      "warning: legend: plot data is empty; setting key labels has no effect\n",
      "warning: called from\n",
      "    legend at line 426 column 9\n"
     ]
    },
    {
     "data": {
      "image/png": "[encoded data removed]",
      "text/plain": [
       "<IPython.core.display.Image object>"
      ]
     },
     "metadata": {},
     "output_type": "display_data"
    }
   ],
   "source": [
    "figure\n",
    "semilogy((4:10), err_rel_trap, \"bo-\", ...\n",
    "    (4:10), err_rel_simp, \"ro-\")\n",
    "xlabel(\"tolleranza 1 x 10^{-k}\")\n",
    "ylabel(\"errore relativo\");\n",
    "legend(\"trapezi\", \"simpson\");\n",
    "title(\"Confronto sull'accuratezza\")\n",
    "box off"
   ]
  },
  {
   "cell_type": "code",
   "execution_count": 14,
   "metadata": {},
   "outputs": [
    {
     "data": {
      "image/png": "[encoded data removed]",
      "text/plain": [
       "<IPython.core.display.Image object>"
      ]
     },
     "metadata": {},
     "output_type": "display_data"
    }
   ],
   "source": [
    "figure\n",
    "plot((4:10), N_trap, \"bo-\", (4:10), N_simp, \"ro-\")\n",
    "xlabel(\"tolleranza 1 x 10^{-k}\")\n",
    "ylabel(\"sottointervalli creati\");\n",
    "legend(\"trapezi\", \"simpson\");\n",
    "title(\"Confronto sul numero di sottointervalli richiesti\")\n",
    "box off"
   ]
  },
  {
   "cell_type": "code",
   "execution_count": 15,
   "metadata": {},
   "outputs": [
    {
     "data": {
      "image/png": "[encoded data removed]",
      "text/plain": [
       "<IPython.core.display.Image object>"
      ]
     },
     "metadata": {},
     "output_type": "display_data"
    }
   ],
   "source": [
    "figure\n",
    "plot((4:10), N_val_trap, \"bo-\", (4:10), N_val_simp, \"ro-\")\n",
    "xlabel(\"tolleranza 1 x 10^{-k}\")\n",
    "ylabel(\"valutazioni effettuate\");\n",
    "legend(\"trapezi\", \"simpson\");\n",
    "title(\"Confronto sul numero di valutazioni richieste\")\n",
    "box off"
   ]
  }
 ],
 "metadata": {
  "kernelspec": {
   "display_name": "Octave",
   "language": "octave",
   "name": "octave"
  },
  "language_info": {
   "file_extension": ".m",
   "help_links": [
    {
     "text": "GNU Octave",
     "url": "https://www.gnu.org/software/octave/support.html"
    },
    {
     "text": "Octave Kernel",
     "url": "https://github.com/Calysto/octave_kernel"
    },
    {
     "text": "MetaKernel Magics",
     "url": "https://metakernel.readthedocs.io/en/latest/source/README.html"
    }
   ],
   "mimetype": "text/x-octave",
   "name": "octave",
   "version": "5.2.0"
  }
 },
 "nbformat": 4,
 "nbformat_minor": 4
}
