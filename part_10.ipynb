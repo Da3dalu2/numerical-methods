{
 "cells": [
  {
   "cell_type": "markdown",
   "metadata": {},
   "source": [
    "# Parte 10\n",
    "\n",
    "Sviluppo dei codici relativi alle formule di quadratura di Newton-Cotes, con $n = 1$ e $n=2$,nella versione composita e automatica.\n",
    "Sperimentazione numerica relativa alle formule di quadratura implementate."
   ]
  },
  {
   "cell_type": "code",
   "execution_count": 1,
   "metadata": {},
   "outputs": [],
   "source": [
    "pkg load symbolic"
   ]
  },
  {
   "cell_type": "markdown",
   "metadata": {},
   "source": [
    "## Formula dei trapezi composita\n",
    "\n",
    "Definita su $N$ sottointervalli individuati da nodi equispaziati, a partire da:\n",
    "\n",
    "$$ \n",
    "I(f) := \\frac{b - a}{2N} \\left( f(a) + 2 \\sum_{k = 1}^{N - 1} f(z_{k}) + f(b) \\right)\n",
    "$$\n",
    "\n",
    "    I = trap_comp(f, a, b, N)\n",
    "    \n",
    "Input:\n",
    "- `f`: funzione integranda (anonymous function);\n",
    "- `a`, `b`: estremo inferiore e superiore di integrazione;\n",
    "- `N`: tolleranza.\n",
    "\n",
    "Output:\n",
    "- `I`: funzione approssimata risultante dall'integrazione."
   ]
  },
  {
   "cell_type": "code",
   "execution_count": 2,
   "metadata": {},
   "outputs": [],
   "source": [
    "function I = trap_comp(f, a, b, N)\n",
    "% passo di campionamento, effettua un'interpolazione lineare, sfruttando una retta\n",
    "h = (b - a) / N; \n",
    "x = (a:h:b); % nodi equispaziati\n",
    "\n",
    "y = f(x); % vettore contenente le valutazioni della funzione\n",
    "\n",
    "I = (y(1) + 2 * sum(y(2:N)) + y(N + 1)) * h / 2;\n",
    "% formula dei trapezi di quadratura composita\n",
    "% a = 1\n",
    "% b = N + 2\n",
    "% da 2 a N come da 1 a N - 1\n",
    "\n",
    "end"
   ]
  },
  {
   "cell_type": "markdown",
   "metadata": {},
   "source": [
    "## Formula di Simpson composita\n",
    "\n",
    "Definita su $N$ sottointervalli individuati da nodi equispaziati, a partire da:\n",
    "\n",
    "$$ \n",
    "I(f) := \\frac{b - a}{6N} \\left( f(a) + 2 \\sum_{k = 1}^{N - 1} f(z_{k}) + 4 \\sum_{k = 0}^{N - 1} f \\left(\\frac{z_{k} + z_{k + 1}}{2} \\right) + f(b) \\right)\n",
    "$$\n",
    "\n",
    "    I = simp_comp(f, a, b, N)\n",
    "    \n",
    "Input:\n",
    "- `f`: funzione integranda (anonymous function);\n",
    "- `a`, `b`: estremo inferiore e superiore di integrazione;\n",
    "- `N`: tolleranza.\n",
    "\n",
    "Output:\n",
    "- `I`: funzione approssimata risultante dall'integrazione."
   ]
  },
  {
   "cell_type": "code",
   "execution_count": 3,
   "metadata": {},
   "outputs": [],
   "source": [
    "function I = simp_comp(f, a, b, N)\n",
    "\n",
    "% passo di campionamento (doppio rispetto ai trapezi), dato che effettua\n",
    "% un'interpolazione quadratica, sfruttando una parabola\n",
    "h = (b - a) / (2 * N); \n",
    "x = (a:h:b); % nodi equispaziati\n",
    "\n",
    "y = f(x); % vettore contenente le valutazioni della funzione\n",
    "\n",
    "I = (y(1) + 2 * sum(y(3:2:2*N-1)) + 4 * sum(y(2:2:2*N)) ...\n",
    "    + y(2 * N + 1)) * h/3; % passo 2 per iterare sui nodi dispari\n",
    "% formula di Simpson composita\n",
    "% a = 1\n",
    "% b = 2*N + 1\n",
    "% 2 -> N come 3 -> N - 1\n",
    "\n",
    "end"
   ]
  },
  {
   "cell_type": "markdown",
   "metadata": {},
   "source": [
    "## Formula del trapezio composita con quadratura automatica\n",
    "\n",
    "    [I, N] = trap_tol(fun, a, b, tol)\n",
    "    \n",
    "Input:\n",
    "- `f`: funzione integranda (anonymous function);\n",
    "- `a`, `b`: estremo inferiore e superiore di integrazione;\n",
    "- `tol`: tolleranza.\n",
    "\n",
    "Output:\n",
    "- `I` indica la migliore approssimazione dell'integrale restituita dalla funzione;\n",
    "- `N` indica il numero di sottointervalli in cui si applica la formula di quadratura del trapezio.\n",
    "\n",
    "Fino a quando non si raggiunge la tolleranza desiderata o il numero massimo di sottointervalli creati si ricalcola l'approssimazione dell'integrale con un numero di sottointervalli progressivamente crescente."
   ]
  },
  {
   "cell_type": "code",
   "execution_count": 4,
   "metadata": {},
   "outputs": [],
   "source": [
    "function [I, N] = trap_tol(fun, a, b, tol)\n",
    "\n",
    "N_max = 2048; % si impone comunque un limite superiore\n",
    "err = 1;\n",
    "\n",
    "N = 1;\n",
    "I = trap_comp(fun, a, b, N);\n",
    "\n",
    "while N <= N_max && err > tol\n",
    "    N = 2 * N; % strategia di raddoppio del numero di sottointervalli\n",
    "    Ik = trap_comp(fun, a, b, N);\n",
    "    err = abs(I - Ik) / 3; % formula stima del resto con s = 2\n",
    "    I = Ik;\n",
    "end\n",
    "\n",
    "if N > N_max\n",
    "    disp(\"Maximum number of intervals reached!\");\n",
    "    I = [];\n",
    "    N = [];\n",
    "    return;\n",
    "end\n",
    "\n",
    "end"
   ]
  },
  {
   "cell_type": "markdown",
   "metadata": {},
   "source": [
    "## Formula di Simpson composita con quadratura automatica\n",
    "\n",
    "    [I, N] = simp_tol(fun, a, b, tol)\n",
    "\n",
    "Input:\n",
    "- `f`: funzione integranda (anonymous function);\n",
    "- `a`, `b`: estremo inferiore e superiore di integrazione;\n",
    "- `tol`: tolleranza.\n",
    "\n",
    "Output:\n",
    "- `I` indica la migliore approssimazione dell'integrale restituita dalla funzione;\n",
    "- `N` indica il numero di sottointervalli in cui si applica la formula di quadratura di Simpson.\n",
    "\n",
    "Fino a quando non si raggiunge la tolleranza desiderata o il numero massimo di sottointervalli creati si ricalcola l'approssimazione dell'integrale con un numero di sottointervalli progressivamente crescente."
   ]
  },
  {
   "cell_type": "code",
   "execution_count": 5,
   "metadata": {},
   "outputs": [],
   "source": [
    "function [I, N] = simp_tol(fun, a, b, tol)\n",
    "\n",
    "N_max = 2048;\n",
    "err = 1;\n",
    "\n",
    "N = 1;\n",
    "I = simp_comp(fun, a, b, N);\n",
    "\n",
    "while N <= N_max && err > tol\n",
    "    N = 2 * N; % strategia di raddoppio del numero di sottointervalli\n",
    "    Ik = simp_comp(fun, a, b, N);\n",
    "    err = abs(I - Ik) / 15; % formula stima del resto con s = 4\n",
    "    I = Ik;\n",
    "end\n",
    "\n",
    "if N > N_max\n",
    "    disp(\"Maximum number of intervals reached!\");\n",
    "    I = [];\n",
    "    N = [];\n",
    "    return;\n",
    "end\n",
    "\n",
    "end"
   ]
  },
  {
   "cell_type": "markdown",
   "metadata": {},
   "source": [
    "## TODO - Esercizio 1"
   ]
  },
  {
   "cell_type": "code",
   "execution_count": 6,
   "metadata": {},
   "outputs": [
    {
     "name": "stdout",
     "output_type": "stream",
     "text": [
      "Symbolic pkg v2.9.0: Python communication link active, SymPy v1.5.\n"
     ]
    }
   ],
   "source": [
    "syms x\n",
    "%----------------------\n",
    "f = 1./(1 + x);\n",
    "% f = x * sin(pi * x);\n",
    "% f = x^2 * exp(x);\n",
    "% f = log(1 + x);\n",
    "%----------------------\n",
    "f = function_handle(f);\n",
    "\n",
    "a = 0;\n",
    "b = 1;\n",
    "\n",
    "% calcolo dell'integrale esatto con la built-in function |int(expr,var,a,b)|\n",
    "% a partire dall'integrale calcolato in forma simbolica si vuole ottenere un double\n",
    "I_es = double(int(f,x,a,b)); \n",
    "\n",
    "tol = 0.5e-3; % il resto deve avere modulo minore di tol\n",
    "\n",
    "xx = linspace(a, b, 300);"
   ]
  },
  {
   "cell_type": "code",
   "execution_count": 7,
   "metadata": {},
   "outputs": [],
   "source": [
    "% Stima dell'errore commesso nell'integrazione tramite la formula dei trapezi\n",
    "\n",
    "% Si calcola il massimo valor assunto dalla funzione in [a,b] tramite\n",
    "% il calcolo della derivata seconda in formato simbolico\n",
    "df2_trap = diff(f, x, 2);\n",
    "df2_trap = function_handle(df2_trap);\n",
    "yy_trap = feval(df2_trap, xx);\n",
    "max_trap = max(abs(yy_trap));"
   ]
  },
  {
   "cell_type": "markdown",
   "metadata": {},
   "source": [
    "Per determinare il numero di iterazioni necessarie per applicare la formula dei trapezi composita si impiega la formula seguente:\n",
    "\n",
    "$$\n",
    "N \\geq \\sqrt[2]{\\frac{(b-a)^{3} M}{12 \\cdot tol}}\n",
    "$$\n",
    "\n",
    "Questa espressione del numero di iterazioni richiesto dalla formula dei trapezi composita si ottiene a partire dalla formula del resto:\n",
    "\n",
    "$$\n",
    "|r_{1}^{N}(f)| = \\frac{(b - a)^{3}}{12 N^{2}} |f^{2} (x)| \\le \\frac{(b - a)^{3}}{12 N^{2}} M\n",
    "$$\n",
    "\n",
    "\n",
    "$$\n",
    "\\frac{(b - a)^{3}}{12 N^{2}}M \\le tol \\implies N \\geq \\sqrt[2]{\\frac{(b-a)^{3} M}{12 \\cdot t o l}}\n",
    "$$\n",
    "\n",
    "Dove $M = \\max_{x \\in [a,b]} | f^{(2)}(x)|$"
   ]
  },
  {
   "cell_type": "code",
   "execution_count": 8,
   "metadata": {},
   "outputs": [],
   "source": [
    "% 2. Formula del resto dei trapezi per il numero di iterazioni\n",
    "N_trap = (((b - a)^3 * max_trap) / (12 * tol))^(1/2);\n",
    "N_trap = ceil(N_trap);\n",
    "\n",
    "% 3. Calcolo integrale approssimato con formula dei trapezi composita\n",
    "I_trap = trap_comp(f, a, b, N_trap);\n",
    "\n",
    "% 4. Calcolo errore relativo\n",
    "err_rel = abs(I_es - I_trap) / abs(I_es);"
   ]
  },
  {
   "cell_type": "code",
   "execution_count": 9,
   "metadata": {},
   "outputs": [],
   "source": [
    "% Stima dell'errore commesso nell'integrazione tramite la formula di Simpson\n",
    "\n",
    "% Si calcola il massimo valor assunto dalla funzione in [a,b] tramite\n",
    "% il calcolo della derivata quarta in formato simbolico\n",
    "df4_simp = diff(f, x, 4);\n",
    "df4_simp = function_handle(df4_simp);\n",
    "yy_simp = feval(df4_simp, xx);\n",
    "max_simp = max(abs(yy_simp));"
   ]
  },
  {
   "cell_type": "markdown",
   "metadata": {},
   "source": [
    "Per determinare il numero di iterazioni necessarie per applicare la formula dei trapezi composita si impiega la formula seguente:\n",
    "\n",
    "$$\n",
    "N \\geq \\sqrt[4]{\\frac{(b-a)^{5} M}{2880 \\cdot tol}}\n",
    "$$"
   ]
  },
  {
   "cell_type": "code",
   "execution_count": 10,
   "metadata": {},
   "outputs": [],
   "source": [
    "% 2. Formula del resto di Simpson per il numero di iterazioni\n",
    "N_simp = (((b - a)^5 * max_simp) / (2880 * tol))^(1/4);\n",
    "N_simp = ceil(N_simp);\n",
    "\n",
    "% 3. Calcolo integrale approssimato con formula di Simpson composita\n",
    "I_simp = simp_comp(f, a, b, N_simp);\n",
    "\n",
    "% 4. Calcolo errore relativo\n",
    "err_rel_simp = abs(I_es - I_simp) / abs(I_es);"
   ]
  },
  {
   "cell_type": "code",
   "execution_count": 18,
   "metadata": {},
   "outputs": [
    {
     "name": "stdout",
     "output_type": "stream",
     "text": [
      "N_simp =  3\n",
      "N_trap =  256\n",
      "trapezi composita: 2.496877e-04\n",
      "simpson composita: 8.404948e-01\n",
      "simpson composita: 1.249434e-01\n",
      "simpson composita: 9.930228e-03\n",
      "simpson composita: 6.583810e-04\n",
      "simpson composita: 4.175720e-05\n",
      "simpson composita: 2.619405e-06\n",
      "simpson composita: 1.638628e-07\n",
      "simpson composita: 1.024377e-08\n",
      "simpson composita: 6.402719e-10\n",
      "I_simp =  0.38629\n",
      "I_trap =  0.38629\n"
     ]
    }
   ],
   "source": [
    "N_simp\n",
    "N_trap\n",
    "fprintf(\"trapezi composita: %e\\n\", err_rel);\n",
    "fprintf(\"simpson composita: %e\\n\", err_rel_simp);\n",
    "I_simp\n",
    "I_trap"
   ]
  },
  {
   "cell_type": "markdown",
   "metadata": {},
   "source": [
    "## Esercizio 2"
   ]
  },
  {
   "cell_type": "code",
   "execution_count": 12,
   "metadata": {},
   "outputs": [
    {
     "data": {
      "image/png": "[encoded data removed]",
      "text/plain": [
       "<IPython.core.display.Image object>"
      ]
     },
     "metadata": {},
     "output_type": "display_data"
    }
   ],
   "source": [
    "syms x %real\n",
    "\n",
    "%---------------\n",
    "f = x^10;\n",
    "% f = log(x + 1);\n",
    "% f = arcsin(x);\n",
    "%---------------\n",
    "f = function_handle(f);\n",
    "\n",
    "a = 0; b = 1;\n",
    "xx = linspace(a, b, 300);\n",
    "I_es = double(int(f, x, a, b));\n",
    "abs_es = abs(I_es);\n",
    "\n",
    "% preallocazione\n",
    "err_rel_trap = zeros(9, 1);\n",
    "err_rel_simp = zeros(9, 1);\n",
    "\n",
    "i = 0;\n",
    "for N = [1 2 4 8 16 32 64 128 256] \n",
    "    i = i + 1;\n",
    "    I_trap = trap_comp(f, a, b, N);\n",
    "    I_simp = simp_comp(f, a, b, N);\n",
    "    err_rel_trap(i) = abs(I_es - I_trap) / abs_es;\n",
    "    err_rel_simp(i) = abs(I_es - I_simp) / abs_es;\n",
    "end\n",
    "\n",
    "figure\n",
    "semilogy([1 2 4 8 16 32 64 128 256], err_rel_trap, \"bo-\", ...\n",
    "    [1 2 4 8 16 32 64 128 256], err_rel_simp, \"ro-\");\n",
    "title(\"Confronto errore relativo approssimazione integrale\");\n",
    "legend(\"trap\",\"simp\")\n",
    "box off"
   ]
  },
  {
   "cell_type": "markdown",
   "metadata": {},
   "source": [
    "## Esercizio 3"
   ]
  },
  {
   "cell_type": "code",
   "execution_count": 13,
   "metadata": {},
   "outputs": [
    {
     "name": "stdout",
     "output_type": "stream",
     "text": [
      "I_trap =  0.38629\n",
      "N_trap =  256\n",
      "I_simp =  0.38629\n",
      "N_toll =  8\n"
     ]
    }
   ],
   "source": [
    "syms x real\n",
    "\n",
    "%------------\n",
    "f = log(x); a = 1; b = 2;\n",
    "% f = sqrt(x); a = 0; b = 1;\n",
    "% f = abs(x); a = -1; b = 1;\n",
    "%------------\n",
    "\n",
    "f = function_handle(f);\n",
    "tol = 1.e-6;\n",
    "\n",
    "[I_trap, N_trap] = trap_tol(f, a, b, tol)\n",
    "[I_simp, N_toll] = simp_tol(f, a, b, tol)"
   ]
  },
  {
   "cell_type": "markdown",
   "metadata": {},
   "source": [
    "## TODO - Esercizio 4\n",
    "\n",
    "Si nota che più è piccolo l'esponente più la formula dei trapezi diventa meno efficiente in relazione a quella di Simpson."
   ]
  },
  {
   "cell_type": "code",
   "execution_count": 14,
   "metadata": {},
   "outputs": [],
   "source": [
    "syms x\n",
    "%{\n",
    "%------------\n",
    "% f = cos(x); a = 0; b = 2;\n",
    "% f = x * exp(x) * cos(x^2); a = -2; b = 0;\n",
    "alpha = 13/2;\n",
    "% alpha = 5/2;\n",
    "% alpha = 1/2;\n",
    "f = (sin(x))^alpha * cos(x); a = 0; b = pi/2;\n",
    "%------------\n",
    "\n",
    "f = function_handle(f);\n",
    "\n",
    "I_es = int(f, x, a, b);\n",
    "abs_es = abs(I_es);\n",
    "\n",
    "for k = 4:10\n",
    "    tol = 1 * 10^-k;   \n",
    "    [I_trap, N_trap(k - 3)] = trap_tol(f, a, b, tol);\n",
    "    err_rel_trap(k - 3) = abs(I_es - I_trap) / abs_es;\n",
    "    [I_simp, N_simp(k - 3)] = simp_tol(f, a, b, tol);\n",
    "    err_rel_simp(k - 3) = abs(I_es - I_simp) / abs_es;\n",
    "end\n",
    "\n",
    "N_val_trap = N_trap + 1;\n",
    "N_val_simp = N_simp.*2 + 1;\n",
    "%}"
   ]
  },
  {
   "cell_type": "code",
   "execution_count": 15,
   "metadata": {},
   "outputs": [
    {
     "name": "stdout",
     "output_type": "stream",
     "text": [
      "error: __plt2vv__: vector lengths must match\n",
      "error: called from\n",
      "    __plt__>__plt2vv__ at line 482 column 5\n",
      "    __plt__>__plt2__ at line 242 column 14\n",
      "    __plt__ at line 107 column 18\n",
      "    semilogy at line 60 column 10\n",
      "warning: legend: plot data is empty; setting key labels has no effect\n",
      "warning: called from\n",
      "    legend at line 426 column 9\n"
     ]
    },
    {
     "data": {
      "image/png": "[encoded data removed]",
      "text/plain": [
       "<IPython.core.display.Image object>"
      ]
     },
     "metadata": {},
     "output_type": "display_data"
    }
   ],
   "source": [
    "figure\n",
    "semilogy((4:10), err_rel_trap, \"bo-\", ...\n",
    "    (4:10), err_rel_simp, \"ro-\")\n",
    "xlabel(\"tolleranza 1 x 10^{-k}\")\n",
    "ylabel(\"errore relativo\");\n",
    "legend(\"trapezi\", \"simpson\");\n",
    "title(\"Confronto sull'accuratezza\")\n",
    "box off"
   ]
  },
  {
   "cell_type": "code",
   "execution_count": 16,
   "metadata": {},
   "outputs": [
    {
     "data": {
      "image/png": "[encoded data removed]",
      "text/plain": [
       "<IPython.core.display.Image object>"
      ]
     },
     "metadata": {},
     "output_type": "display_data"
    }
   ],
   "source": [
    "figure\n",
    "plot((4:10), N_trap, \"bo-\", (4:10), N_simp, \"ro-\")\n",
    "xlabel(\"tolleranza 1 x 10^{-k}\")\n",
    "ylabel(\"sottointervalli creati\");\n",
    "legend(\"trapezi\", \"simpson\");\n",
    "title(\"Confronto sul numero di sottointervalli richiesti\")\n",
    "box off"
   ]
  },
  {
   "cell_type": "code",
   "execution_count": 17,
   "metadata": {},
   "outputs": [
    {
     "name": "stdout",
     "output_type": "stream",
     "text": [
      "error: 'N_val_trap' undefined near line 1 column 14\n",
      "warning: legend: plot data is empty; setting key labels has no effect\n",
      "warning: called from\n",
      "    legend at line 426 column 9\n"
     ]
    },
    {
     "data": {
      "image/png": "[encoded data removed]",
      "text/plain": [
       "<IPython.core.display.Image object>"
      ]
     },
     "metadata": {},
     "output_type": "display_data"
    }
   ],
   "source": [
    "figure\n",
    "plot((4:10), N_val_trap, \"bo-\", (4:10), N_val_simp, \"ro-\")\n",
    "xlabel(\"tolleranza 1 x 10^{-k}\")\n",
    "ylabel(\"valutazioni effettuate\");\n",
    "legend(\"trapezi\", \"simpson\");\n",
    "title(\"Confronto sul numero di valutazioni richieste\")\n",
    "box off"
   ]
  }
 ],
 "metadata": {
  "kernelspec": {
   "display_name": "Octave",
   "language": "octave",
   "name": "octave"
  },
  "language_info": {
   "file_extension": ".m",
   "help_links": [
    {
     "text": "GNU Octave",
     "url": "https://www.gnu.org/software/octave/support.html"
    },
    {
     "text": "Octave Kernel",
     "url": "https://github.com/Calysto/octave_kernel"
    },
    {
     "text": "MetaKernel Magics",
     "url": "https://metakernel.readthedocs.io/en/latest/source/README.html"
    }
   ],
   "mimetype": "text/x-octave",
   "name": "octave",
   "version": "5.2.0"
  }
 },
 "nbformat": 4,
 "nbformat_minor": 4
}
