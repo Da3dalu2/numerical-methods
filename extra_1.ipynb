{
 "cells": [
  {
   "cell_type": "markdown",
   "metadata": {},
   "source": [
    "# Tutoraggio 1"
   ]
  },
  {
   "cell_type": "markdown",
   "metadata": {},
   "source": [
    "## Esercizio 1"
   ]
  },
  {
   "cell_type": "markdown",
   "metadata": {},
   "source": [
    "Data la funzione:\n",
    "\n",
    "$f(x) = e^{2x - 2} - \\cos(x), \\quad x \\in [0,1]$"
   ]
  },
  {
   "cell_type": "markdown",
   "metadata": {},
   "source": [
    "### Punto a\n",
    "\n",
    "Spiegare perché è possibile stabilire che nell'intervallo considerato $f$ ammette un'unica radice.\n",
    "\n",
    "1. La funzione $f$ è continua dato che è composizione di funzioni continue;\n",
    "2. la funzione ha valutazioni in $a$ e $b$ di segno discorde, ovvero si dimostra tramite il teorema di Cauchy che la funzione ammette almeno uno zero;\n",
    "    - $f(0) = e^{-2} - 1 < 0$\n",
    "    - $f(1) = 1 - cos(1) > 0$\n",
    "3. la funzione è monotona crescente o decrescente, si può stabilire tramite calcolo della derivata prima di $f$\n",
    "    - $f'(x) = 2 e^{2x-2} + sin(x) > 0$, $\\forall x \\in [0,1]$\n",
    "\n",
    "Per verificare che $f$ ammette zero unico si può anche impiegare il grafico della funzione."
   ]
  },
  {
   "cell_type": "code",
   "execution_count": 1,
   "metadata": {},
   "outputs": [
    {
     "data": {
      "image/png": "[encoded data removed]",
      "text/plain": [
       "<IPython.core.display.Image object>"
      ]
     },
     "metadata": {},
     "output_type": "display_data"
    }
   ],
   "source": [
    "f = @(x) exp(2*x-2) - cos(x);\n",
    "t = linspace(0, 1);\n",
    "\n",
    "plot(t, f(t), t, 0)"
   ]
  },
  {
   "cell_type": "markdown",
   "metadata": {},
   "source": [
    "### Punto b\n",
    "\n",
    "Detta $\\sigma$ l'unica radice di $f$ in $[0,1]$, stabilire se entrambe le seguenti funzioni di iterazione:\n",
    "\n",
    "$$ g_1(x) = \\frac{\\log_e(\\cos(x)) + 2}{2},  g_2(x) = \\arccos(e^{2x-2})$$\n",
    "\n",
    "possono generare un procedimento iterativo convergente a $\\sigma$ e, in caso affermativo, calcolarne l'ordine di convergenza."
   ]
  },
  {
   "cell_type": "markdown",
   "metadata": {},
   "source": [
    "#### Funzione g1(x)\n",
    "\n",
    "- $\\log_e(\\cos(x))$ è ben definito in $[0,1]$, si ha che $\\cos(x) > 0, \\forall x \\in [0,1]$, perciò la scrittura di $g_1(x)$ è valida.\n",
    "\n",
    "- Il punto fisso di $g_1(x)$ è zero di $f(x)$, in altri termini vale $\\sigma = g_1(\\sigma)$\n",
    "    - $\\sigma = \\frac{\\log_e(\\cos(\\sigma)) + 2}{2} \\implies e^{2 \\sigma - 2} = \\cos(\\sigma)$ perciò si ottiene $f(\\sigma) = e^{2\\sigma - 2} - \\cos(\\sigma) = 0$\n",
    "    \n",
    "Ciò permette di affermare che $g_1(x)$ è un buon candidato per un metodo di punto fisso. Per verificare che $g_1(x)$ sia effettivamente in grado di generare un procedimento iterativo convergente a $\\sigma$ si deve calcolare la derivata prima.\n",
    "\n",
    "$g'_1(x) = \\frac{1}{2} \\cdot \\frac{\\sin(x)}{\\cos(x)} = \\frac{\\tan(x)}{2}$\n",
    "\n",
    "Dato che vale $|g'_1(x)| < 1$ (la tangente vale $1$ per un valore pari a circa $\\frac{\\pi}{2}$), in $[0,1]$, allora si ha convergenza.\n",
    "\n",
    "Per determinare se la convergenza è superlineare si verifica se un valore per cui $g'_1$ si annulla in $[0,1]$ è anche un possibile zero di $f$. Ciò non accade, dato che $g'_1$ si annulla solo in $0$ e per questo valore $f(0) < 0$. Si può concludere che un metodo iterativo di punto fisso che sfrutta $g'_1$ converge con convergenza lineare."
   ]
  },
  {
   "cell_type": "markdown",
   "metadata": {},
   "source": [
    "#### Funzione g2(x)\n",
    "\n",
    "Si verifica se vale: $\\sigma = \\arccos(e^{2 \\sigma - 2}) = g_2(\\sigma)$\n",
    "\n",
    "Si ha $\\cos(\\sigma) = e^{2\\sigma - 2} \\implies f(\\sigma) = e^{2\\sigma - 2} - cos(\\sigma) = 0$, perciò anche la funzione $g_2$ è un buon candidato per un metodo di punto fisso con $f$.\n",
    "\n",
    "In modo analogo a quanto visto per $g_1$ si calcola la derivata di $g_2$ e si verifica se vale la condizione $|g'_2(x)| < 1$ in $[0,1]$.\n",
    "\n",
    "$g'_2(x) = \\frac{-2e^{2x - 2}}{\\sqrt{1 - e^{4x - 4}}}$\n",
    "\n",
    "Per $x \\to 1$ si ha $g'_2(x) \\to \\infty$ perciò la funzione non converge."
   ]
  },
  {
   "cell_type": "markdown",
   "metadata": {},
   "source": [
    "### Punto c\n",
    "\n",
    "Utilizzando le funzioni del punto b che possono generare un procedimento iterativoconvergente si implementi il metood id punto fisso per il calcolo dello zero $\\sigma$ di $f$. Rappresentare su un grafico il valore dell'approssimazione $x_k$ ottenuta al variare di $k \\ge 0$."
   ]
  },
  {
   "cell_type": "code",
   "execution_count": 2,
   "metadata": {},
   "outputs": [
    {
     "data": {
      "image/png": "[encoded data removed]",
      "text/plain": [
       "<IPython.core.display.Image object>"
      ]
     },
     "metadata": {},
     "output_type": "display_data"
    }
   ],
   "source": [
    "g_1 = @(x) (log(cos(x)) + 2) / 2;\n",
    "x = [1/2; g_1(1/2)];\n",
    "\n",
    "count = 2;\n",
    "\n",
    "while abs(x(count) - x(count - 1)) > 10^-12 % da 10^-6 è accettabile\n",
    "    count = count + 1;\n",
    "    x(count) = g_1(x(count-1));\n",
    "end\n",
    "\n",
    "figure\n",
    "plot((0:1:count-1), x, \"b-o\")\n",
    "box off"
   ]
  },
  {
   "cell_type": "markdown",
   "metadata": {},
   "source": [
    "## Esercizio 2\n",
    "\n",
    "A partire dal sistema lineare:\n",
    "\n",
    "- si determini per quali valori di $k$, con $k \\in \\mathcal{R}^{+}$ il sistema lineare ammette un'unica soluzione. \n",
    "- Per $k = 2$ si risolva il sistema lineare implementando l'algoritmo di fattorizzazione LU parziale."
   ]
  },
  {
   "cell_type": "code",
   "execution_count": 9,
   "metadata": {},
   "outputs": [],
   "source": [
    "pkg load symbolic\n",
    "addpath(\"./functions\")"
   ]
  },
  {
   "cell_type": "markdown",
   "metadata": {},
   "source": [
    "### Punti a e b"
   ]
  },
  {
   "cell_type": "code",
   "execution_count": 18,
   "metadata": {},
   "outputs": [
    {
     "name": "stdout",
     "output_type": "stream",
     "text": [
      "ans = (sym)\n",
      "\n",
      "   2   7\n",
      "  k  - ─\n",
      "       4\n",
      "\n",
      "ans = (sym 2×1 matrix)\n",
      "\n",
      "  ⎡-√7 ⎤\n",
      "  ⎢────⎥\n",
      "  ⎢ 2  ⎥\n",
      "  ⎢    ⎥\n",
      "  ⎢ √7 ⎥\n",
      "  ⎢ ── ⎥\n",
      "  ⎣ 2  ⎦\n",
      "\n"
     ]
    }
   ],
   "source": [
    "% conversione del sistema in forma matriciale\n",
    "% workaround: https://github.com/cbm755/octsympy/issues/8#issuecomment-40945844\n",
    "syms k\n",
    "A = [-3/2 4 -k; [1 -3/2 0]; 0 -k 1];\n",
    "\n",
    "% se la matrice è invertibile il sistema ammette un'unica soluzione\n",
    "% se il determinante è non nullo allora la matrice è invertibile\n",
    "det(A)\n",
    "solve(det(A))\n",
    "warning(\"off\", \"OctSymPy:sym:rationalapprox\")"
   ]
  },
  {
   "cell_type": "markdown",
   "metadata": {},
   "source": [
    "Per $k = \\frac{\\sqrt{7}}{2}$ si può determinare se sono presenti soluzioni tramite il teorema di Rouche-Capelli.\n",
    "\n",
    "Si determinano quindi il rango di $A$ e di $(A|b)$. Dato che $\\det(A) = \\frac{-\\sqrt{7}}{2} < 0$ e $rank(A|b) = rank(A)$ il sistema non ha soluzioni per $k = \\frac{\\sqrt{7}}{2}$."
   ]
  },
  {
   "cell_type": "code",
   "execution_count": 15,
   "metadata": {},
   "outputs": [
    {
     "name": "stdout",
     "output_type": "stream",
     "text": [
      "ans = 3\n"
     ]
    }
   ],
   "source": [
    "rank(subs(A, k, sqrt(7)/2))"
   ]
  },
  {
   "cell_type": "code",
   "execution_count": 17,
   "metadata": {},
   "outputs": [
    {
     "name": "stdout",
     "output_type": "stream",
     "text": [
      "ans = 3\n"
     ]
    }
   ],
   "source": [
    "rank([subs(A, k, sqrt(7)/2), [1; 0; 0]])"
   ]
  },
  {
   "cell_type": "code",
   "execution_count": 1,
   "metadata": {},
   "outputs": [
    {
     "name": "stdout",
     "output_type": "stream",
     "text": [
      "error: 'A' undefined near line 1 column 17\n",
      "error: 'A' undefined near line 1 column 32\n",
      "error: 'L' undefined near line 1 column 20\n",
      "error: 'x' undefined near line 1 column 1\n"
     ]
    }
   ],
   "source": [
    "A = double(subs(A, k, 2));\n",
    "b = [1 0 0]';\n",
    "[L, U, P, err] = gauss_partial(A);\n",
    "[x, err] = lusolve(L, U, P, [], b);\n",
    "x"
   ]
  },
  {
   "cell_type": "markdown",
   "metadata": {},
   "source": [
    "### Punti c e d\n",
    "\n",
    "Si permutano le equazioni del sistema lineare in modo che la matrice dei coefficienti associata al nuovo sistema lineare sia simmetrica e definita positiva $\\forall k \\in (0, k^*)$.\n",
    "\n",
    "Per prima cosa si nota che l'unico elemento non ripetuto è 4, perciò deve stare su una diagonale perché $A$ possa essere simmetrica. Si effettua quindi uno scambio di righe nella matrice A."
   ]
  },
  {
   "cell_type": "code",
   "execution_count": 53,
   "metadata": {},
   "outputs": [],
   "source": [
    "A = [[1 3/2 0]; -3/2 4 -k; 0 -k 1];\n",
    "b = [0 1 0]';"
   ]
  },
  {
   "cell_type": "markdown",
   "metadata": {},
   "source": [
    "Perché $A$ sia definita positiva per ogni valore di $k$ si può ricorrere a due approcci:\n",
    "\n",
    "- calcolo degli autovalori di $A$, con parametro $k$, e verifica della loro positività. Questo approccio richiede il calcolo del polinomio caratteristico della matrice $A$;\n",
    "\n",
    "- applicazione del criterio di Sylvester, per cui affinché $A$ simmetrica sia definita positiva è necessario che tutti il determinante di tutti i minori principali di $A$ siano strettamente positivi.\n",
    "\n",
    "#### Primo metodo con il polinomio caratteristico\n",
    "\n",
    "Sapendo che il polinomio caratteristico è pari a $\\det(A - xI)$, si ha:\n",
    "\n",
    "$$\\begin{align*}\\mbox{p}_{car} &= \\det(A)\\\\ &= (1-x)^{2(4-x)} -  \\frac{9}{4}(1-x) - (1-x)k^2 \\\\ &= (1-x)\\left(x^2 - 5x + \\frac{7}{4} - k^2 \\right)\\end{align*}$$\n",
    "\n",
    "Ci sono tre autovalori. 1 è sempre positivo. Per gli altri due si impiegano la regole per cui il termine noto di un polinomio di secondo grado è pari al prodotto delle radici mentre il coefficiente di $x$ è pari al negativo della somma delle radici pe revitare di risolvere il polinomio.\n",
    "\n",
    "Devono perciò valere le seguenti condizioni:\n",
    "\n",
    "- $-5 < 0$\n",
    "- $\\frac{7}{4} - k^2 > 0 \\implies -\\frac{\\sqrt{7}}{2} < k < \\frac{\\sqrt{7}}{2}$\n",
    "\n",
    "\n",
    "#### Secondo metodo con il criterio di Sylvester\n",
    "\n",
    "Si calcolano i determinanti dei tre minori principali e si verifica che siano tutti positivi:\n",
    "\n",
    "- $\\det(1) > 0$\n",
    "- $\\det \\left (\\begin{bmatrix}\n",
    "       1 & -\\frac{3}{2} \\\\[0.3em]\n",
    "       -\\frac{3}{2} & 4 \\\\[0.3em]\n",
    "     \\end{bmatrix} \\right ) = 4 - \\frac{9}{4} = \\frac{7}{4} > 0$\n",
    "- $\\det(A) = 4 - \\frac{9}{4} - k^2 > 0$\n",
    "\n",
    "Tutte e tre le condizioni sono valide per $k \\in \\left [-\\frac{\\sqrt{7}}{2}, \\frac{\\sqrt{7}}{2} \\right ]$. \n",
    "\n",
    "Dato che $k^*$ deve essere positivo si ha che la matrice dei coefficienti associata al nuovo sistema lineare è simmetrica e definita positiva se $k^* < \\frac{\\sqrt{7}}{2}$."
   ]
  },
  {
   "cell_type": "code",
   "execution_count": 37,
   "metadata": {},
   "outputs": [],
   "source": [
    "%syms x\n",
    "%A = [1-x, -3/2, 0; -3/2, 4-x, -k; 0,-k,1-x]\n",
    "%solve(det(A))"
   ]
  },
  {
   "cell_type": "code",
   "execution_count": 73,
   "metadata": {},
   "outputs": [],
   "source": [
    "b = [0 1 0]';\n",
    "\n",
    "syms k\n",
    "k = linspace(0, sqrt(7)/2, 22); % 20 punti e gli estremi\n",
    "k = k(2:end-1);\n",
    "norma_inf = zeros(20, 1);\n",
    "norma_2 = zeros(20, 1);\n",
    "\n",
    "for j = 1:20\n",
    "\n",
    "    A = [[1 -3/2 0]; -3/2 4 -k(j); 0 -k(j) 1];\n",
    "    [R, p] = chol(A);\n",
    "    \n",
    "    if p > 0\n",
    "        warning(\"La matrice A non risulta definita positiva\");\n",
    "    end\n",
    "    \n",
    "    y = lsolve(R', b);\n",
    "    x = usolve(R, y);\n",
    "    \n",
    "    norma_2(j) = norm(x, 2);\n",
    "    norma_inf(j) = norm(x, inf);\n",
    "\n",
    "end"
   ]
  },
  {
   "cell_type": "code",
   "execution_count": 94,
   "metadata": {},
   "outputs": [
    {
     "data": {
      "image/png": "[encoded data removed]",
      "text/plain": [
       "<IPython.core.display.Image object>"
      ]
     },
     "metadata": {},
     "output_type": "display_data"
    }
   ],
   "source": [
    "figure\n",
    "plot( k, norma_inf, \"-*\", ...\n",
    "      k, norma_2, \"-*\", ...\n",
    "      sqrt(7)/2, 0:0.3:14);\n",
    "legend(\"norma inf\",\"norma 2\",\"Location\",\"eastoutside\");\n",
    "xlabel(\"k\");\n",
    "box off"
   ]
  },
  {
   "cell_type": "markdown",
   "metadata": {},
   "source": [
    "A partire dal valore delle ascisse $\\frac{\\sqrt{7}}{2}$ si nota che la norma della soluzione cresce. \n",
    "\n",
    "Questo perché quando $k = \\frac{\\sqrt{7}}{2}$ la matrice $A$ è singolare, quindi non invertibile. \n",
    "\n",
    "Per $k \\to \\frac{\\sqrt{7}}{2}$ l'autovalore di $A$ diventa sempre più piccolo e la matrice che si ottiene a partire dalla risoluzione del sistema lineare associato ad $A$ tramite l'algoritmo di Cholesky ha un autovalore sempre più grande. Ciò provoca la dilatazione di entrambe le norme. Questo effetto si verifica indipendentemente dalla norma scelta."
   ]
  }
 ],
 "metadata": {
  "kernelspec": {
   "display_name": "Octave",
   "language": "octave",
   "name": "octave"
  },
  "language_info": {
   "file_extension": ".m",
   "help_links": [
    {
     "text": "GNU Octave",
     "url": "https://www.gnu.org/software/octave/support.html"
    },
    {
     "text": "Octave Kernel",
     "url": "https://github.com/Calysto/octave_kernel"
    },
    {
     "text": "MetaKernel Magics",
     "url": "https://metakernel.readthedocs.io/en/latest/source/README.html"
    }
   ],
   "mimetype": "text/x-octave",
   "name": "octave",
   "version": "5.2.0"
  }
 },
 "nbformat": 4,
 "nbformat_minor": 4
}
