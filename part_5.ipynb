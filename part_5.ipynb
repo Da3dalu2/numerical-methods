{
 "cells": [
  {
   "cell_type": "markdown",
   "metadata": {},
   "source": [
    "# Parte 5\n",
    "\n",
    "Preparazione dei codici relativi all'applicazione del metodo di eliminaziona gaussiana e sua equivalente fattorizzazione con/senza pivoting."
   ]
  },
  {
   "cell_type": "markdown",
   "metadata": {},
   "source": [
    "## Introduzione"
   ]
  },
  {
   "cell_type": "code",
   "execution_count": 1,
   "metadata": {},
   "outputs": [
    {
     "name": "stdout",
     "output_type": "stream",
     "text": [
      "A =\n",
      "\n",
      "   0.288448  -0.750039   0.433298  -0.477776   0.971361\n",
      "   0.982020   0.658768  -1.115258  -1.185278  -0.645104\n",
      "   0.483259  -0.168729  -0.553075  -1.597221  -0.634167\n",
      "   0.411106   0.074587  -0.678804   0.862493  -0.106898\n",
      "  -0.826711  -0.852264   0.360706  -1.279152  -0.800607\n",
      "\n"
     ]
    }
   ],
   "source": [
    "A = randn(5)"
   ]
  },
  {
   "cell_type": "code",
   "execution_count": 2,
   "metadata": {},
   "outputs": [
    {
     "name": "stdout",
     "output_type": "stream",
     "text": [
      "L =\n",
      "\n",
      "   0.28845   0.00000   0.00000   0.00000   0.00000\n",
      "   0.98202   0.65877   0.00000   0.00000   0.00000\n",
      "   0.48326  -0.16873  -0.55308   0.00000   0.00000\n",
      "   0.41111   0.07459  -0.67880   0.86249   0.00000\n",
      "  -0.82671  -0.85226   0.36071  -1.27915  -0.80061\n",
      "\n"
     ]
    }
   ],
   "source": [
    "L = tril(A)"
   ]
  },
  {
   "cell_type": "code",
   "execution_count": 3,
   "metadata": {},
   "outputs": [
    {
     "name": "stdout",
     "output_type": "stream",
     "text": [
      "L_2 =\n",
      "\n",
      "   1.00000   0.00000   0.00000   0.00000   0.00000\n",
      "   0.98202   1.00000   0.00000   0.00000   0.00000\n",
      "   0.48326  -0.16873   1.00000   0.00000   0.00000\n",
      "   0.41111   0.07459  -0.67880   1.00000   0.00000\n",
      "  -0.82671  -0.85226   0.36071  -1.27915   1.00000\n",
      "\n"
     ]
    }
   ],
   "source": [
    "L_2 = tril(A, -1) + eye(5)"
   ]
  },
  {
   "cell_type": "code",
   "execution_count": 4,
   "metadata": {},
   "outputs": [
    {
     "name": "stdout",
     "output_type": "stream",
     "text": [
      "U =\n",
      "\n",
      "   0.28845  -0.75004   0.43330  -0.47778   0.97136\n",
      "   0.00000   0.65877  -1.11526  -1.18528  -0.64510\n",
      "   0.00000   0.00000  -0.55308  -1.59722  -0.63417\n",
      "   0.00000   0.00000   0.00000   0.86249  -0.10690\n",
      "   0.00000   0.00000   0.00000   0.00000  -0.80061\n",
      "\n"
     ]
    }
   ],
   "source": [
    "U = triu(A)"
   ]
  },
  {
   "cell_type": "markdown",
   "metadata": {},
   "source": [
    "Dato il sistema lineare:\n",
    "\n",
    "\n",
    "$$\\begin{cases} 2x = 2 \\\\ 3x + 5y = 8 \\end{cases}$$\n",
    "\n",
    "Verificare che la sua soluzione è: $[1, 1]$."
   ]
  },
  {
   "cell_type": "code",
   "execution_count": 5,
   "metadata": {},
   "outputs": [
    {
     "name": "stdout",
     "output_type": "stream",
     "text": [
      "A =\n",
      "\n",
      "   2   0\n",
      "   3   5\n",
      "\n",
      "b =\n",
      "\n",
      "   2\n",
      "   8\n",
      "\n",
      "x =\n",
      "\n",
      "   1\n",
      "   1\n",
      "\n"
     ]
    }
   ],
   "source": [
    "A =  [2 0; 3 5] % matrice dei coefficienti\n",
    "b = [2; 8] % vettore dei termini noti\n",
    "\n",
    "[x] = linsolve(A, b)"
   ]
  },
  {
   "cell_type": "markdown",
   "metadata": {},
   "source": [
    "## Algoritmi per il metodo di eliminazione gaussiana"
   ]
  },
  {
   "cell_type": "markdown",
   "metadata": {},
   "source": [
    "### Gauss semplice\n",
    "Calcola la fattorizzazione LU usando l'algoritmo di Gauss senza strategie di pivoting."
   ]
  },
  {
   "cell_type": "code",
   "execution_count": 90,
   "metadata": {},
   "outputs": [],
   "source": [
    "function [L, U, flag] = gauss_simple(A)\n",
    "\n",
    "    [n,m] = size(A);\n",
    "    flag = 0;\n",
    "\n",
    "    if n ~= m, \n",
    "        disp('errore: matrice non quadrata'), \n",
    "        L = []; \n",
    "        U = []; \n",
    "        P = []; \n",
    "        err = 1; \n",
    "        return, \n",
    "    end\n",
    "\n",
    "    U = A;\n",
    "\n",
    "    for k=1:n-1\n",
    "\n",
    "        if U(k,k) ==  0,\n",
    "            disp('elemento diagonale nullo'), \n",
    "            L = []; \n",
    "            e = 1; return, end\n",
    "        %Eliminazione gaussiana\n",
    "        U(k+1:n,k)=U(k+1:n,k)/U(k,k);                         \n",
    "        U(k+1:n,k+1:n)=U(k+1:n,k+1:n)-U(k+1:n,k)*U(k,k+1:n);\n",
    "    end\n",
    "\n",
    "    L=tril(U,-1)+eye(n); % Estrae i moltiplicatori \n",
    "    U=triu(U);           % Estrae la parte triangolare superiore + diagonale\n",
    "end  "
   ]
  },
  {
   "cell_type": "markdown",
   "metadata": {},
   "source": [
    "### Gauss parziale\n",
    "\n",
    "Calcola la fattorizzazione LU usando l'algoritmo di Gauss con strategia di pivoting parziale."
   ]
  },
  {
   "cell_type": "code",
   "execution_count": 110,
   "metadata": {},
   "outputs": [],
   "source": [
    "function [L, U, P, err] = gauss_partial(A)\n",
    "\n",
    "    [n,m] = size(A);\n",
    "    err = 0;\n",
    "    \n",
    "    if n ~= m, \n",
    "        disp('errore: matrice non quadrata'),  \n",
    "        L = []; \n",
    "        U = []; \n",
    "        P = []; \n",
    "        err = 1;\n",
    "        return,\n",
    "    end\n",
    "\n",
    "    U = A; \n",
    "    P = eye(n);\n",
    "    \n",
    "    for k = 1:n-1\n",
    "    \n",
    "    % Scelta pivot parziale + scambi su U e P\n",
    "    [pivot, ir_pivot] = max(abs(U(k:n, k))); \n",
    "    ir_pivot = ir_pivot + (k-1); \n",
    "    \n",
    "    if pivot == 0, \n",
    "        disp('pivot nullo'),\n",
    "        L = []; \n",
    "        err = 1;\n",
    "        return, \n",
    "    end\n",
    "    \n",
    "    if ir_pivot  ~= k\n",
    "        temp = U(k,:);\n",
    "        U(k,:) = U(ir_pivot,:);\n",
    "        U(ir_pivot,:) = temp;\n",
    "        \n",
    "        temp = P(k,:); \n",
    "        P(k,:) = P(ir_pivot,:); \n",
    "        P(ir_pivot,:) = temp;\n",
    "    end\n",
    "\n",
    "    % Eliminazione gaussiana\n",
    "    U(k+1:n, k) = U(k+1:n, k) / U(k, k); % Memorizza i moltiplicatori\n",
    "    U(k+1:n, k+1:n) = U(k+1:n, k+1:n) - U(k+1:n, k) * U(k, k+1:n);\n",
    "    end\n",
    "\n",
    "    L = tril(U,-1) + eye(n); % Estrae i moltiplicatori \n",
    "    U = triu(U);           % Estrae la parte triangolare superiore+diagonale\n",
    "end"
   ]
  },
  {
   "cell_type": "markdown",
   "metadata": {},
   "source": [
    "### Gauss totale\n",
    "\n",
    "Calcola la fattorizzazione LU usando l'algoritmo di Gauss con strategia di pivoting totale."
   ]
  },
  {
   "cell_type": "code",
   "execution_count": 108,
   "metadata": {},
   "outputs": [],
   "source": [
    "function [L, U, P, Q, err] = gauss_total(A)\n",
    "\n",
    "    [n,m]=size(A);\n",
    "    err = 0;\n",
    "\n",
    "    if n ~= m, \n",
    "        disp('errore: matrice non quadrata'),  \n",
    "        L = []; \n",
    "        U = []; \n",
    "        P = []; \n",
    "        Q = []; \n",
    "        err = 1;\n",
    "        return,\n",
    "    end\n",
    "\n",
    "    U = A;\n",
    "    P = eye(n);\n",
    "    Q = eye(n);\n",
    "    for k = 1:n-1\n",
    "\n",
    "        % Scelta pivot totale + scambi su U, P e Q \n",
    "        [temp_pivot, temp_ir_pivot] = max(abs(U(k:n, k:n)));\n",
    "        [pivot, ic_pivot] = max(temp_pivot);\n",
    "        ir_pivot = temp_ir_pivot(ic_pivot) + k - 1;\n",
    "        ic_pivot = ic_pivot + k - 1;\n",
    "        \n",
    "        if pivot == 0,\n",
    "            disp('pivot nullo'),\n",
    "            L = [];\n",
    "            err = 1;\n",
    "            return,\n",
    "        end\n",
    "        \n",
    "        if ir_pivot ~= k\n",
    "            temp = U(k,:); \n",
    "            U(k,:) = U(ir_pivot,:); \n",
    "            U(ir_pivot,:) = temp;\n",
    "            \n",
    "            temp = P(k,:); \n",
    "            P(k,:) = P(ir_pivot,:); \n",
    "            P(ir_pivot,:) = temp; \n",
    "        end\n",
    "        \n",
    "        if ic_pivot ~= k\n",
    "            temp = U(:,k); \n",
    "            U(:, k) = U(:, ic_pivot);\n",
    "            U(:, ic_pivot) = temp;\n",
    "            \n",
    "            temp = Q(:, k); \n",
    "            Q(:, k) = Q(:, ic_pivot);\n",
    "            Q(:, ic_pivot) = temp;\n",
    "        end\n",
    "        \n",
    "        U(k+1:n, k) = U(k+1:n, k) / U(k,k);\n",
    "        U(k+1:n, k+1:n) = U(k+1:n, k+1:n) - U(k+1:n, k) * U(k, k+1:n);\n",
    "    end\n",
    "\n",
    "    L = tril(U,-1) + eye(n); % Estrae i moltiplicatori\n",
    "    U = triu(U);           % Estrae la parte triangolare superiore+diagonale\n",
    "\n",
    "end"
   ]
  },
  {
   "cell_type": "markdown",
   "metadata": {},
   "source": [
    "### L solve\n",
    "Applicazione del metodo di sostituzione in avanti nell'ambito della fattorizzazione LU. Restituisce il vettore delle soluzioni `x` risolvendo il sistema lineare `Lx = b`."
   ]
  },
  {
   "cell_type": "code",
   "execution_count": 25,
   "metadata": {},
   "outputs": [],
   "source": [
    "function [x, err] = lsolve(L, b)\n",
    "\n",
    "err = 0;\n",
    "[n, m] = size(L);\n",
    "\n",
    "if n ~= m\n",
    "    printf('La matrice L non è quadrata!');\n",
    "    x = [];\n",
    "    err = 1;\n",
    "    return\n",
    "end\n",
    "\n",
    "% se almeno un elemento è nullo allora il risultato è false\n",
    "if ~all(diag(L))\n",
    "    printf('La matrice non è singolare');\n",
    "    x = [];\n",
    "    err = 1;\n",
    "    return\n",
    "end\n",
    "\n",
    "x = zeros(n,1); % preallocazione\n",
    "\n",
    "% risoluzione forward\n",
    "for i= 1:n\n",
    "    s = L(i, 1:i - 1) * x(1:i - 1);\n",
    "    x(i) = (b(i) - s) / L(i, i);\n",
    "end\n",
    "\n",
    "end"
   ]
  },
  {
   "cell_type": "markdown",
   "metadata": {},
   "source": [
    "### U solve\n",
    "\n",
    "Applicazione del metodo di sostituzione all'indietro nell'ambito della fattorizzazione LU. Restituisce il vettore delle soluzioni `x` risolvendo il sistema lineare `Ux = b`."
   ]
  },
  {
   "cell_type": "code",
   "execution_count": 26,
   "metadata": {},
   "outputs": [],
   "source": [
    "function [x, err] = usolve(U, b)\n",
    "\n",
    "err = 0;\n",
    "[n, m] = size(U);\n",
    "\n",
    "if n ~= m\n",
    "    printf('La matrice U non è quadrata!');\n",
    "    x = [];\n",
    "    err = 1;\n",
    "    return;\n",
    "end\n",
    "\n",
    "% se almeno un elemento è nullo allora il risultato è false\n",
    "if ~all(diag(U))\n",
    "    disp('La matrice non è singolare');\n",
    "    x = [];\n",
    "    err = 1;\n",
    "    return;\n",
    "end\n",
    "\n",
    "x = zeros(n,1); % preallocazione\n",
    "\n",
    "% risoluzione backward (si specifica il passo -1)\n",
    "for i = n:-1:1\n",
    "    s = U(i, i + 1:n) * x(i + 1:n);\n",
    "    x(i) = (b(i) - s) / U(i, i);\n",
    "end\n",
    "\n",
    "end"
   ]
  },
  {
   "cell_type": "markdown",
   "metadata": {},
   "source": [
    "### LU solve\n",
    "\n",
    "Risolve un sistema lineare tramite matrici ottenute a partire dalla fattorizzazione LU.\n",
    "\n",
    "    [x] = lusolve(L, U, P, Q, b) \n",
    "\n",
    "Restituisce il vettore delle soluzioni x a partire dal vettore dei termini noti b e dalla matrice dei coefficienti A fattorizzata.\n",
    "\n",
    "P e Q, ottenute con la fattorizzazione parziale o totale, sono opzionali."
   ]
  },
  {
   "cell_type": "code",
   "execution_count": 27,
   "metadata": {},
   "outputs": [],
   "source": [
    "function [x, err] = lusolve(L, U, P, Q, b)\n",
    "\n",
    "if isempty(P) && isempty(Q)\n",
    "    [y, err] = lsolve(L, b);\n",
    "    if ~err\n",
    "        [x, err] = usolve(U, y);\n",
    "    else\n",
    "        return\n",
    "    end\n",
    "elseif isempty(Q)\n",
    "    Pb = P * b;\n",
    "    [y, err] = lsolve(L, Pb);\n",
    "    if ~err\n",
    "        [x, err] = usolve(U, y);\n",
    "    else\n",
    "        return\n",
    "    end\n",
    "else\n",
    "    Pb = P * b;\n",
    "    [z, err] = lsolve(L, Pb);\n",
    "    if ~err\n",
    "        [y, err] = usolve(U, z);\n",
    "        x = Q * y;\n",
    "    else\n",
    "        return\n",
    "    end\n",
    "end\n",
    "\n",
    "end"
   ]
  },
  {
   "cell_type": "markdown",
   "metadata": {},
   "source": [
    "## Esercizio 1\n",
    "\n",
    "Tramite verifica dell'accuratezza e dei tempi di esecuzione si vuole definire il grado di stabilità del metodo di eliminazione gaussiana con e senza pivoting e sia in caso di pivoting parziale che totale. Inoltre si vogliono confrontare le prestazioni di questi metodi rispetto alla funzione di libreria built-in `\\`."
   ]
  },
  {
   "cell_type": "code",
   "execution_count": 103,
   "metadata": {},
   "outputs": [],
   "source": [
    "nmin = 100;\n",
    "nmax = 200;\n",
    "P = [];\n",
    "Q = [];\n",
    "\n",
    "x_n = (nmin : nmax); % campionamento di x\n",
    "\n",
    "% gli errori relativi per ciascuna iterazione, per ciascun metodo,\n",
    "% sono memorizzati in appositi vettori tramite preallocazione\n",
    "err_rel_1 = zeros(1,length(x_n));\n",
    "err_rel_2 = zeros(1,length(x_n));\n",
    "err_rel_3 = zeros(1,length(x_n));\n",
    "err_rel_4 = zeros(1,length(x_n));\n",
    "\n",
    "% i tempi di calcolo per ciascuna iterazione, per ciascun metodo,\n",
    "% sono memorizzati in appositi vettori tramite preallocazione\n",
    "toc_1 = zeros(1,length(x_n));\n",
    "toc_2 = zeros(1,length(x_n));\n",
    "toc_3 = zeros(1,length(x_n));\n",
    "toc_4 = zeros(1,length(x_n));\n",
    "\n",
    "for n = nmin:nmax\n",
    "    \n",
    "    A = gallery('orthog', n, 1); % matrice di test\n",
    "    xesatta = (1 : n)'; % calcolo soluzione esatta\n",
    "    b = A * xesatta; % calcolo termine noto\n",
    "    \n",
    "    % 1. calcolo soluzione con gauss semplice\n",
    "    tic\n",
    "    [L_1, U_1, err_1] = gauss_simple(A);\n",
    "    \n",
    "    if ~err_1\n",
    "        [x_1, err_11] = lusolve(L_1, U_1, P, Q, b);\n",
    "        toc_1(n - nmin + 1) = toc;\n",
    "        if ~err_11\n",
    "            err_rel_1(n - nmin + 1) = norm(xesatta - x_1) / norm(xesatta);\n",
    "        end\n",
    "    end\n",
    "    \n",
    "    % 2. calcolo soluzione con gauss con pivoting parziale\n",
    "    tic\n",
    "    [L_2, U_2, P_2] = gauss_partial(A);\n",
    "    [x_2] = lusolve(L_2, U_2, P_2, Q, b);\n",
    "    toc_2(n - nmin + 1) = toc;\n",
    "    \n",
    "    err_rel_2(n - nmin + 1) = norm(xesatta - x_2) / norm(xesatta);\n",
    "    \n",
    "    % 3. calcolo soluzione con gauss con pivoting totale\n",
    "    tic\n",
    "    [L_3, U_3, P_3, Q_3] = gauss_total(A);\n",
    "    [x_3] = lusolve(L_3, U_3, P_3, Q_3, b);\n",
    "    toc_3(n - nmin + 1) = toc;\n",
    "    \n",
    "    err_rel_3(n - nmin + 1) = norm(xesatta - x_3) / norm(xesatta);\n",
    "    \n",
    "    % 4. calcolo soluzione con funzione built-in\n",
    "    tic\n",
    "    x_4 = A \\ b;\n",
    "    toc_4(n - nmin + 1) = toc;\n",
    "\n",
    "    err_rel_4(n - nmin + 1) = norm(xesatta - x_4) / norm(xesatta);\n",
    "end"
   ]
  },
  {
   "cell_type": "markdown",
   "metadata": {},
   "source": [
    "### Rappresentazione grafica dei risultati"
   ]
  },
  {
   "cell_type": "code",
   "execution_count": 101,
   "metadata": {},
   "outputs": [
    {
     "data": {
      "image/png": "[encoded data removed]",
      "text/plain": [
       "<IPython.core.display.Image object>"
      ]
     },
     "metadata": {},
     "output_type": "display_data"
    }
   ],
   "source": [
    "figure(1)\n",
    "semilogy(x_n, err_rel_1, 'r--', ...\n",
    "        x_n, err_rel_2, 'ro--', ...\n",
    "        x_n, err_rel_3, 'g.-', ...\n",
    "        x_n, err_rel_4, 'b.-');\n",
    "\n",
    "title(\"Metodo di eliminazione di Gauss\");\n",
    "legend(\"nopivot\",\"pivot-parziale\",\"pivot-totale\", \"built-in\", 'location','eastoutside');\n",
    "xlabel('ordine n'); \n",
    "ylabel('errore relativo');\n",
    "box off;\n",
    "warning (\"off\", \"Octave:negative-data-log-axis\");\n",
    "warning (\"off\", \"Octave:axis-non-positive-log-limits\");"
   ]
  },
  {
   "cell_type": "code",
   "execution_count": 102,
   "metadata": {},
   "outputs": [
    {
     "data": {
      "image/png": "[encoded data removed]",
      "text/plain": [
       "<IPython.core.display.Image object>"
      ]
     },
     "metadata": {},
     "output_type": "display_data"
    }
   ],
   "source": [
    "figure(2);\n",
    "semilogy(x_n, toc_1, x_n, toc_2, x_n, toc_3, x_n, toc_4);\n",
    "title(\"Tempi di calcolo\");\n",
    "legend('nopivot', \"pivot-parziale\", \"pivot-totale\", \"built-in\", ...\n",
    "    'location','eastoutside');\n",
    "xlabel('ordine n'); ylabel('tempo di calcolo');\n",
    "box off;"
   ]
  }
 ],
 "metadata": {
  "kernelspec": {
   "display_name": "Octave",
   "language": "octave",
   "name": "octave"
  },
  "language_info": {
   "file_extension": ".m",
   "help_links": [
    {
     "text": "GNU Octave",
     "url": "https://www.gnu.org/software/octave/support.html"
    },
    {
     "text": "Octave Kernel",
     "url": "https://github.com/Calysto/octave_kernel"
    },
    {
     "text": "MetaKernel Magics",
     "url": "https://metakernel.readthedocs.io/en/latest/source/README.html"
    }
   ],
   "mimetype": "text/x-octave",
   "name": "octave",
   "version": "5.2.0"
  }
 },
 "nbformat": 4,
 "nbformat_minor": 4
}
