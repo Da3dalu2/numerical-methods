{
 "cells": [
  {
   "cell_type": "markdown",
   "metadata": {},
   "source": [
    "# Part 4\n",
    "In questa esercitazione si effettua una sperimentazione numerica relativa ai metodi per il calcolo di zeri di funzione. Sarà necessario impiegare il calcolo simbolico."
   ]
  },
  {
   "cell_type": "code",
   "execution_count": 1,
   "metadata": {},
   "outputs": [],
   "source": [
    "pkg load symbolic"
   ]
  },
  {
   "cell_type": "markdown",
   "metadata": {},
   "source": [
    "## Metodo di bisezione\n",
    "\n",
    "    [sol, appr, nit] = bisection(fun, a, b, tolx)\n",
    "\n",
    "Input:\n",
    "- `fun`: funzione di cui si calcola lo zero,\n",
    "- `a`, `b`: estremi dell'intervallo in cui avviene la ricerca dello zero,\n",
    "- `tolx`: tolleranza.\n",
    "\n",
    "Output:\n",
    "- `sol`: miglior approssimazione dello zero di funzione trovata,\n",
    "- `appr`: vettore contenente tutte le approssimazioni calcolate,\n",
    "- `nit`: numero di iterazioni impiegate per arrivare alla soluzione."
   ]
  },
  {
   "cell_type": "code",
   "execution_count": 2,
   "metadata": {
    "jupyter": {
     "source_hidden": true
    }
   },
   "outputs": [],
   "source": [
    "function [sol, appr, nit] = bisection(fun, a, b, tolx)\n",
    "\n",
    "fun_a = fun(a);\n",
    "fun_b = fun(b);\n",
    "\n",
    "if(sign(fun(a)) == sign(fun(b)))\n",
    "   error(\"Teorema degli Zeri non applicabile\"); \n",
    "end\n",
    "\n",
    "nit = 0;\n",
    "exit = 0;\n",
    "maxit = ceil((log(fun_b - fun_a) / tolx) / log(2));\n",
    "appr = zeros(1, 10); % preallocazione\n",
    "\n",
    "while exit == 0 && nit <= maxit ...\n",
    "    && abs(b - a) >= tolx + eps * max(abs(a), abs(b))\n",
    "    \n",
    "    nit = nit + 1;\n",
    "    appr(nit) = a + (b - a) / 2; % ascissa\n",
    "    fun_app = fun(appr(nit)); % ordinata\n",
    "    \n",
    "    if(sign(fun_app)) == sign(fun_a) % sposto a verso destra\n",
    "        a = appr(nit);\n",
    "        fun_a = fun_app;\n",
    "    elseif(sign(fun_app) == sign(fun_b)) % sposto b verso sinistra\n",
    "        b = appr(nit);\n",
    "        fun_b = fun_app;\n",
    "    end\n",
    "    \n",
    "    if(fun(appr) == 0)\n",
    "        exit = 1;\n",
    "    end\n",
    "end\n",
    "\n",
    "sol = appr(nit);\n",
    "\n",
    "end"
   ]
  },
  {
   "cell_type": "markdown",
   "metadata": {},
   "source": [
    "## Metodo della regula falsi\n",
    "\n",
    "    sol, appr, nit] = regula_falsi(fun, a, b, tolx, maxit)\n",
    "\n",
    "Input:\n",
    "- `fun`: funzione di cui si calcola lo zero,\n",
    "- `a`, `b`: estremi dell'intervallo in cui avviene la ricerca dello zero,\n",
    "- `tolx`: tolleranza,\n",
    "- `maxit`: numero massimo di iterazioni consentite.\n",
    "\n",
    "Output:\n",
    "- `sol`: miglior approssimazione dello zero di funzione trovata,\n",
    "- `appr`: vettore contenente tutte le approssimazioni calcolate,\n",
    "- `nit`: numero di iterazioni impiegate per arrivare alla soluzione."
   ]
  },
  {
   "cell_type": "markdown",
   "metadata": {
    "jupyter": {
     "source_hidden": true
    }
   },
   "source": [
    "    By chance to truth you may procede,\n",
    "    And first work by the question,\n",
    "    Although no truth therein be done.\n",
    "    Such falsehood is a so good ground,\n",
    "    That truth by it will soon be found.\n",
    "\n",
    "Ground of Artes, di Robert Recorde (ca. 1542). Estratto da [qui](https://en.wikipedia.org/wiki/Regula_falsi)."
   ]
  },
  {
   "cell_type": "code",
   "execution_count": 28,
   "metadata": {
    "jupyter": {
     "source_hidden": true
    }
   },
   "outputs": [],
   "source": [
    "function [sol, appr, nit] = regula_falsi(fun, a, b, tolx, maxit)\n",
    "\n",
    "% valutazione agli estremi\n",
    "fun_a = fun(a);\n",
    "fun_b = fun(b);\n",
    "\n",
    "if(sign(fun_a) == sign(fun_b))\n",
    "   disp(\"Teorema degli Zeri non applicabile\") \n",
    "   sol = 0;\n",
    "   appr = [];\n",
    "   nit = 0;\n",
    "   return\n",
    "end\n",
    "\n",
    "nit = 0;\n",
    "exit = 0;\n",
    "fun_app = fun_a;\n",
    "appr = zeros(1, 10);\n",
    "\n",
    "% due criteri di arresto, uno sul massimo numero di iterazioni,\n",
    "% l'altro sul controllo di |tol|, considerando |eps|\n",
    "while exit == 0 && nit <= maxit ...\n",
    "    && abs(b - a) >= tolx + eps * max(abs(a), abs(b))\n",
    "    %%&& abs(fun_app) >= tolx\n",
    "\n",
    "    nit = nit + 1;\n",
    "    \n",
    "    % calcolo intersezione con l'asse x della retta che\n",
    "    % congiunge gli estremi a e b\n",
    "    appr(nit) = a - fun_a * (b - a) / (fun_b - fun_a);\n",
    "    fun_app = fun(appr(nit));\n",
    "    \n",
    "    if(fun_app == 0) % lo zero è stato trovato\n",
    "        exit = 1;\n",
    "    end\n",
    "    \n",
    "    % aggiornamento sotto-intervallo di sinistra\n",
    "    if(sign(fun_app) == sign(fun_a)) \n",
    "        a = appr(nit);\n",
    "        fun_a = fun_app;\n",
    "    % aggiornamento sotto-intervallo di destra\n",
    "    elseif(sign(fun_app) == sign(fun_b))\n",
    "        b = appr(nit);\n",
    "        fun_b = fun_app;\n",
    "    end    \n",
    "end\n",
    "\n",
    "if(nit == maxit)\n",
    "   disp(\"Raggiunto il massimo numero di iterazioni\") \n",
    "end\n",
    "\n",
    "% l'ultima approssimazione è la migliore soluzione \n",
    "% a cui si è giunti in maxit\n",
    "sol = appr(nit);\n",
    "\n",
    "end"
   ]
  },
  {
   "cell_type": "markdown",
   "metadata": {},
   "source": [
    "## Metodo delle corde\n",
    "\n",
    "Calcola lo zero di una funzione usando il metodo delle corde. A differenza del metodo delle tangenti la pendenza è costante. Richiede il calcolo della derivata della funzione di cui si vuole trovare lo zero.\n",
    "\n",
    "    [sol, appr, nit] = chords(fun, fun_der, x_i, tolx, tolf, maxit)\n",
    "\n",
    "Input:\n",
    "- `fun`, `fun_der`: funzione di cui si calcola lo zero e sua derivata prima,\n",
    "- `x_i`: punto di innesco,\n",
    "- `tolx`: tolleranza,\n",
    "- `tolf`: tolleranza,\n",
    "- `maxit`: numero massimo di iterazioni consentite.\n",
    "\n",
    "Output:\n",
    "- `sol`: miglior approssimazione dello zero di funzione trovata,\n",
    "- `appr`: vettore contenente tutte le approssimazioni calcolate,\n",
    "- `nit`: numero di iterazioni impiegate per arrivare alla soluzione."
   ]
  },
  {
   "cell_type": "code",
   "execution_count": 4,
   "metadata": {
    "jupyter": {
     "source_hidden": true
    }
   },
   "outputs": [],
   "source": [
    "function [sol, appr, nit] = chords(fun, fun_der, x_i, tolx, tolf, maxit)\n",
    "\n",
    "nit = 1;\n",
    "m = fun_der(x_i); % calcolo della pendenza costante\n",
    "appr(nit) = x_i - fun(x_i) / m; % primo passo di iterazione\n",
    "fun_i = fun(appr(nit)); % prima approssimazione locale\n",
    "\n",
    "while nit < maxit && abs(fun_i / m) >= tolx * abs(appr(nit)) ...\n",
    "        && abs(fun_i) >= tolf\n",
    "    x_i = appr(nit);\n",
    "\n",
    "    temp = x_i - fun_i / m;\n",
    "    fun_i = fun(temp);\n",
    "    \n",
    "    nit = nit + 1;\n",
    "    appr(nit) = temp;\n",
    "end\n",
    "\n",
    "if(maxit == nit)\n",
    "   disp(\"Maximum number of iterations reached!\");\n",
    "end\n",
    "\n",
    "sol = appr(nit);\n",
    "\n",
    "end"
   ]
  },
  {
   "cell_type": "markdown",
   "metadata": {},
   "source": [
    "## Metodo delle tangenti\n",
    "\n",
    "Usa il metodo di Newton per calcolare lo zero di una funzione. A differenza del metodo delle secanti si ricalcola la pendenza ad ogni iterazione. Richiede il calcolo della derivata della funzione di cui si vuole trovare lo zero.\n",
    "\n",
    "    [sol, appr, nit] = newton(fun, fun_der, x_i, tolx, tolf, maxit)\n",
    "\n",
    "Input:\n",
    "- `fun`, `fun_der`: funzione di cui si calcola lo zero e sua derivata prima,\n",
    "- `x_i`: punto di innesco,\n",
    "- `tolx`: tolleranza,\n",
    "- `tolf`: tolleranza,\n",
    "- `maxit`: numero massimo di iterazioni consentite.\n",
    "\n",
    "Output:\n",
    "- `sol`: miglior approssimazione dello zero di funzione trovata,\n",
    "- `appr`: vettore contenente tutte le approssimazioni calcolate,\n",
    "- `nit`: numero di iterazioni impiegate per arrivare alla soluzione."
   ]
  },
  {
   "cell_type": "code",
   "execution_count": 5,
   "metadata": {
    "jupyter": {
     "source_hidden": true
    }
   },
   "outputs": [],
   "source": [
    "function [sol, appr, nit] = newton(fun, fun_der, x_i, tolx, tolf, maxit)\n",
    "\n",
    "m_i = fun_der(x_i); % inizializzazione della pendenza\n",
    "\n",
    "if(abs(m_i) <= eps)\n",
    "   fprintf('Derivata nulla in x_0, uscita...\\n')\n",
    "   sol = 0;\n",
    "   appr = [];\n",
    "   nit = 0;\n",
    "   return\n",
    "end\n",
    "\n",
    "temp  = x_i - fun(x_i) / m_i; % primo passo di iterazione\n",
    "fun_i = fun(temp); % prima approssimazione locale\n",
    "\n",
    "nit = 1;\n",
    "appr(nit) = temp;\n",
    "\n",
    "% tre criteri di arresto, il primo sul numero di iterazioni massime,\n",
    "% il secondo su\n",
    "while nit < maxit && abs(fun_i / m_i) >= tolx * abs(appr(nit)) ...\n",
    "    && abs(fun_i) >= tolf\n",
    "\n",
    "    x_i = appr(nit);\n",
    "\n",
    "    m_i = fun_der(x_i); % ricalcolo della pendenza\n",
    "    if(abs(m_i) <= eps)\n",
    "        fprintf('Derivata nulla in x_0, uscita...\\n')\n",
    "        sol = appr(nit);\n",
    "        return\n",
    "    end\n",
    "    \n",
    "    temp = x_i - fun_i / m_i; % calcolo nuova soluzione\n",
    "    fun_i = fun(temp); \n",
    "    \n",
    "    nit = nit + 1;\n",
    "    appr(nit) = temp;\n",
    "end\n",
    "\n",
    "if(maxit == nit)\n",
    "   disp(\"Raggiunto massimo numero iterazioni\") \n",
    "end\n",
    "\n",
    "sol = appr(nit);\n",
    "\n",
    "end"
   ]
  },
  {
   "cell_type": "markdown",
   "metadata": {},
   "source": [
    "## Metodo di Newton modificato\n",
    "\n",
    "Usa il metodo di Newton per calcolare lo zero di una funzione nel caso di radici che non sono semplici.\n",
    "\n",
    "    [sol, appr, nit] = newton_mk2(fun, fun_der, x_i, tolx, tolf, maxit, m)\n",
    "\n",
    "Input:\n",
    "- `fun`, `fun_der`: funzione di cui si calcola lo zero e sua derivata prima,\n",
    "- `x_i`: punto di innesco,\n",
    "- `tolx`: tolleranza,\n",
    "- `tolf`: tolleranza,\n",
    "- `maxit`: numero massimo di iterazioni consentite,\n",
    "- `m`: molteplicità della soluzione da trovare.\n",
    "\n",
    "Output:\n",
    "- `sol`: miglior approssimazione dello zero di funzione trovata,\n",
    "- `appr`: vettore contenente tutte le approssimazioni calcolate,\n",
    "- `nit`: numero di iterazioni impiegate per arrivare alla soluzione."
   ]
  },
  {
   "cell_type": "code",
   "execution_count": 6,
   "metadata": {},
   "outputs": [],
   "source": [
    "function [sol, appr, nit] = newton_mk2(fun, fun_der, x_i, tolx, tolf, maxit, m)\n",
    "\n",
    "m_i = fun_der(x_i); % inizializzazione della pendenza\n",
    "\n",
    "if(abs(m_i) <= eps)\n",
    "   fprintf('Derivata nulla in x_0, uscita...\\n')\n",
    "   sol = 0;\n",
    "   appr = 0;\n",
    "   nit = 0;\n",
    "   return\n",
    "end\n",
    "\n",
    "temp  = x_i - m * fun(x_i) / m_i; % primo passo di iterazione\n",
    "fun_i = fun(temp); % prima approssimazione locale\n",
    "\n",
    "nit = 1;\n",
    "appr(nit) = temp;\n",
    "\n",
    "% tre criteri di arresto, il primo sul numero di iterazioni massime,\n",
    "% il secondo su\n",
    "while nit < maxit && abs(fun_i / m_i) >= tolx * abs(appr(nit)) ...\n",
    "    && abs(fun_i) >= tolf\n",
    "\n",
    "    x_i = appr(nit);\n",
    "\n",
    "    m_i = fun_der(x_i); % ricalcolo della pendenza\n",
    "    if(abs(m_i) <= eps)\n",
    "        fprintf('Derivata nulla in x_0, uscita...\\n')\n",
    "        sol = appr(nit);\n",
    "        return\n",
    "    end\n",
    "    \n",
    "    temp = x_i - m * fun_i / m_i; % calcolo nuova soluzione\n",
    "    fun_i = fun(temp); \n",
    "    \n",
    "    nit = nit + 1;\n",
    "    appr(nit) = temp;\n",
    "end\n",
    "\n",
    "if(maxit == nit)\n",
    "   disp(\"Raggiunto massimo numero iterazioni\") \n",
    "end\n",
    "\n",
    "sol = appr(nit);\n",
    "\n",
    "end"
   ]
  },
  {
   "cell_type": "markdown",
   "metadata": {},
   "source": [
    "## Metodo delle secanti\n",
    "\n",
    "Calcola lo zero di una funzione sfruttando il metodo delle secanti.\n",
    "\n",
    "    [sol, appr, nit] = secants(fun, x_i, x_j, tolx, tolf, maxit)\n",
    "\n",
    "Input:\n",
    "- `x_i`, `x_j`: punti di innesco,\n",
    "- `tolx`: tolleranza,\n",
    "- `tolf`: tolleranza,\n",
    "- `maxit`: numero massimo di iterazioni consentite.\n",
    "\n",
    "Output:\n",
    "- `sol`: miglior approssimazione dello zero di funzione trovata,\n",
    "- `appr`: vettore contenente tutte le approssimazioni calcolate,\n",
    "- `nit`: numero di iterazioni impiegate per arrivare alla soluzione."
   ]
  },
  {
   "cell_type": "code",
   "execution_count": 7,
   "metadata": {},
   "outputs": [],
   "source": [
    "function [sol, appr, nit] = secants(fun, x_i, x_j, tolx, tolf, maxit)\n",
    "\n",
    "fun_i = fun(x_i);\n",
    "fun_j = fun(x_j);\n",
    "\n",
    "nit = 1;\n",
    "exit = 0;\n",
    "\n",
    "% inizializzazione tramite punti di innesco |x_i| e |y_i|\n",
    "d = (x_i - x_j) / (fun_i - fun_j);\n",
    "appr(nit) = x_i - fun_i * d;\n",
    "fun_i = fun(appr(nit));\n",
    "\n",
    "% criteri di arresto basati su |tolx|, |tolf| e |maxit|\n",
    "while exit == 0 && nit < maxit ...\n",
    "    && abs(fun_i * d) >= tolx * abs(appr(nit)) ...\n",
    "    && abs(fun_i) >= tolf\n",
    "\n",
    "    x_j = x_i;\n",
    "    x_i = appr(nit);\n",
    "\n",
    "    if(fun(x_i) == fun(x_j))\n",
    "        exit = 1;\n",
    "    end\n",
    "\n",
    "    % costruzione i-esimo passo d'iterazione\n",
    "    temp = x_i - fun(x_i) * (x_i - x_j) / (fun(x_i) - fun(x_j));\n",
    "    % approssimazione locale\n",
    "    fun_i = fun(temp); \n",
    "\n",
    "    nit = nit + 1;\n",
    "    appr(nit) = temp;\n",
    "end\n",
    "\n",
    "if(nit == maxit)\n",
    "    disp(\"Maximum number of iterations reached!\");\n",
    "end\n",
    "\n",
    "sol = appr(nit);\n",
    "\n",
    "end"
   ]
  },
  {
   "cell_type": "markdown",
   "metadata": {},
   "source": [
    "## Esercizio 1"
   ]
  },
  {
   "cell_type": "code",
   "execution_count": 8,
   "metadata": {},
   "outputs": [
    {
     "name": "stdout",
     "output_type": "stream",
     "text": [
      "Symbolic pkg v2.9.0: Python communication link active, SymPy v1.5.\n"
     ]
    }
   ],
   "source": [
    "% funzione 1\n",
    "f1 = @(x) exp(-x) - (x + 1);\n",
    "a1 = -1;\n",
    "b1 = 2;\n",
    "tolx1 = 1.e-12;\n",
    "\n",
    "% funzione 2\n",
    "f2 = @(x) log(x + 3) / log(2) - 2;\n",
    "a2 = -1;\n",
    "b2 = 2;\n",
    "tolx2 = 1.e-12;\n",
    "\n",
    "% funzione 3\n",
    "f3 = @(x) sqrt(x) - x^2 / 4;\n",
    "a3 = 1;\n",
    "b3 = 3;\n",
    "tolx3 = 1.e-12;\n",
    "\n",
    "alfa = 0;\n",
    "nmax = 1000;\n",
    "tolf = 1.e-12;\n",
    "x_0 = -0.5;\n",
    "x_j = -0.3;\n",
    "\n",
    "% calcolo della derivata prima di |f1|\n",
    "syms x;\n",
    "fx = exp(-x) - (x + 1);\n",
    "df = function_handle(diff(fx, x, 1));\n",
    "\n",
    "%figure\n",
    "%fplot(f1, [a1, b1]);\n",
    "%title('Funzione 1');\n",
    "%box off"
   ]
  },
  {
   "cell_type": "markdown",
   "metadata": {},
   "source": [
    "### Calcolo degli zeri di funzione"
   ]
  },
  {
   "cell_type": "code",
   "execution_count": 25,
   "metadata": {},
   "outputs": [],
   "source": [
    "[~, appr, nit] = bisection(f1, a1, b1, tolx1);\n",
    "err_ass = abs(appr - alfa);\n",
    "\n",
    "[~, appr_falsi, nit_falsi] = regula_falsi(f1, a1, b1, tolx1, nmax);\n",
    "err_ass1b = abs(appr_falsi - alfa);\n",
    "\n",
    "[~, appr_chords, nit_chords] = chords(f1, df, x_0, tolx1, tolf, nmax);\n",
    "err_ass1c = abs(appr_chords - alfa);\n",
    "\n",
    "[~, appr_tangenti, nit_tangenti] = newton(f1, df, x_0, tolx1, ...\n",
    "                                                tolf, nmax);\n",
    "err_ass1d = abs(appr_tangenti - alfa);\n",
    "\n",
    "[~, appr_secant, nit_secant] = secant(f1, x_0, x_j, tolx1, ...\n",
    "                                                tolf, nmax);\n",
    "err_ass1e = abs(appr_secant - alfa);"
   ]
  },
  {
   "cell_type": "markdown",
   "metadata": {},
   "source": [
    "### Numero di iterazioni richieste da ciascun algoritmo"
   ]
  },
  {
   "cell_type": "code",
   "execution_count": 26,
   "metadata": {},
   "outputs": [
    {
     "data": {
      "image/png": "[encoded data removed]",
      "text/plain": [
       "<IPython.core.display.Image object>"
      ]
     },
     "metadata": {},
     "output_type": "display_data"
    }
   ],
   "source": [
    "figure\n",
    "semilogy((1:nit), err_ass, 'ro--', ...\n",
    "    (1:nit_falsi), err_ass1b, 'go--', ...\n",
    "    (1:nit_chords), err_ass1c, 'm+--', ...\n",
    "    (1:nit_tangenti), err_ass1d, 'b*--', ...\n",
    "    (1:nit_secant), err_ass1e, 'co--');\n",
    "\n",
    "xlabel(\"iterazioni\")\n",
    "ylabel(\"errore assoluto\")\n",
    "legend(\"bisection\", \"regula falsi\", \"chords\", \"tangenti\", \"secant\");\n",
    "box off\n",
    "warning (\"off\", \"Octave:negative-data-log-axis\");"
   ]
  },
  {
   "cell_type": "markdown",
   "metadata": {},
   "source": [
    "### Stima dell'ordine di convergenza per ciascun algoritmo\n",
    "\n",
    "Si vuole stimare l'ordine di convergenza di un metodo di iterazione del punto fisso."
   ]
  },
  {
   "cell_type": "code",
   "execution_count": 11,
   "metadata": {
    "jupyter": {
     "source_hidden": true
    }
   },
   "outputs": [],
   "source": [
    "function [order] = stima_order(appr, nit)\n",
    "\n",
    "p = zeros(nit);\n",
    "\n",
    "for i = 3 : nit - 1\n",
    "    p(i - 2) = log(abs(appr(i + 1) - appr(i)) / ...\n",
    "    abs(appr(i) - appr(i - 1))) / ...\n",
    "        log(abs(appr(i) - appr(i - 1)) / ...\n",
    "        abs(appr(i - 1) - appr(i - 2)));\n",
    "end\n",
    "\n",
    "order = p(nit - 3);\n",
    "\n",
    "end"
   ]
  },
  {
   "cell_type": "code",
   "execution_count": 12,
   "metadata": {
    "jupyter": {
     "source_hidden": true
    }
   },
   "outputs": [
    {
     "name": "stdout",
     "output_type": "stream",
     "text": [
      "bisection_order =  1\n",
      "regula_falsi_order = -0\n",
      "chords_order =  1.0000\n",
      "tangenti_order =  2.0107\n",
      "secant_order =  1.6933\n"
     ]
    }
   ],
   "source": [
    "[bisection_order] = stima_order(appr, length(appr))\n",
    "[regula_falsi_order] = stima_order(appr_falsi, length(appr_falsi))\n",
    "[chords_order] = stima_order(appr_chords, length(appr_chords))\n",
    "[tangenti_order] = stima_order(appr_tangenti, length(appr_tangenti))\n",
    "[secant_order] = stima_order(appr_secant, length(appr_secant))"
   ]
  },
  {
   "cell_type": "markdown",
   "metadata": {},
   "source": [
    "## Esercizio 2"
   ]
  },
  {
   "cell_type": "code",
   "execution_count": 27,
   "metadata": {},
   "outputs": [
    {
     "data": {
      "image/png": "[encoded data removed]",
      "text/plain": [
       "<IPython.core.display.Image object>"
      ]
     },
     "metadata": {},
     "output_type": "display_data"
    }
   ],
   "source": [
    "clear a b x tolx tolf fx f\n",
    "close all\n",
    "\n",
    "syms x\n",
    "fx = tan(x) - x;\n",
    "fx1 = x;\n",
    "\n",
    "a = 3/5 * pi;\n",
    "b = 37/25 * pi;\n",
    "\n",
    "f = function_handle(fx);\n",
    "df = function_handle(diff(fx, x, 1));\n",
    "\n",
    "xc = linspace(0, 5);\n",
    "\n",
    "hold on\n",
    "plot(xc,feval(f, xc));\n",
    "plot(a, linspace(-25,20, 50), \"r.-\");\n",
    "plot(b, linspace(-25,20, 50), \"b.-\");\n",
    "ylim ([-25, 20]);\n",
    "hold off"
   ]
  },
  {
   "cell_type": "code",
   "execution_count": 14,
   "metadata": {},
   "outputs": [
    {
     "name": "stdout",
     "output_type": "stream",
     "text": [
      "appr_par =\n",
      "\n",
      "   3.2673   3.9584   4.3040   4.4768\n",
      "\n"
     ]
    }
   ],
   "source": [
    "tolx = 1e-8;\n",
    "tolf = 1e-8;\n",
    "v_nit = zeros(1,1);\n",
    "\n",
    "[sol, appr, nit] = bisection(f,a,b,tolx);\n",
    "appr_par = appr(1:4)"
   ]
  },
  {
   "cell_type": "code",
   "execution_count": 15,
   "metadata": {},
   "outputs": [
    {
     "name": "stdout",
     "output_type": "stream",
     "text": [
      "Valore  dell'innesco x_0: 3.267256\n",
      "[Secant]: approssimazione: 0.002444, iterazioni 26\n",
      "[Tangenti]: approssimazione: Inf, iterazioni 507 \n",
      "\n",
      "Valore  dell'innesco x_0: 3.958407\n",
      "[Secant]: approssimazione: 0.002690, iterazioni 14\n",
      "[Tangenti]: approssimazione: Inf, iterazioni 511 \n",
      "\n",
      "Valore  dell'innesco x_0: 4.303982\n",
      "[Secant]: approssimazione: 0.002380, iterazioni 43\n",
      "[Tangenti]: approssimazione: 4.493409, iterazioni 8 \n",
      "\n",
      "Valore  dell'innesco x_0: 4.476770\n",
      "[Secant]: approssimazione: 4.493409, iterazioni 7\n",
      "[Tangenti]: approssimazione: 4.493409, iterazioni 3 \n",
      "\n"
     ]
    }
   ],
   "source": [
    "for i = 1:length(appr_par)\n",
    "    [sol_newton, ~, nit_newton] = newton(f, df, appr_par(i), tolx, ...\n",
    "        tolf, 1000);\n",
    "    [sol_secant, appr_secant, nit_secant] = secant(f,appr_par(i), ...\n",
    "        a,tolx,tolf,1000);\n",
    "\n",
    "    fprintf(\"Valore  dell'innesco x_0: %f\\n\", appr_par(i));\n",
    "    fprintf(\"[Secant]: approssimazione: %f, iterazioni %i\\n\", ...\n",
    "        sol_secant, nit_secant);\n",
    "    fprintf(\"[Tangenti]: approssimazione: %f, iterazioni %i \\n\\n\", ...\n",
    "        sol_newton, nit_newton);\n",
    "end"
   ]
  },
  {
   "cell_type": "markdown",
   "metadata": {},
   "source": [
    "A partire dai risultati ottenuti si può osservare la sensibilità sia del metodo di Newton che delle Secanti. Entrambi i metodi hanno convergenza locale, perciò se l'approssimazione dello zero di funzione fornita inizialmente non è abbastanza accurata, i due metodi non convergono alla radice, che in questo caso è pari a: $4.493409$.\n",
    "\n",
    "Si nota che per i primi due valori di innesco forniti il metodo di Newton non converge. Per i successivi due valori invece converge.\n",
    "Il metodo delle Secanti converge alla radice solo per l'ultimo valore di innesco fornito mentre nei primi tre casi non converge alla radice richiesta."
   ]
  },
  {
   "cell_type": "markdown",
   "metadata": {},
   "source": [
    "## Esercizio 3"
   ]
  },
  {
   "cell_type": "code",
   "execution_count": 16,
   "metadata": {},
   "outputs": [
    {
     "data": {
      "image/png": "[encoded data removed]",
      "text/plain": [
       "<IPython.core.display.Image object>"
      ]
     },
     "metadata": {},
     "output_type": "display_data"
    }
   ],
   "source": [
    "clear a b x tolx tolf fx f\n",
    "close all\n",
    "syms x\n",
    "fx = atan(x);\n",
    "f = function_handle(fx);\n",
    "df = function_handle(diff(fx, x, 1));\n",
    "xc = linspace(-3,3);\n",
    "hold on\n",
    "plot(xc, feval(f,xc));\n",
    "\n",
    "plot(linspace(-3,3), 0);"
   ]
  },
  {
   "cell_type": "code",
   "execution_count": 17,
   "metadata": {},
   "outputs": [
    {
     "name": "stdout",
     "output_type": "stream",
     "text": [
      "[Tangenti]: approssimazione: -7.599004e-12, iterazioni 5 \n",
      "Derivata nulla in x_0, uscita...\n",
      "[Tangenti]: approssimazione: -4.297215e+08, iterazioni 9 \n"
     ]
    }
   ],
   "source": [
    "x_0 = [1.2, 1.4];\n",
    "tolx = 1.e-6;\n",
    "tolf = 1.e-5;\n",
    "\n",
    "for i=1:length(x_0)\n",
    "    [sol, appr, nit] = newton(f, df, x_0(i), tolx, tolf, 1000);\n",
    "    fprintf(\"[Tangenti]: approssimazione: %e, iterazioni %i \\n\", sol, nit);\n",
    "end"
   ]
  },
  {
   "cell_type": "markdown",
   "metadata": {},
   "source": [
    "Il metodo di Newton in entrambi i casi non converge."
   ]
  },
  {
   "cell_type": "markdown",
   "metadata": {},
   "source": [
    "## Esercizio 4"
   ]
  },
  {
   "cell_type": "code",
   "execution_count": 18,
   "metadata": {},
   "outputs": [],
   "source": [
    "clear a b x tolx tolf fx f sol_newton appr_newton nit_newton\n",
    "close all\n",
    "syms x\n",
    "fx = x^3 + x^2 - 33 * x + 63;\n",
    "f = function_handle(fx);\n",
    "df = function_handle(diff(fx, x, 1));\n",
    "x_0 = 1;\n",
    "tolx = 1.e-12;\n",
    "tolf = 1.e-12;"
   ]
  },
  {
   "cell_type": "code",
   "execution_count": 19,
   "metadata": {},
   "outputs": [
    {
     "name": "stdout",
     "output_type": "stream",
     "text": [
      "[Tangenti]: approssimazione: 3, iterazioni 23 \n",
      "[Newton modificato]: approssimazione: 3, iterazioni 4 \n"
     ]
    }
   ],
   "source": [
    "[sol_newton, appr_newton, nit_newton] = newton(f, df, x_0, tolx, ...\n",
    "    tolf,1000);\n",
    "[sol_mk2, appr_mk2, nit_mk2] = newton_mk2(f, df, x_0, tolx, ...\n",
    "    tolf, 1000, 2);\n",
    "\n",
    "fprintf(\"[Tangenti]: approssimazione: %g, iterazioni %i \\n\", ...\n",
    "    sol_newton, nit_newton);\n",
    "fprintf(\"[Newton modificato]: approssimazione: %g, iterazioni %i \\n\", ...\n",
    "    sol_mk2, nit_mk2);"
   ]
  },
  {
   "cell_type": "code",
   "execution_count": 20,
   "metadata": {},
   "outputs": [
    {
     "name": "stdout",
     "output_type": "stream",
     "text": [
      "Ordine di convergenza del metodo di Newton: 1.000899\n",
      "Ordine di convergenza del metodo di Newton modificato: 1.996543\n"
     ]
    }
   ],
   "source": [
    "[p1] = stima_order(appr_newton, nit_newton);\n",
    "fprintf(\"Ordine di convergenza del metodo di Newton: %f\\n\", p1);\n",
    "\n",
    "[p2] = stima_order(appr_mk2, nit_mk2);\n",
    "fprintf(\"Ordine di convergenza del metodo di Newton modificato: %f\\n\", p2);"
   ]
  },
  {
   "cell_type": "markdown",
   "metadata": {},
   "source": [
    "Nel caso di radici multiple il metodo di Newton classico ha velocità di convergenza lineare mentre la versione modificata raggiunge ha convergenza quadratica."
   ]
  },
  {
   "cell_type": "markdown",
   "metadata": {},
   "source": [
    "## Esercizio 5"
   ]
  },
  {
   "cell_type": "code",
   "execution_count": 21,
   "metadata": {},
   "outputs": [],
   "source": [
    "% TODO"
   ]
  }
 ],
 "metadata": {
  "kernelspec": {
   "display_name": "Octave",
   "language": "octave",
   "name": "octave"
  },
  "language_info": {
   "file_extension": ".m",
   "help_links": [
    {
     "text": "GNU Octave",
     "url": "https://www.gnu.org/software/octave/support.html"
    },
    {
     "text": "Octave Kernel",
     "url": "https://github.com/Calysto/octave_kernel"
    },
    {
     "text": "MetaKernel Magics",
     "url": "https://metakernel.readthedocs.io/en/latest/source/README.html"
    }
   ],
   "mimetype": "text/x-octave",
   "name": "octave",
   "version": "5.2.0"
  }
 },
 "nbformat": 4,
 "nbformat_minor": 4
}
