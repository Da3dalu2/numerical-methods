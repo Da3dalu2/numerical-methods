{
 "cells": [
  {
   "cell_type": "markdown",
   "metadata": {},
   "source": [
    "# Part 2"
   ]
  },
  {
   "cell_type": "markdown",
   "metadata": {},
   "source": [
    "## Premessa\n",
    "Si devono realizzare algoritmi che riducano al minimo gli errori che si commettono sia nella fase di memorizzazione dei numeri che quando si eseguono operazioni tra loro. È molto importante saper interpretare i risultati che fornisce un algoritmo."
   ]
  },
  {
   "cell_type": "markdown",
   "metadata": {},
   "source": [
    "## Exercise 1\n",
    "\n",
    "Confrontare  i  risultati  delle  operazioni $(0.3-0.2)-0.1$ e $0.3-(0.2 + 0.1)$ e fornire una spiegazione a quanto osservato.  Ripetere l’esercizio con le operazioni $0.1\\ast (0.2 + 0.5)$ e $0.1\\ast 0.2 + 0.1\\ast 0.5$.\n",
    "\n",
    "Ad esempio per la rappresentazione del numero  si ha prima la rappresentazione tramite arrotondamento, si ottiene  in cui si aggiunge alla 54-esima cifra (mantissa di 53 cifre nella rappresentazione di MATLAB) la base mezza (1 in questo caso visto che MATLAB memorizza in base 2). Il numero che si ottiene va normalizzato dato che la prima cifra di mantissa non è 1."
   ]
  },
  {
   "cell_type": "code",
   "execution_count": 1,
   "metadata": {},
   "outputs": [
    {
     "name": "stdout",
     "output_type": "stream",
     "text": [
      "ris1 =   -2.775557561562891e-17\n",
      "ris2 =   -5.551115123125783e-17\n"
     ]
    }
   ],
   "source": [
    "format long\n",
    "# dati iniziali\n",
    "a = 0.1;\n",
    "b = 0.2;\n",
    "c = 0.3;\n",
    "\n",
    "# svolgimento delle operazioni\n",
    "ris1 = (c - b) - a\n",
    "ris2 = c - (b + a)"
   ]
  },
  {
   "cell_type": "markdown",
   "metadata": {},
   "source": [
    "Nel secondo caso si ottiene un numero diverso, più piccolo del primo. Si ha un'approssimazione di questo tipo perché si svolgono operazioni di somma algebrica tra numeri molto vicini e si verifica il fenomeno della cancellazione numerica.\n",
    "\n",
    "Si ha che non vale la proprietà associativa tra numeri finiti, infatti assemblando i calcoli in modo differente si ottengono risultati diversi. Questa diversità dei risultati è dovuta ad approssimazioni di tipo differente (arrotondamento per eccesso o per difetto)."
   ]
  },
  {
   "cell_type": "markdown",
   "metadata": {},
   "source": [
    "### Calcolo dell'indice algoritmico"
   ]
  },
  {
   "cell_type": "code",
   "execution_count": 2,
   "metadata": {},
   "outputs": [
    {
     "name": "stdout",
     "output_type": "stream",
     "text": [
      "I_alg_1 =  1.5000\n",
      "I_alg_2 =  1.8333\n"
     ]
    }
   ],
   "source": [
    "format short\n",
    "I_alg_1 = abs(a + b)/abs(a + b + c) + 1 % (a + b) + c\n",
    "I_alg_2 = abs(b + c)/abs(a + b + c) + 1 % a + (b + c)"
   ]
  },
  {
   "cell_type": "markdown",
   "metadata": {},
   "source": [
    "L'operazione $(a + b) + c$ è più stabile di $a + (b + c)$ per la particolare scelta dei valori di $a$,$b$ e $c$."
   ]
  },
  {
   "cell_type": "markdown",
   "metadata": {},
   "source": [
    "## Exercise 2\n",
    "Siano $a = 1.234567890123400e+15$, $b=−1.234567890123401e+15$, $c= 0.06$. Calcolare $(a+b)+c$, $(a+c)+b$, $a+(b+c)$.  \n",
    "Che cosa si osserva?  Ripetere l’esercizio con $a = 0.23371258e-4$, $b = 0.33678429e+ 2$, $c = -0.33677911e+ 2$."
   ]
  },
  {
   "cell_type": "code",
   "execution_count": 3,
   "metadata": {},
   "outputs": [],
   "source": [
    "# dati iniziali\n",
    "a = 1.234567890123400e+15;\n",
    "b = -1.234567890123401e+15;\n",
    "c = 0.06;\n",
    "\n",
    "d = 0.23371258e-4;\n",
    "e = 0.33678429e+2;\n",
    "f = 0.33677911e+2;"
   ]
  },
  {
   "cell_type": "markdown",
   "metadata": {},
   "source": [
    "Nel primo caso si osservano i fenomeni della **cancellazione** e dell'**assorbimento**. Il primo si verifica quando si sottraggono numeri molto vicini tra loro. Il secondo quando sono coinvolti nell'operazione numeri con ordine di grandezza molto diversi."
   ]
  },
  {
   "cell_type": "code",
   "execution_count": 4,
   "metadata": {},
   "outputs": [
    {
     "name": "stdout",
     "output_type": "stream",
     "text": [
      "ans = -1\n",
      "ris3 = -0.94000\n",
      "ans =  1234567890123400\n",
      "ris4 = -1\n",
      "ans = -1234567890123401\n",
      "ris5 = -1\n",
      "ans =  33.678\n",
      "ris6 =  67.356\n",
      "ans =  33.678\n",
      "ris7 =  67.356\n",
      "ans =  67.356\n",
      "ris8 =  67.356\n"
     ]
    }
   ],
   "source": [
    "# svolgimento delle operazioni\n",
    "a + b\n",
    "ris3 = (a + b) + c\n",
    "a + c\n",
    "ris4 = (a + c) + b\n",
    "b + c\n",
    "ris5 = a + (b + c)\n",
    "d + e\n",
    "ris6 = (d + e) + f\n",
    "d + f\n",
    "ris7 = (d + f) + e\n",
    "f + e\n",
    "ris8 = d + (f + e)"
   ]
  },
  {
   "cell_type": "markdown",
   "metadata": {},
   "source": [
    "## Exercise 3\n",
    "Nell’aritmetica di matlab sommare per $i = 1,...10$ gli addendi $w_i$ con $w_i = 0.1e-15$ e , per $i = 2,...,10$.  \n",
    "Come è meglio procedere?"
   ]
  },
  {
   "cell_type": "code",
   "execution_count": 5,
   "metadata": {},
   "outputs": [],
   "source": [
    "# dati iniziali\n",
    "w = 0.1e-15;"
   ]
  },
  {
   "cell_type": "markdown",
   "metadata": {},
   "source": [
    "L'ordine con cui si sommano i numeri influisce sul risultato finale. La seconda approssimazione è in generale migliore, infatti conviene sommare i numeri in ordine crescente. \n",
    "\n",
    "Si dimostra in particolare che l'indice algoritmico per l'algoritmo di somma di $n$ numeri macchina è pari a: $I_{ALG} = n - 1$. Perciò l'algoritmo risulta stabile. Queste considerazioni valgono nel caso in cui si sommano algebricamente numeri di segno concorde."
   ]
  },
  {
   "cell_type": "code",
   "execution_count": 6,
   "metadata": {},
   "outputs": [
    {
     "name": "stdout",
     "output_type": "stream",
     "text": [
      "s1 =  1\n",
      "s2 =  1.0000\n"
     ]
    }
   ],
   "source": [
    "# svolgimento delle operazioni\n",
    "s1 = sum([1 ones(1,9)*w])\n",
    "s2 = sum([ones(1,9)*w 1]) % somma in ordine crescente"
   ]
  },
  {
   "cell_type": "markdown",
   "metadata": {},
   "source": [
    "## Exercise 4\n",
    "Si considerino le espressioni $y_1 = \\sqrt{x^2 +1}-x$ e $y_2 = \\frac{1}{\\sqrt{x^2+1}+x}$.\n",
    "Calcolare il valore di $y_1$ e $y_2$ per $x = 7777$ e $x = 77777777$.  \n",
    "Che cosa si osserva?  Commentare i risultati ottenuti."
   ]
  },
  {
   "cell_type": "code",
   "execution_count": 7,
   "metadata": {},
   "outputs": [],
   "source": [
    "# dati iniziali\n",
    "x1 = 7777;\n",
    "x2 = 77777777;"
   ]
  },
  {
   "cell_type": "markdown",
   "metadata": {},
   "source": [
    "In questo caso si verifica il fenomeno di cancellazione. Si nota a partire dall'ottava cifra decimale."
   ]
  },
  {
   "cell_type": "code",
   "execution_count": 8,
   "metadata": {},
   "outputs": [
    {
     "name": "stdout",
     "output_type": "stream",
     "text": [
      "y1 =    6.429214317904552e-05\n",
      "y2 =    6.429214323431402e-05\n"
     ]
    }
   ],
   "source": [
    "# svolgimento operazioni\n",
    "format long\n",
    "y1 = sqrt( x1^2 + 1 ) - x1\n",
    "y2 = 1 / (sqrt( x1^2 + 1 ) + x1)"
   ]
  },
  {
   "cell_type": "markdown",
   "metadata": {},
   "source": [
    "Si ha la somma di numeri con ordini di grandezza differenti con conseguente cancellazione di cifre significative.\n",
    "La migliore approssimazione è la seconda perché elimina l'operazione di differenza."
   ]
  },
  {
   "cell_type": "code",
   "execution_count": 9,
   "metadata": {},
   "outputs": [
    {
     "name": "stdout",
     "output_type": "stream",
     "text": [
      "y3 = 0\n",
      "y4 =    6.428571492857143e-09\n"
     ]
    }
   ],
   "source": [
    "y3 = sqrt( x2^2 + 1 ) - x2 # sqrt(x2^2+1) ~ x2, quindi si sottraggono quantità molto vicine\n",
    "y4 = 1 / (sqrt( x2^2 + 1 ) + x2)"
   ]
  },
  {
   "cell_type": "markdown",
   "metadata": {},
   "source": [
    "## Exercise 5\n",
    "\n",
    "Valutare teoricamente l’errore relativo che si commette calcolando in aritmetica floating point l’espressione:\n",
    "\n",
    "\n",
    "$$ A(x) = \\frac{1}{x} - \\frac{1}{(x+1)} $$\n",
    "\n",
    "rispetto al valore esatto, assumendo che $x$ e $x+1$ non siano affetti da errore di rappresentazione.  \n",
    "Verificare poi in ambiente Matlab il risultato ottenuto, considerando come valori di $x$ il vettore $[10^0,10^1, ...,10^{20}]$ contenente successive potenze di 10, e usando un gafico in scala logaritmica su $x$ e $y$ per confrontare l’errore relativo ottenuto con quello previsto dalla teoria.\n",
    "\n",
    "\n",
    "Si consideri come valore esatto quello calcolato in Matlab con l’espressione algebricamente equivalente:\n",
    "\n",
    "\n",
    "$$ B(x) = \\frac{1}{x(x+1)} $$"
   ]
  },
  {
   "cell_type": "markdown",
   "metadata": {},
   "source": [
    "### Risoluzione teorica\n",
    "$Hp\\ x,x+1 \\in F$\n",
    "\n",
    "$fl(A(x)) = (1x(1+\\varepsilon r)-1/(x+1)$"
   ]
  },
  {
   "cell_type": "code",
   "execution_count": 10,
   "metadata": {},
   "outputs": [
    {
     "name": "stdout",
     "output_type": "stream",
     "text": [
      "warning: axis: omitting non-positive data in log plot\n",
      "warning: called from\n",
      "    __plt__>__plt2vv__ at line 495 column 10\n",
      "    __plt__>__plt2__ at line 242 column 14\n",
      "    __plt__ at line 107 column 18\n",
      "    loglog at line 60 column 10\n",
      "warning: axis: omitting non-positive data in log plot\n",
      "warning: called from\n",
      "    __plt__>__plt2vv__ at line 495 column 10\n",
      "    __plt__>__plt2__ at line 242 column 14\n",
      "    __plt__ at line 107 column 18\n",
      "    loglog at line 60 column 10\n",
      "warning: axis: omitting non-positive data in log plot\n",
      "warning: called from\n",
      "    __plt__>__plt2vv__ at line 495 column 10\n",
      "    __plt__>__plt2__ at line 242 column 14\n",
      "    __plt__ at line 107 column 18\n",
      "    loglog at line 60 column 10\n",
      "warning: axis: omitting non-positive data in log plot\n",
      "warning: called from\n",
      "    text at line 170 column 10\n",
      "    legend at line 1013 column 17\n"
     ]
    },
    {
     "data": {
      "image/png": "[encoded data removed]",
      "text/plain": [
       "<IPython.core.display.Image object>"
      ]
     },
     "metadata": {},
     "output_type": "display_data"
    }
   ],
   "source": [
    "# dati iniziali\n",
    "format long e\n",
    "col = [\"r\",\"b:\"];\n",
    "\n",
    "## preallocazione\n",
    "vetX = ones([1,20]);\n",
    "vetY = ones([1,20]);\n",
    "vetZ = ones([1,20]);\n",
    "\n",
    "# svolgimento delle operazioni\n",
    "for i=1:20\n",
    "    vetX(i) = 10^i;\n",
    "\n",
    "    vetY(i) = 1 / vetX(i) - 1 / ( vetX(i) + 1 );\n",
    "    vetZ(i) = 1 / ( vetX(i) * ( vetX(i) + 1 ) );\n",
    "end\n",
    "\n",
    "loglog(vetX,vetY, 'bo-', vetX,vetZ, 'r--');\n",
    "legend(\"Approx value\", \"Exact value\");\n",
    "box off\n",
    "warning (\"off\", \"Octave:negative-data-log-axis\");"
   ]
  },
  {
   "cell_type": "markdown",
   "metadata": {},
   "source": [
    "Con uno zoom è possibile notare che i valori divergono, in particolare il valore approssimato tende a essere minore del valore esatto."
   ]
  },
  {
   "cell_type": "markdown",
   "metadata": {},
   "source": [
    "## Exercise 6\n",
    "\n",
    "Quali problemi si possono incontrare nel calcolo delle radici di $ax^2 + bx+ c$?\n",
    "\n",
    "Provare a risolvere l’equazione $x^2 + 10kx + 1 = 0$ con `k = 1 : 1 : 8`. \n",
    "\n",
    "Che cosa si osserva?"
   ]
  },
  {
   "cell_type": "code",
   "execution_count": 11,
   "metadata": {},
   "outputs": [
    {
     "name": "stdout",
     "output_type": "stream",
     "text": [
      "x1 =\n",
      "\n",
      " Columns 1 through 3:\n",
      "\n",
      "  -1.010205144336442e-01  -1.000100020004879e-02  -1.000001000022621e-03\n",
      "\n",
      " Columns 4 through 6:\n",
      "\n",
      "  -1.000000011117663e-04  -1.000000338535756e-05  -1.000007614493370e-06\n",
      "\n",
      " Columns 7 and 8:\n",
      "\n",
      "  -9.965151548385620e-08  -7.450580596923828e-09\n",
      "\n",
      "x2 =\n",
      "\n",
      " Columns 1 through 3:\n",
      "\n",
      "  -9.898979485566356e+00  -9.998999899979995e+01  -9.999989999990000e+02\n",
      "\n",
      " Columns 4 through 6:\n",
      "\n",
      "  -9.999999899999999e+03  -9.999999999000000e+04  -9.999999999990000e+05\n",
      "\n",
      " Columns 7 and 8:\n",
      "\n",
      "  -9.999999999999899e+06  -1.000000000000000e+08\n",
      "\n"
     ]
    }
   ],
   "source": [
    "format long\n",
    "clear a b c x1 x2\n",
    "a = 1;\n",
    "c = 1;\n",
    "x1 = ones([1,8]);\n",
    "x2 = ones([1,8]);\n",
    "\n",
    "for k = 1:8\n",
    "    b = 10^k;\n",
    "    x1(k) = (-b + sqrt(b^2 - 4 * a * c)) / (2 * a);\n",
    "    x2(k) = (-b - sqrt(b^2 - 4 * a * c)) / (2 * a);\n",
    "end\n",
    "\n",
    "x1\n",
    "x2"
   ]
  },
  {
   "cell_type": "markdown",
   "metadata": {},
   "source": [
    "## Exercise 7"
   ]
  },
  {
   "cell_type": "markdown",
   "metadata": {},
   "source": [
    "Scrivere uno script Matlab che fornisca le approssimazioni di  ottenute con la formula:\n",
    "\n",
    "$$ f(n) = \\left( \\frac{1}{n} + 1 \\right) n $$\n",
    "\n",
    "per $n = 10k$ e $k = 0,...,16$.\n",
    "\n",
    "Cosa si osserva? Commentare i risultati ottenuti."
   ]
  },
  {
   "cell_type": "code",
   "execution_count": 12,
   "metadata": {},
   "outputs": [
    {
     "name": "stdout",
     "output_type": "stream",
     "text": [
      "fn =\n",
      "\n",
      " Columns 1 through 4:\n",
      "\n",
      "   2.000000000000000   2.593742460100002   2.704813829421528   2.716923932235594\n",
      "\n",
      " Columns 5 through 8:\n",
      "\n",
      "   2.718145926824926   2.718268237192297   2.718280469095753   2.718281694132082\n",
      "\n",
      " Columns 9 through 12:\n",
      "\n",
      "   2.718281798347358   2.718282052011560   2.718282053234788   2.718282053357110\n",
      "\n",
      " Columns 13 through 16:\n",
      "\n",
      "   2.718523496037238   2.716110034086901   2.716110034087023   3.035035206549262\n",
      "\n",
      " Column 17:\n",
      "\n",
      "   1.000000000000000\n",
      "\n"
     ]
    },
    {
     "data": {
      "image/png": "[encoded data removed]",
      "text/plain": [
       "<IPython.core.display.Image object>"
      ]
     },
     "metadata": {},
     "output_type": "display_data"
    }
   ],
   "source": [
    "# dati iniziali\n",
    "e = exp(1);\n",
    "fn = ones([1,17]);\n",
    "\n",
    "# svolgimento delle operazioni\n",
    "for k=1:17\n",
    "    n = 10^(k-1);\n",
    "    fn(k) = (1/n + 1)^n;\n",
    "end\n",
    "\n",
    "fn\n",
    "semilogy(fn)\n",
    "box off"
   ]
  }
 ],
 "metadata": {
  "kernelspec": {
   "display_name": "Octave",
   "language": "octave",
   "name": "octave"
  },
  "language_info": {
   "file_extension": ".m",
   "help_links": [
    {
     "text": "GNU Octave",
     "url": "https://www.gnu.org/software/octave/support.html"
    },
    {
     "text": "Octave Kernel",
     "url": "https://github.com/Calysto/octave_kernel"
    },
    {
     "text": "MetaKernel Magics",
     "url": "https://metakernel.readthedocs.io/en/latest/source/README.html"
    }
   ],
   "mimetype": "text/x-octave",
   "name": "octave",
   "version": "5.2.0"
  }
 },
 "nbformat": 4,
 "nbformat_minor": 4
}
