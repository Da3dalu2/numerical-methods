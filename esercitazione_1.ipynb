{
 "cells": [
  {
   "cell_type": "markdown",
   "metadata": {},
   "source": [
    "# Part 1"
   ]
  },
  {
   "cell_type": "markdown",
   "metadata": {},
   "source": [
    "## Exercise 1"
   ]
  },
  {
   "cell_type": "code",
   "execution_count": 1,
   "metadata": {},
   "outputs": [
    {
     "name": "stdout",
     "output_type": "stream",
     "text": [
      "a =\n",
      "\n",
      "   1.2000   5.4000   6.0000   1.5000   9.0000\n",
      "\n",
      "b =\n",
      "\n",
      "   5.2000   3.1416   1.2000   1.5000   2.0000\n",
      "\n"
     ]
    }
   ],
   "source": [
    "a = [1.2 5.4 6 1.5 9]\n",
    "b = [5.2 pi 1.2 1.5 2]"
   ]
  },
  {
   "cell_type": "code",
   "execution_count": 2,
   "metadata": {},
   "outputs": [
    {
     "name": "stdout",
     "output_type": "stream",
     "text": [
      "ans =\n",
      "\n",
      "   1.0954   2.3238   2.4495   1.2247   3.0000\n",
      "\n"
     ]
    }
   ],
   "source": [
    "sqrt(a)"
   ]
  },
  {
   "cell_type": "code",
   "execution_count": 3,
   "metadata": {},
   "outputs": [
    {
     "name": "stdout",
     "output_type": "stream",
     "text": [
      "ans =\n",
      "\n",
      "    1.8221   14.8797   20.0855    2.1170   90.0171\n",
      "\n"
     ]
    }
   ],
   "source": [
    "e.^(a/2)"
   ]
  },
  {
   "cell_type": "code",
   "execution_count": 4,
   "metadata": {},
   "outputs": [
    {
     "name": "stdout",
     "output_type": "stream",
     "text": [
      "ans =\n",
      "\n",
      "    6.4000    8.5416    7.2000    3.0000   11.0000\n",
      "\n"
     ]
    }
   ],
   "source": [
    "a + b"
   ]
  },
  {
   "cell_type": "code",
   "execution_count": 5,
   "metadata": {},
   "outputs": [
    {
     "name": "stdout",
     "output_type": "stream",
     "text": [
      "ans =\n",
      "\n",
      "    6.2400   16.9646    7.2000    2.2500   18.0000\n",
      "\n"
     ]
    }
   ],
   "source": [
    "a.* b"
   ]
  },
  {
   "cell_type": "code",
   "execution_count": 6,
   "metadata": {
    "scrolled": true
   },
   "outputs": [
    {
     "name": "stdout",
     "output_type": "stream",
     "text": [
      "v1 =\n",
      "\n",
      " Columns 1 through 6:\n",
      "\n",
      "     0.00000     0.50000     1.00000     1.50000     2.00000     2.50000\n",
      "\n",
      " Columns 7 through 12:\n",
      "\n",
      "     3.00000     3.50000     4.00000     4.50000     5.00000     5.50000\n",
      "\n",
      " Columns 13 through 18:\n",
      "\n",
      "     6.00000     6.50000     7.00000     7.50000     8.00000     8.50000\n",
      "\n",
      " Columns 19 through 24:\n",
      "\n",
      "     9.00000     9.50000    10.00000    10.50000    11.00000    11.50000\n",
      "\n",
      " Columns 25 through 30:\n",
      "\n",
      "    12.00000    12.50000    13.00000    13.50000    14.00000    14.50000\n",
      "\n",
      " Columns 31 through 36:\n",
      "\n",
      "    15.00000    15.50000    16.00000    16.50000    17.00000    17.50000\n",
      "\n",
      " Columns 37 through 42:\n",
      "\n",
      "    18.00000    18.50000    19.00000    19.50000    20.00000    20.50000\n",
      "\n",
      " Columns 43 through 48:\n",
      "\n",
      "    21.00000    21.50000    22.00000    22.50000    23.00000    23.50000\n",
      "\n",
      " Columns 49 through 54:\n",
      "\n",
      "    24.00000    24.50000    25.00000    25.50000    26.00000    26.50000\n",
      "\n",
      " Columns 55 through 60:\n",
      "\n",
      "    27.00000    27.50000    28.00000    28.50000    29.00000    29.50000\n",
      "\n",
      " Column 61:\n",
      "\n",
      "    30.00000\n",
      "\n"
     ]
    }
   ],
   "source": [
    "v = linspace(0, 30, 61); % REVIEW\n",
    "v1 = 0 : 0.5 : 30"
   ]
  },
  {
   "cell_type": "code",
   "execution_count": 7,
   "metadata": {
    "scrolled": true
   },
   "outputs": [
    {
     "name": "stdout",
     "output_type": "stream",
     "text": [
      "v =\n",
      "\n",
      " Columns 1 through 8:\n",
      "\n",
      "   1.0000   1.0101   1.0202   1.0303   1.0404   1.0505   1.0606   1.0707\n",
      "\n",
      " Columns 9 through 16:\n",
      "\n",
      "   1.0808   1.0909   1.1010   1.1111   1.1212   1.1313   1.1414   1.1515\n",
      "\n",
      " Columns 17 through 24:\n",
      "\n",
      "   1.1616   1.1717   1.1818   1.1919   1.2020   1.2121   1.2222   1.2323\n",
      "\n",
      " Columns 25 through 32:\n",
      "\n",
      "   1.2424   1.2525   1.2626   1.2727   1.2828   1.2929   1.3030   1.3131\n",
      "\n",
      " Columns 33 through 40:\n",
      "\n",
      "   1.3232   1.3333   1.3434   1.3535   1.3636   1.3737   1.3838   1.3939\n",
      "\n",
      " Columns 41 through 48:\n",
      "\n",
      "   1.4040   1.4141   1.4242   1.4343   1.4444   1.4545   1.4646   1.4747\n",
      "\n",
      " Columns 49 through 56:\n",
      "\n",
      "   1.4848   1.4949   1.5051   1.5152   1.5253   1.5354   1.5455   1.5556\n",
      "\n",
      " Columns 57 through 64:\n",
      "\n",
      "   1.5657   1.5758   1.5859   1.5960   1.6061   1.6162   1.6263   1.6364\n",
      "\n",
      " Columns 65 through 72:\n",
      "\n",
      "   1.6465   1.6566   1.6667   1.6768   1.6869   1.6970   1.7071   1.7172\n",
      "\n",
      " Columns 73 through 80:\n",
      "\n",
      "   1.7273   1.7374   1.7475   1.7576   1.7677   1.7778   1.7879   1.7980\n",
      "\n",
      " Columns 81 through 88:\n",
      "\n",
      "   1.8081   1.8182   1.8283   1.8384   1.8485   1.8586   1.8687   1.8788\n",
      "\n",
      " Columns 89 through 96:\n",
      "\n",
      "   1.8889   1.8990   1.9091   1.9192   1.9293   1.9394   1.9495   1.9596\n",
      "\n",
      " Columns 97 through 100:\n",
      "\n",
      "   1.9697   1.9798   1.9899   2.0000\n",
      "\n"
     ]
    }
   ],
   "source": [
    "v = linspace(1, 2)"
   ]
  },
  {
   "cell_type": "code",
   "execution_count": 8,
   "metadata": {},
   "outputs": [
    {
     "name": "stdout",
     "output_type": "stream",
     "text": [
      "row1 =\n",
      "\n",
      "   10   12   14   16   18   20\n",
      "\n",
      "row2 =\n",
      "\n",
      "   20   18   16   14   12   10\n",
      "\n",
      "A =\n",
      "\n",
      "   10   12   14   16   18   20\n",
      "   20   18   16   14   12   10\n",
      "\n"
     ]
    }
   ],
   "source": [
    "row1 = linspace(10, 20, 6)\n",
    "row2 = linspace(20, 10, 6)\n",
    "A = [row1; row2]"
   ]
  },
  {
   "cell_type": "code",
   "execution_count": 9,
   "metadata": {},
   "outputs": [
    {
     "name": "stdout",
     "output_type": "stream",
     "text": [
      "ans =  50.655\n"
     ]
    }
   ],
   "source": [
    "dot(a, b)"
   ]
  },
  {
   "cell_type": "code",
   "execution_count": 10,
   "metadata": {},
   "outputs": [
    {
     "name": "stdout",
     "output_type": "stream",
     "text": [
      "A =\n",
      "\n",
      "   1.2000   5.4000   6.0000   1.5000   9.0000\n",
      "   5.2000   3.1416   1.2000   1.5000   2.0000\n",
      "\n"
     ]
    }
   ],
   "source": [
    "A = [a; b]"
   ]
  },
  {
   "cell_type": "code",
   "execution_count": 11,
   "metadata": {},
   "outputs": [
    {
     "name": "stdout",
     "output_type": "stream",
     "text": [
      "y =\n",
      "\n",
      "    6.2400   16.9646    7.2000    2.2500   18.0000\n",
      "   27.0400    9.8696    1.4400    2.2500    4.0000\n",
      "\n"
     ]
    }
   ],
   "source": [
    "y = A.* b"
   ]
  },
  {
   "cell_type": "code",
   "execution_count": 12,
   "metadata": {
    "scrolled": true
   },
   "outputs": [
    {
     "name": "stdout",
     "output_type": "stream",
     "text": [
      "M =\n",
      "\n",
      "Diagonal Matrix\n",
      "\n",
      "   1.2000        0        0        0        0\n",
      "        0   5.4000        0        0        0\n",
      "        0        0   6.0000        0        0\n",
      "        0        0        0   1.5000        0\n",
      "        0        0        0        0   9.0000\n",
      "\n",
      "M1 =\n",
      "\n",
      "   0.00000   0.00000   0.00000   0.00000   0.00000   0.00000\n",
      "   1.20000   0.00000   0.00000   0.00000   0.00000   0.00000\n",
      "   0.00000   5.40000   0.00000   0.00000   0.00000   0.00000\n",
      "   0.00000   0.00000   6.00000   0.00000   0.00000   0.00000\n",
      "   0.00000   0.00000   0.00000   1.50000   0.00000   0.00000\n",
      "   0.00000   0.00000   0.00000   0.00000   9.00000   0.00000\n",
      "\n",
      "M2 =\n",
      "\n",
      "   0.00000   1.20000   0.00000   0.00000   0.00000   0.00000\n",
      "   0.00000   0.00000   5.40000   0.00000   0.00000   0.00000\n",
      "   0.00000   0.00000   0.00000   6.00000   0.00000   0.00000\n",
      "   0.00000   0.00000   0.00000   0.00000   1.50000   0.00000\n",
      "   0.00000   0.00000   0.00000   0.00000   0.00000   9.00000\n",
      "   0.00000   0.00000   0.00000   0.00000   0.00000   0.00000\n",
      "\n"
     ]
    }
   ],
   "source": [
    "M = diag(a)\n",
    "M1 = diag(a, -1)\n",
    "M2 = diag(a, 1)"
   ]
  },
  {
   "cell_type": "markdown",
   "metadata": {},
   "source": [
    "## Exercise 2"
   ]
  },
  {
   "cell_type": "code",
   "execution_count": 13,
   "metadata": {
    "scrolled": true
   },
   "outputs": [
    {
     "name": "stdout",
     "output_type": "stream",
     "text": [
      "col =\n",
      "\n",
      "   3\n",
      "   3\n",
      "   3\n",
      "\n",
      "M =\n",
      "\n",
      "   2   2   2\n",
      "   2   2   2\n",
      "   2   2   2\n",
      "\n",
      "M =\n",
      "\n",
      "   2   2   2   3\n",
      "   2   2   2   3\n",
      "   2   2   2   3\n",
      "\n"
     ]
    }
   ],
   "source": [
    "col = [3 3 3]'\n",
    "M = 2 * ones(3)\n",
    "M = [M, col]"
   ]
  },
  {
   "cell_type": "code",
   "execution_count": 14,
   "metadata": {
    "scrolled": true
   },
   "outputs": [
    {
     "name": "stdout",
     "output_type": "stream",
     "text": [
      "B =\n",
      "\n",
      "Diagonal Matrix\n",
      "\n",
      "   2   0   0\n",
      "   0   2   0\n",
      "   0   0   2\n",
      "\n",
      "row =\n",
      "\n",
      "    1    2    3    4    5    6    7    8    9   10\n",
      "\n",
      "M =\n",
      "\n",
      "    1    2    3    4    5    6    7    8    9   10\n",
      "    1    2    3    4    5    6    7    8    9   10\n",
      "    1    2    3    4    5    6    7    8    9   10\n",
      "\n",
      "M =\n",
      "\n",
      "    2    0    0    1    2    3    4    5    6    7    8    9   10\n",
      "    0    2    0    1    2    3    4    5    6    7    8    9   10\n",
      "    0    0    2    1    2    3    4    5    6    7    8    9   10\n",
      "\n"
     ]
    }
   ],
   "source": [
    "B = 2 * eye(3)\n",
    "row = [1 2 3 4 5 6 7 8 9 10]\n",
    "M = [row; row; row]\n",
    "M = [B, M]"
   ]
  },
  {
   "cell_type": "code",
   "execution_count": 15,
   "metadata": {
    "scrolled": true
   },
   "outputs": [
    {
     "name": "stdout",
     "output_type": "stream",
     "text": [
      "a =\n",
      "\n",
      "   2   2   2   2   2\n",
      "\n",
      "b =\n",
      "\n",
      "  -1  -1  -1  -1\n",
      "\n",
      "C =\n",
      "\n",
      "Diagonal Matrix\n",
      "\n",
      "   2   0   0   0   0\n",
      "   0   2   0   0   0\n",
      "   0   0   2   0   0\n",
      "   0   0   0   2   0\n",
      "   0   0   0   0   2\n",
      "\n",
      "D =\n",
      "\n",
      "   0   0   0   0   0\n",
      "  -1   0   0   0   0\n",
      "   0  -1   0   0   0\n",
      "   0   0  -1   0   0\n",
      "   0   0   0  -1   0\n",
      "\n",
      "E =\n",
      "\n",
      "   0  -1   0   0   0\n",
      "   0   0  -1   0   0\n",
      "   0   0   0  -1   0\n",
      "   0   0   0   0  -1\n",
      "   0   0   0   0   0\n",
      "\n",
      "F =\n",
      "\n",
      "   2  -1   0   0   0\n",
      "  -1   2  -1   0   0\n",
      "   0  -1   2  -1   0\n",
      "   0   0  -1   2  -1\n",
      "   0   0   0  -1   2\n",
      "\n"
     ]
    }
   ],
   "source": [
    "a = [2 2 2 2 2]\n",
    "b = [-1 -1 -1 -1]\n",
    "C = diag(a)\n",
    "D = diag(b, -1)\n",
    "E = diag(b, 1)\n",
    "F = C + D + E"
   ]
  },
  {
   "cell_type": "code",
   "execution_count": 16,
   "metadata": {
    "scrolled": true
   },
   "outputs": [
    {
     "name": "stdout",
     "output_type": "stream",
     "text": [
      "row =\n",
      "\n",
      "   2   2   3   3\n",
      "\n",
      "base =\n",
      "\n",
      "   0   0\n",
      "   0   0\n",
      "\n",
      "block =\n",
      "\n",
      "Diagonal Matrix\n",
      "\n",
      "   5   0\n",
      "   0   5\n",
      "\n",
      "D =\n",
      "\n",
      "   2   2   3   3\n",
      "   2   2   3   3\n",
      "   0   0   0   0\n",
      "   0   0   0   0\n",
      "   0   0   5   0\n",
      "   0   0   0   5\n",
      "\n"
     ]
    }
   ],
   "source": [
    "row = [2 2 3 3]\n",
    "base = zeros(2)\n",
    "block = 5 * eye(2)\n",
    "D = [row; row; base base; base block]"
   ]
  },
  {
   "cell_type": "markdown",
   "metadata": {},
   "source": [
    "## Exercise 3"
   ]
  },
  {
   "cell_type": "code",
   "execution_count": 17,
   "metadata": {},
   "outputs": [
    {
     "name": "stdout",
     "output_type": "stream",
     "text": [
      "ans =  5151\n",
      "a =  5151\n"
     ]
    }
   ],
   "source": [
    "n = 0 : 101;\n",
    "sum(n)\n",
    "\n",
    "a = 0;\n",
    "for(i = 0:101)\n",
    "    a += i;\n",
    "endfor\n",
    "a"
   ]
  },
  {
   "cell_type": "markdown",
   "metadata": {},
   "source": [
    "## Exercise 4"
   ]
  },
  {
   "cell_type": "code",
   "execution_count": 18,
   "metadata": {},
   "outputs": [],
   "source": [
    "function retval = transform(n)\n",
    "    if (n > 1)\n",
    "        if (mod(n, 2) == 0)\n",
    "            retval =  n./2;\n",
    "        else\n",
    "            retval = 3 .* n + 1;\n",
    "        endif\n",
    "    else\n",
    "        error (\"expecting value > 1\");\n",
    "    endif\n",
    "endfunction"
   ]
  },
  {
   "cell_type": "code",
   "execution_count": 19,
   "metadata": {},
   "outputs": [
    {
     "name": "stdout",
     "output_type": "stream",
     "text": [
      "ans =  2\n"
     ]
    }
   ],
   "source": [
    "transform(4)"
   ]
  },
  {
   "cell_type": "markdown",
   "metadata": {},
   "source": [
    "## Exercise 5"
   ]
  },
  {
   "cell_type": "markdown",
   "metadata": {},
   "source": [
    "In mathematics, the Fibonacci numbers, commonly denoted $Fn$, form a sequence, called the Fibonacci sequence, such that each number is the sum of the two preceding ones, starting from $0$ and $1$. That is,\n",
    "\n",
    "$$ F_{0}=0, F_{1}=1 $$\n",
    "\n",
    "and \n",
    "\n",
    "$$ F_{n} = F_{n-1} + F_{n-2} $$ for $n > 1$. "
   ]
  },
  {
   "cell_type": "code",
   "execution_count": 20,
   "metadata": {},
   "outputs": [],
   "source": [
    "function retval = fibonacci_rec(n)\n",
    "    if(n == 0)\n",
    "        retval = 0;\n",
    "    elseif(n == 1)\n",
    "        retval = 1;\n",
    "    else\n",
    "        retval = fibonacci_rec(n - 1) + fibonacci_rec(n - 2);\n",
    "    end\n",
    "end"
   ]
  },
  {
   "cell_type": "code",
   "execution_count": 21,
   "metadata": {},
   "outputs": [],
   "source": [
    "function f_0 = fibonacci(n)\n",
    "f_1 = 1;\n",
    "f_2 = 0;\n",
    "i = 1;\n",
    "    while i < n\n",
    "    f_0 = (f_1) + (f_2);\n",
    "    f_2 = f_1;\n",
    "    f_1 = f_0;\n",
    "    i = i + 1;\n",
    "    end\n",
    "end"
   ]
  },
  {
   "cell_type": "code",
   "execution_count": 22,
   "metadata": {},
   "outputs": [
    {
     "name": "stdout",
     "output_type": "stream",
     "text": [
      "ans =  46368\n",
      "elapsed_time =  1.0011\n",
      "ans =  46368\n",
      "elapsed_time =  0.0018439\n"
     ]
    }
   ],
   "source": [
    "tic()\n",
    "fibonacci_rec(24)\n",
    "elapsed_time = toc()\n",
    "tic()\n",
    "fibonacci(24)\n",
    "elapsed_time = toc()"
   ]
  }
 ],
 "metadata": {
  "kernelspec": {
   "display_name": "Octave",
   "language": "octave",
   "name": "octave"
  },
  "language_info": {
   "file_extension": ".m",
   "help_links": [
    {
     "text": "GNU Octave",
     "url": "https://www.gnu.org/software/octave/support.html"
    },
    {
     "text": "Octave Kernel",
     "url": "https://github.com/Calysto/octave_kernel"
    },
    {
     "text": "MetaKernel Magics",
     "url": "https://metakernel.readthedocs.io/en/latest/source/README.html"
    }
   ],
   "mimetype": "text/x-octave",
   "name": "octave",
   "version": "5.2.0"
  }
 },
 "nbformat": 4,
 "nbformat_minor": 4
}
