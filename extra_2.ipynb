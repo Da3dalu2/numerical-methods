{
 "cells": [
  {
   "cell_type": "markdown",
   "metadata": {},
   "source": [
    "# Tutoraggio 2"
   ]
  },
  {
   "cell_type": "code",
   "execution_count": 1,
   "metadata": {},
   "outputs": [],
   "source": [
    "addpath(\"./functions\");\n",
    "pkg load symbolic"
   ]
  },
  {
   "cell_type": "markdown",
   "metadata": {},
   "source": [
    "## Esercizio 1\n",
    "\n",
    "Si consideri la matrice:\n",
    "\n",
    "$$ A =\n",
    " \\begin{pmatrix}\n",
    "  4 & 0 & 1 & 0 \\\\\n",
    "  0 & \\alpha - 1 & 0 & 0 \\\\\n",
    "  1 & 0 & 1 & 0 \\\\\n",
    "  0 & 0 & 0 & 2\n",
    " \\end{pmatrix}\n",
    "$$\n",
    "\n",
    "in cui $\\alpha$ è parametro reale."
   ]
  },
  {
   "cell_type": "markdown",
   "metadata": {},
   "source": [
    "### Punto a\n",
    "\n",
    "Scrivere una funzione che, preso in input $\\alpha$, calcoli il numero di condizionamento in norma infinito di A, utilizzando per il calcolo di $A^{−1}$ la fattorizzazione LU di A. \n",
    "\n",
    "Testare la function con $\\alpha = 1.2 : 0.05 : 3.2$ e produrre un grafico di $K_{inf}(A)$ in funzione di $\\alpha$, confrontando i valori ottenuti con l’output del comando built-in `cond` per il calcolo del numero di condizionamento in norma infinito."
   ]
  },
  {
   "cell_type": "markdown",
   "metadata": {},
   "source": [
    "#### Soluzione\n",
    "\n",
    "Per il calcolo dell'inversa della matrice $A$ di ordine $n$ si risolvono $n$ sistemi lineari sfruttando la fattorizzazione LU, senza strategie di pivoting.\n",
    "\n",
    "Per il calcolo dell'indice di condizionamento si impiega:\n",
    "\n",
    "$$ K(A) := \\|A\\| \\|A^{-1}\\| $$\n",
    "\n",
    "In base a quanto visto nello studio del condizionamento dei sistemi lineari."
   ]
  },
  {
   "cell_type": "code",
   "execution_count": 2,
   "metadata": {},
   "outputs": [],
   "source": [
    "function [K, K_built] = cond_inf(alpha)\n",
    "\n",
    "A = [4 0 1 0; 0 alpha-1 0 0; 1 0 1 0; 0 0 0 2];\n",
    "[L, U, err] = gauss_simple(A);\n",
    "\n",
    "% Per la risoluzione si sfrutta l'equazione matriciale A * A_inv = I,\n",
    "% in particolare la forma A * A_inv(:, j) = I(:,j)\n",
    "\n",
    "A_inv = zeros(4,4);\n",
    "for j = 1:4\n",
    "    % aggiornamento del termine noto per la j-esima colonna\n",
    "    b = zeros(4,1);\n",
    "    b(j) = 1;\n",
    "\n",
    "    % in base al valore del termine noto si ottengono i valori\n",
    "    % della j-esima colonna di A_inv.\n",
    "    [x, err] = lusolve(L, U, [], [], b);\n",
    "    A_inv(:,j) = x;\n",
    "end\n",
    "\n",
    "% calcolo indice di condizionamento\n",
    "K = norm(A, inf) * norm(A_inv, inf);\n",
    "K_built = cond(A, inf);\n",
    "\n",
    "end"
   ]
  },
  {
   "cell_type": "code",
   "execution_count": 3,
   "metadata": {},
   "outputs": [
    {
     "data": {
      "image/png": "[encoded data removed]",
      "text/plain": [
       "<IPython.core.display.Image object>"
      ]
     },
     "metadata": {},
     "output_type": "display_data"
    }
   ],
   "source": [
    "alpha = 1.2 : 0.05 : 3.2;\n",
    "len_alpha = length(alpha);\n",
    "K = zeros(len_alpha, 1);\n",
    "K_built = K;\n",
    "\n",
    "for i = 1:len_alpha\n",
    "    [x, y] = cond_inf(alpha(i));\n",
    "    K(i) = x;\n",
    "    K_built(i) = y;\n",
    "end\n",
    "\n",
    "plot( alpha, K, \"ro--\", ...\n",
    "      alpha, K_built, \"b--\", ...\n",
    "      1.2, 5:30);\n",
    "legend(\"cond LU\", \"cond built-in\")\n",
    "ylabel('K_{inf}(A)')\n",
    "xlabel('\\alpha');\n",
    "box off"
   ]
  },
  {
   "cell_type": "markdown",
   "metadata": {},
   "source": [
    "Per valori di $\\alpha$ vicini a $1.2$ l'indice di condizionamento cresce notevolmente, ciò accade perché per $\\alpha = 1$ la matrice $A$ è singolare. Ciò si verifica calcolando il determinante di $A$ in funzione di $\\alpha$ e trovando gli zeri del polinomio ottenuto."
   ]
  },
  {
   "cell_type": "code",
   "execution_count": 4,
   "metadata": {},
   "outputs": [
    {
     "name": "stdout",
     "output_type": "stream",
     "text": [
      "Symbolic pkg v2.9.0: Python communication link active, SymPy v1.5.\n",
      "Determinante di A: \n",
      "ans = (sym) 6⋅α - 6\n",
      "Valori che annullano il determinante: \n",
      "ans = (sym) 1\n"
     ]
    }
   ],
   "source": [
    "syms alpha\n",
    "A = [[4 0 1 0]; 0 alpha-1 0 0; [1 0 1 0]; [0 0 0 2]];\n",
    "disp('Determinante di A: ')\n",
    "det(A)\n",
    "disp('Valori che annullano il determinante: ')\n",
    "solve(det(A))"
   ]
  },
  {
   "cell_type": "markdown",
   "metadata": {},
   "source": [
    "### Punto b\n",
    "\n",
    "Quando $\\alpha = 2$, determinare l’autovalore massimo e minimo di $A$, calcolando l’opportuno zero del polinomio caratteristico mediante il metodo di Newton."
   ]
  },
  {
   "cell_type": "markdown",
   "metadata": {},
   "source": [
    "#### Soluzione\n",
    "\n",
    "Il polinomio caratteristico è pari a: $p_{char} = \\det(A - xI)$."
   ]
  },
  {
   "cell_type": "code",
   "execution_count": 5,
   "metadata": {},
   "outputs": [
    {
     "name": "stdout",
     "output_type": "stream",
     "text": [
      "p_char = (sym)\n",
      "\n",
      "   4      3       2           \n",
      "  x  - 8⋅x  + 20⋅x  - 19⋅x + 6\n",
      "\n",
      "ans = (sym 4×1 matrix)\n",
      "\n",
      "  ⎡   1   ⎤\n",
      "  ⎢       ⎥\n",
      "  ⎢   2   ⎥\n",
      "  ⎢       ⎥\n",
      "  ⎢5   √13⎥\n",
      "  ⎢─ - ───⎥\n",
      "  ⎢2    2 ⎥\n",
      "  ⎢       ⎥\n",
      "  ⎢√13   5⎥\n",
      "  ⎢─── + ─⎥\n",
      "  ⎣ 2    2⎦\n",
      "\n",
      "x3 =  0.69722\n",
      "x4 =  4.3028\n"
     ]
    }
   ],
   "source": [
    "A = double(subs(A, alpha, 2));\n",
    "syms x\n",
    "p_char = det(A - x*eye(4))\n",
    "solve(det(A - x*eye(4)))\n",
    "x3 = (-sqrt(13) + 5) / 2\n",
    "x4 = (sqrt(13) + 5) / 2"
   ]
  },
  {
   "cell_type": "markdown",
   "metadata": {},
   "source": [
    "Dato che $\\frac{5 - \\sqrt(13)}{2} \\approx 0.7$ e $\\frac{5 + \\sqrt{13}}{2} \\approx 4.3$ si ha che l'autovalore massimo corrisponde alla soluzione più grande tra le quattro fornite, pari a $\\frac{5 + \\sqrt(13)}{2}$, mentre la soluzione più piccola è $\\frac{5 - \\sqrt{13}}{2}$."
   ]
  },
  {
   "cell_type": "markdown",
   "metadata": {},
   "source": [
    "Visto che si vogliono calcolare gli zeri corrispondenti all'autovalore massimo e minimo impiegando il metodo di Newton, è necessario calcolare la derivata del polinomio caratteristico."
   ]
  },
  {
   "cell_type": "code",
   "execution_count": 6,
   "metadata": {},
   "outputs": [
    {
     "name": "stdout",
     "output_type": "stream",
     "text": [
      "der_p_char = (sym)\n",
      "\n",
      "     3       2            \n",
      "  4⋅x  - 24⋅x  + 40⋅x - 19\n",
      "\n"
     ]
    }
   ],
   "source": [
    "der_p_char = diff(p_char)"
   ]
  },
  {
   "cell_type": "markdown",
   "metadata": {},
   "source": [
    "Bisogna considerare che l'algoritmo per il calcolo degli zeri di funzione che sfrutta il metodo di Newton funziona solo se l'approssimazione iniziale $x_0$ è scelta abbastanza vicino allo zero da trovare. In quel caso, per funzioni non convesse, la convergenza del metodo di Newton è garantita.\n",
    "\n",
    "Inoltre bisogna assicurarsi di scegliere il punto di innesco in modo da non convergere verso uno zero diverso da quello corrispondente all'autovalore massimo o minimo."
   ]
  },
  {
   "cell_type": "code",
   "execution_count": 7,
   "metadata": {},
   "outputs": [
    {
     "data": {
      "image/png": "[encoded data removed]",
      "text/plain": [
       "<IPython.core.display.Image object>"
      ]
     },
     "metadata": {},
     "output_type": "display_data"
    }
   ],
   "source": [
    "p_char = @(x) x.^4 - 8 * x.^3 + 20 * x.^2 - 19 * x + 6;\n",
    "der_p_char = @(x) 4 * x.^3 - 24 * x.^2 + 40 * x - 19;\n",
    "\n",
    "figure\n",
    "t = linspace(0, 5);\n",
    "plot( t, p_char(t), ...\n",
    "      t, der_p_char(t), ...\n",
    "      1, p_char(1), \"ro\", ... % zeri di p_char\n",
    "      2, p_char(2), \"ro\", ...\n",
    "      x3, p_char(x3), \"ro\", ...\n",
    "      x4, p_char(x4), \"ro\");\n",
    "legend(\"polinomio caratteristico\", \"derivata\");\n",
    "box off"
   ]
  },
  {
   "cell_type": "markdown",
   "metadata": {},
   "source": [
    "Considerando la convergenza locale e la distribuzione degli zeri del polinomio caratteristico, si scelgono come punti di innesco per trovare gli zeri di funzione $x_3$ e $x_4$ rispettivamente $(0, p_{char}(0))$ e $(5, p_{char}(5))$."
   ]
  },
  {
   "cell_type": "code",
   "execution_count": 19,
   "metadata": {},
   "outputs": [
    {
     "name": "stdout",
     "output_type": "stream",
     "text": [
      "x3_newton =    6.972243622680053e-01\n",
      "x3 =    6.972243622680054e-01\n",
      "x4_newton =  4.302775637731996\n",
      "x4 =  4.302775637731995\n"
     ]
    }
   ],
   "source": [
    "format long\n",
    "[x3_newton, appr_x3, nit_x3] = newton(p_char, der_p_char, ...\n",
    "    0, 10^-12, 10^-12, 100);\n",
    "[x4_newton, appr_x4, nit_x4] = newton(p_char, der_p_char, ...\n",
    "    5, 10^-12, 10^-12, 100);\n",
    "x3_newton\n",
    "x3\n",
    "x4_newton\n",
    "x4"
   ]
  },
  {
   "cell_type": "markdown",
   "metadata": {},
   "source": [
    "L'approssimazione è particolarmente buona e la velocità di convergenza è relativamente elevata."
   ]
  },
  {
   "cell_type": "code",
   "execution_count": 9,
   "metadata": {},
   "outputs": [
    {
     "name": "stdout",
     "output_type": "stream",
     "text": [
      "Numero di iterazioni richieste per approssimare x3: 8\n",
      "Numero di iterazioni richieste per approssimare x4: 6\n"
     ]
    }
   ],
   "source": [
    "fprintf(\"Numero di iterazioni richieste per approssimare x3: %.i\\n\", ...\n",
    "    nit_x3);\n",
    "fprintf(\"Numero di iterazioni richieste per approssimare x4: %.i\\n\", ...\n",
    "    nit_x4);"
   ]
  },
  {
   "cell_type": "markdown",
   "metadata": {},
   "source": [
    "## Esercizio 2\n",
    "\n",
    "Si consideri la matrice $n \\times n$: $A = B^T B$\n",
    "\n",
    "dove `B = (1/n) * hilb(n) + diag(1:n)`."
   ]
  },
  {
   "cell_type": "markdown",
   "metadata": {},
   "source": [
    "### Punto a\n",
    "\n",
    "a) si calcola la fattorizzazione $LL^T$ di $A$ per valori di `n = 10 : 1 : 50` mediante l’algoritmo di Cholesky built-in;\n"
   ]
  },
  {
   "cell_type": "markdown",
   "metadata": {},
   "source": [
    "### Punto b\n",
    "\n",
    "Per ogni `n = 10 : 1 : 50` si determina la soluzione del sistema lineare $Ax = b$ con termine noto `b = A ∗ (1 : n)'` sfruttando la fattorizzazione calcolata al punto a);"
   ]
  },
  {
   "cell_type": "markdown",
   "metadata": {},
   "source": [
    "### Punto c\n",
    "\n",
    "Per ogni `n = 10 : 1 : 50` si confronta la soluzione ottenuta al punto b) con quella restituita dal metodo di eliminazione gaussiana senza pivoting, mostrando in un grafico gli errori relativi generati dai due metodi al variare di $n$. Commentare i risultati ottenuti nel grafico."
   ]
  },
  {
   "cell_type": "markdown",
   "metadata": {},
   "source": [
    "#### Soluzione\n",
    "\n",
    "I tre punti, per come sono formulati, possono essere risolti simultaneamente."
   ]
  },
  {
   "cell_type": "code",
   "execution_count": 10,
   "metadata": {},
   "outputs": [],
   "source": [
    "n = (10 : 1 : 50);\n",
    "N = length(n);\n",
    "err_rel_chol = zeros(N, 1);\n",
    "err_rel_gauss = zeros(N, 1);\n",
    "\n",
    "for k = 1:N\n",
    "    B = (1 / n(k)) * hilb(n(k)) + diag(1:n(k));\n",
    "    A = B' * B;\n",
    "    \n",
    "    x_esatta = (1:n(k))';\n",
    "    b = A * x_esatta;\n",
    "    \n",
    "    [R, p] = chol(A, 'lower');\n",
    "    %x_chol = lusolve(R, R', [], [], b);\n",
    "    y = lsolve(R, b);\n",
    "    x_chol = usolve(R', y);\n",
    "    \n",
    "    [L, U, err] = gauss_simple(A);\n",
    "    x_gauss = lusolve(L, U, [], [], b);\n",
    "    \n",
    "    err_rel_chol(k) = norm(x_esatta - x_chol) / ...\n",
    "        norm(x_esatta);\n",
    "    err_rel_gauss(k) = norm(x_esatta - x_gauss) / ...\n",
    "        norm(x_esatta);\n",
    "end"
   ]
  },
  {
   "cell_type": "markdown",
   "metadata": {},
   "source": [
    "Le matrici di Hilbert sono il classico esempio di matrici mal condizionate. Tuttavia gli si sta sommando una matrice diagonale, ben condizionata, con termini tutti interi e positivi. Ciò permette di ottenere matrici che non sono particolarmente mal condizionate."
   ]
  },
  {
   "cell_type": "code",
   "execution_count": 17,
   "metadata": {},
   "outputs": [
    {
     "data": {
      "image/png": "[encoded data removed]",
      "text/plain": [
       "<IPython.core.display.Image object>"
      ]
     },
     "metadata": {},
     "output_type": "display_data"
    }
   ],
   "source": [
    "figure\n",
    "plot( n, err_rel_chol, \"-*\", ...\n",
    "      n, err_rel_gauss, \"o-\");\n",
    "legend(\"err rel cholesky\", \"err rel gauss\");\n",
    "box off"
   ]
  },
  {
   "cell_type": "markdown",
   "metadata": {},
   "source": [
    "Sia l'algoritmo di Gauss senza strategie di pivoting che l'algoritmo di Cholesky risultano stabili. Ciò significa che le matrici fornite in input sono ben formate. L'errore relativo è molto piccolo $\\left(10^{-16}\\right)$ e vicino per ordine di grandezza alla precisione di macchina."
   ]
  }
 ],
 "metadata": {
  "kernelspec": {
   "display_name": "Octave",
   "language": "octave",
   "name": "octave"
  },
  "language_info": {
   "file_extension": ".m",
   "help_links": [
    {
     "text": "GNU Octave",
     "url": "https://www.gnu.org/software/octave/support.html"
    },
    {
     "text": "Octave Kernel",
     "url": "https://github.com/Calysto/octave_kernel"
    },
    {
     "text": "MetaKernel Magics",
     "url": "https://metakernel.readthedocs.io/en/latest/source/README.html"
    }
   ],
   "mimetype": "text/x-octave",
   "name": "octave",
   "version": "5.2.0"
  }
 },
 "nbformat": 4,
 "nbformat_minor": 4
}
